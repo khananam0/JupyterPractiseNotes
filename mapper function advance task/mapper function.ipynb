{
 "cells": [
  {
   "cell_type": "markdown",
   "id": "96c257eb",
   "metadata": {},
   "source": [
    "1) Using map/fillter:\n",
    "1,2,3,4 o/p= 2,4,18,32,64"
   ]
  },
  {
   "cell_type": "code",
   "execution_count": 14,
   "id": "6d83e119",
   "metadata": {},
   "outputs": [
    {
     "name": "stdout",
     "output_type": "stream",
     "text": [
      "3\n",
      "4\n",
      "5\n",
      "6\n",
      "[3, 4, 5, 6]\n",
      "[18, 32, 50, 72]\n"
     ]
    }
   ],
   "source": [
    "a=[1,2,3,4]\n",
    "# b=int(input()).split(\"\")\n",
    "def add(n):\n",
    "    return n+n\n",
    "res=list(map(add,a))\n",
    "\n",
    "\n",
    "def mul(b,a):\n",
    "    return b*a\n",
    "val=list(map(mul,res,a))\n",
    "# print(val)\n",
    "\n",
    "# def add(n):\n",
    "#     res=n+n\n",
    "#     return res*n\n",
    "# z=list(map(add,a))\n",
    "# print(z)\n",
    "# -------------------------\n",
    "b=[]\n",
    "for i in range(1,5):\n",
    "    c=int(input())\n",
    "    b.append(c)\n",
    "print(b)\n",
    "\n",
    "def square(n):\n",
    "#     res = n*n\n",
    "    res = n+n\n",
    "#     return res+n\n",
    "    return res*n\n",
    "val=list(map(square,b))\n",
    "print(val)\n",
    "\n"
   ]
  },
  {
   "cell_type": "code",
   "execution_count": 7,
   "id": "c1723c55",
   "metadata": {},
   "outputs": [
    {
     "name": "stdout",
     "output_type": "stream",
     "text": [
      "1234\n"
     ]
    },
    {
     "data": {
      "text/plain": [
       "[2, 8, 18, 32]"
      ]
     },
     "execution_count": 7,
     "metadata": {},
     "output_type": "execute_result"
    }
   ],
   "source": [
    "def add():\n",
    "    return lambda x:x+x\n",
    "def square():\n",
    "    return lambda x:x*x\n",
    "funcs=[add(),square()]\n",
    "\n",
    "def cmap(funcs,arr):\n",
    "    result=list(map(funcs[1],arr))\n",
    "    final=list(map(funcs[0],result))\n",
    "    return final\n",
    "\n",
    "# arr=list(map(int,input().strip().split(\" \")))\n",
    "arr=list(map(int,input()))\n",
    "cmap(funcs,arr)"
   ]
  },
  {
   "cell_type": "markdown",
   "id": "0a5dfad4",
   "metadata": {},
   "source": [
    "##### 2) Using Decorator Divisor/0 raise error"
   ]
  },
  {
   "cell_type": "code",
   "execution_count": null,
   "id": "02625d4f",
   "metadata": {},
   "outputs": [],
   "source": [
    "def bigdivisor(fun):\n",
    "    def inner(a,b):\n",
    "        print(\"Will divide\",a,\"by\",b)\n",
    "        if b==0:\n",
    "            print(\"Whoops i cannot divide by Zero\")\n",
    "        else:\n",
    "            return fun(a,b)\n",
    "    return inner\n",
    "\n",
    "# @bigdivisor\n",
    "def divided(a,b):\n",
    "    print(a/b)\n",
    "div1=bigdivisor(divided)\n",
    "div1(2,2)\n",
    "# divided(int(input()),int(input()))\n",
    "\n"
   ]
  },
  {
   "cell_type": "code",
   "execution_count": 3,
   "id": "f77dc631",
   "metadata": {},
   "outputs": [
    {
     "name": "stdout",
     "output_type": "stream",
     "text": [
      "Will divide 2 by 2\n"
     ]
    },
    {
     "ename": "TypeError",
     "evalue": "divided() missing 2 required positional arguments: 'a' and 'b'",
     "output_type": "error",
     "traceback": [
      "\u001b[1;31m---------------------------------------------------------------------------\u001b[0m",
      "\u001b[1;31mTypeError\u001b[0m                                 Traceback (most recent call last)",
      "Input \u001b[1;32mIn [3]\u001b[0m, in \u001b[0;36m<cell line: 18>\u001b[1;34m()\u001b[0m\n\u001b[0;32m     15\u001b[0m     \u001b[38;5;28;01mexcept\u001b[39;00m \u001b[38;5;167;01mTypeError\u001b[39;00m:\n\u001b[0;32m     16\u001b[0m         \u001b[38;5;28mprint\u001b[39m(\u001b[38;5;124m\"\u001b[39m\u001b[38;5;124mWhoops i cannot divide by Zero\u001b[39m\u001b[38;5;124m\"\u001b[39m)\n\u001b[1;32m---> 18\u001b[0m \u001b[43mdivided\u001b[49m\u001b[43m(\u001b[49m\u001b[38;5;241;43m2\u001b[39;49m\u001b[43m,\u001b[49m\u001b[38;5;241;43m2\u001b[39;49m\u001b[43m)\u001b[49m\n",
      "Input \u001b[1;32mIn [3]\u001b[0m, in \u001b[0;36mbigdivisor.<locals>.inner\u001b[1;34m(a, b)\u001b[0m\n\u001b[0;32m      2\u001b[0m \u001b[38;5;28;01mdef\u001b[39;00m \u001b[38;5;21minner\u001b[39m(a,b):\n\u001b[0;32m      3\u001b[0m     \u001b[38;5;28mprint\u001b[39m(\u001b[38;5;124m\"\u001b[39m\u001b[38;5;124mWill divide\u001b[39m\u001b[38;5;124m\"\u001b[39m,a,\u001b[38;5;124m\"\u001b[39m\u001b[38;5;124mby\u001b[39m\u001b[38;5;124m\"\u001b[39m,b)\n\u001b[1;32m----> 4\u001b[0m     \u001b[43mfun\u001b[49m\u001b[43m(\u001b[49m\u001b[43m)\u001b[49m\n",
      "\u001b[1;31mTypeError\u001b[0m: divided() missing 2 required positional arguments: 'a' and 'b'"
     ]
    }
   ],
   "source": [
    "def bigdivisor(fun):\n",
    "    def inner(a,b):\n",
    "        print(\"Will divide\",a,\"by\",b)\n",
    "        try:\n",
    "            \n",
    "        print(a/b)\n",
    "    except TypeError:\n",
    "        print(\"Whoops i cannot divide by Zero\")\n",
    "#         if b==0:\n",
    "#             print(\"Whoops i cannot divide by Zero\")\n",
    "#         else:\n",
    "#             return fun(a,b)\n",
    "    return inner\n",
    "\n",
    "@bigdivisor\n",
    "def divided(a,b):\n",
    "#     try:\n",
    "#         print(a/b)\n",
    "#     except TypeError:\n",
    "#         print(\"Whoops i cannot divide by Zero\")\n",
    "        \n",
    "divided(2,2)\n",
    "\n"
   ]
  },
  {
   "cell_type": "markdown",
   "id": "5099016c",
   "metadata": {},
   "source": [
    "# Question from whtsapp grp"
   ]
  },
  {
   "cell_type": "markdown",
   "id": "174e59cd",
   "metadata": {},
   "source": [
    "1) car=[{'car':\"Ford\",\"year\":2005},\n",
    "    {\"car\":\"Mitsubishi\",\"year\":2000},\n",
    "    {\"car\":\"BMW\",\"year\":2019},\n",
    "    {\"car\":\"VW\",\"year\":2011},  \n",
    "    ]  \n",
    "    Sort this list of dictionary by year"
   ]
  },
  {
   "cell_type": "code",
   "execution_count": 127,
   "id": "45543f47",
   "metadata": {},
   "outputs": [
    {
     "name": "stdout",
     "output_type": "stream",
     "text": [
      "[{'car': 'Mitsubishi', 'year': 2000}, {'car': 'Ford', 'year': 2005}, {'car': 'VW', 'year': 2011}, {'car': 'BMW', 'year': 2019}]\n"
     ]
    }
   ],
   "source": [
    "car=[{'car':\"Ford\",\"year\":2005},\n",
    "    {\"car\":\"Mitsubishi\",\"year\":2000},\n",
    "    {\"car\":\"BMW\",\"year\":2019},\n",
    "    {\"car\":\"VW\",\"year\":2011},]\n",
    "\n",
    "# car.sort(key=lambda x:x.get(\"year\"))\n",
    "car.sort(key=lambda x:x.get(\"year\",\"car\"))\n",
    "print(car)\n",
    "\n",
    "# for i in car:\n",
    "#     for j,k in i.items():\n",
    "#         print(k,j)"
   ]
  },
  {
   "cell_type": "code",
   "execution_count": 54,
   "id": "4f880880",
   "metadata": {},
   "outputs": [
    {
     "name": "stdout",
     "output_type": "stream",
     "text": [
      "[{'car': 'Mitsubishi', 'year': 2000}, {'car': 'Ford', 'year': 2005}, {'car': 'VW', 'year': 2011}, {'car': 'BMW', 'year': 2019}]\n"
     ]
    }
   ],
   "source": [
    "# Alternative method for Question 1\n",
    "\n",
    "def myFunc(e):\n",
    "  return e['year']\n",
    "\n",
    "cars = [\n",
    "  {'car': 'Ford', 'year': 2005},\n",
    "  {'car': 'Mitsubishi', 'year': 2000},\n",
    "  {'car': 'BMW', 'year': 2019},\n",
    "  {'car': 'VW', 'year': 2011}\n",
    "]\n",
    "\n",
    "cars.sort(key=myFunc)\n",
    "\n",
    "print(cars)\n"
   ]
  },
  {
   "cell_type": "code",
   "execution_count": 9,
   "id": "5c1031d5",
   "metadata": {},
   "outputs": [
    {
     "name": "stdout",
     "output_type": "stream",
     "text": [
      "[{'car': 'Mitsubishi', 'year': 2000}, {'car': 'Ford', 'year': 2005}, {'car': 'BMW', 'year': 2019}, {'car': 'BMW', 'year': 2019}]\n"
     ]
    }
   ],
   "source": [
    "# Sorted\n",
    "cars = [\n",
    "  {'car': 'Ford', 'year': 2005},\n",
    "  {'car': 'Mitsubishi', 'year': 2000},\n",
    "  {'car': 'BMW', 'year': 2019},\n",
    "#   {'car': 'VW', 'year': 2011}\n",
    "  {'car': 'BMW', 'year': 2019}\n",
    "\n",
    "]\n",
    "\n",
    "\n",
    "# print(sorted(cars,key=lambda i:i[\"year\"]))\n",
    "print(sorted(cars,key=lambda i:(i[\"year\"],i[\"car\"])))\n",
    "\n"
   ]
  },
  {
   "cell_type": "code",
   "execution_count": 40,
   "id": "ccab3304",
   "metadata": {},
   "outputs": [
    {
     "name": "stdout",
     "output_type": "stream",
     "text": [
      "2005\n",
      "2000\n",
      "2019\n",
      "2011\n"
     ]
    }
   ],
   "source": [
    "car=[{'car':\"Ford\",\"year\":2005},\n",
    "    {\"car\":\"Mitsubishi\",\"year\":2000},\n",
    "    {\"car\":\"BMW\",\"year\":2019},\n",
    "    {\"car\":\"VW\",\"year\":2011},]\n",
    "\n",
    "for i in car:\n",
    "    print(i.get(\"year\"))\n",
    "    \n",
    "\n",
    "        "
   ]
  },
  {
   "cell_type": "markdown",
   "id": "85acb847",
   "metadata": {},
   "source": [
    "2) cars=['Ford',\"Mitsubishi\",'BMW','VM']. Sort this list by length of string min to max"
   ]
  },
  {
   "cell_type": "code",
   "execution_count": 99,
   "id": "ee9372c7",
   "metadata": {},
   "outputs": [
    {
     "name": "stdout",
     "output_type": "stream",
     "text": [
      "['Ford', 'BMW', 'VM']\n"
     ]
    }
   ],
   "source": [
    "cars=['Ford',\"Mitsubishi\",'BMW','VM']\n",
    "val=len(cars[0])\n",
    "var=[]\n",
    "\n",
    "# for i in cars:\n",
    "#     s=len(i)\n",
    "#     print(s,end=\",\")\n",
    "\n",
    "for i in cars:\n",
    "    if len(i)<=val:\n",
    "        var.append(i)\n",
    "#         var=i\n",
    "\n",
    "print(var)"
   ]
  },
  {
   "cell_type": "code",
   "execution_count": 10,
   "id": "955bb0b3",
   "metadata": {},
   "outputs": [
    {
     "name": "stdout",
     "output_type": "stream",
     "text": [
      "['VM', 'BMW', 'Ford', 'Mitsubishi']\n"
     ]
    }
   ],
   "source": [
    "def lensort(a):\n",
    "    n = len(a)\n",
    "    for i in range(n):\n",
    "        for j in range(i+1,n):\n",
    "            if len(a[i]) > len(a[j]):\n",
    "                temp = a[i]\n",
    "#                 print(\"temp\",temp,end=\"\")\n",
    "                a[i] = a[j]\n",
    "                a[j] = temp\n",
    "    return a\n",
    "#     print(a)\n",
    "\n",
    "print(lensort(['Ford',\"Mitsubishi\",'BMW','VM']))"
   ]
  },
  {
   "cell_type": "code",
   "execution_count": 53,
   "id": "b58b5283",
   "metadata": {},
   "outputs": [
    {
     "name": "stdout",
     "output_type": "stream",
     "text": [
      "['Mitsubishi', 'Ford', 'BMW', 'VW']\n"
     ]
    }
   ],
   "source": [
    "# Alternative For Python Pactise\n",
    "\n",
    "def myFunc(e):\n",
    "  return len(e)\n",
    "\n",
    "cars = ['Ford', 'Mitsubishi', 'BMW', 'VW']\n",
    "\n",
    "cars.sort(reverse=True, key=myFunc)\n",
    "\n",
    "print(cars)\n"
   ]
  },
  {
   "cell_type": "code",
   "execution_count": 120,
   "id": "a63f9d22",
   "metadata": {},
   "outputs": [
    {
     "name": "stdout",
     "output_type": "stream",
     "text": [
      "['VW', 'Mitsubishi', 'Ford', 'BMW']\n",
      "['VW', 'BMW', 'Mitsubishi', 'Ford']\n",
      "['VW', 'BMW', 'Ford', 'Mitsubishi']\n",
      "['VW', 'BMW', 'Ford', 'Mitsubishi']\n"
     ]
    }
   ],
   "source": [
    "ls=['Ford', 'Mitsubishi', 'BMW', 'VW']\n",
    "def sorto(lst2):\n",
    "    for i in range(len(lst2)):\n",
    "        for j in range(i+1,len(lst2)):\n",
    "            if len(lst2[i])>len(lst2[j]):\n",
    "                lst2[i],lst2[j]=lst2[j],lst2[i]\n",
    "        print(lst2)\n",
    "sorto(ls)          "
   ]
  },
  {
   "cell_type": "code",
   "execution_count": 13,
   "id": "a73a0ffb",
   "metadata": {},
   "outputs": [
    {
     "name": "stdout",
     "output_type": "stream",
     "text": [
      "<class 'dict'>\n"
     ]
    }
   ],
   "source": [
    "a={}\n",
    "print(type(a))"
   ]
  },
  {
   "cell_type": "code",
   "execution_count": 17,
   "id": "4fd662b7",
   "metadata": {},
   "outputs": [
    {
     "name": "stdout",
     "output_type": "stream",
     "text": [
      "None\n"
     ]
    }
   ],
   "source": [
    "a=None\n",
    "print(a)"
   ]
  },
  {
   "cell_type": "code",
   "execution_count": 18,
   "id": "ca6bfa76",
   "metadata": {},
   "outputs": [
    {
     "name": "stdout",
     "output_type": "stream",
     "text": [
      "4\n"
     ]
    }
   ],
   "source": [
    "a=14\n",
    "b=4\n",
    "print(a and b)"
   ]
  },
  {
   "cell_type": "code",
   "execution_count": 22,
   "id": "95b80a41",
   "metadata": {},
   "outputs": [
    {
     "name": "stdout",
     "output_type": "stream",
     "text": [
      "4\n"
     ]
    }
   ],
   "source": [
    "a=8\n",
    "b=5\n",
    "print(a & b)\n",
    "\n",
    "a=14\n",
    "b=4\n",
    "print()"
   ]
  },
  {
   "cell_type": "code",
   "execution_count": null,
   "id": "32d55310",
   "metadata": {},
   "outputs": [],
   "source": []
  }
 ],
 "metadata": {
  "kernelspec": {
   "display_name": "Python 3 (ipykernel)",
   "language": "python",
   "name": "python3"
  },
  "language_info": {
   "codemirror_mode": {
    "name": "ipython",
    "version": 3
   },
   "file_extension": ".py",
   "mimetype": "text/x-python",
   "name": "python",
   "nbconvert_exporter": "python",
   "pygments_lexer": "ipython3",
   "version": "3.10.4"
  }
 },
 "nbformat": 4,
 "nbformat_minor": 5
}
