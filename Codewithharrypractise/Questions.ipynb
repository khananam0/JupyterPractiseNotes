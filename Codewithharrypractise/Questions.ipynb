{
 "cells": [
  {
   "cell_type": "markdown",
   "id": "0c45f488",
   "metadata": {},
   "source": [
    "1) Python Program to find the average of two number"
   ]
  },
  {
   "cell_type": "code",
   "execution_count": 1,
   "id": "e78ce1c3",
   "metadata": {},
   "outputs": [
    {
     "name": "stdout",
     "output_type": "stream",
     "text": [
      "56.0\n"
     ]
    }
   ],
   "source": [
    "a=10\n",
    "b=45\n",
    "c=3\n",
    "val=a+b+c/3\n",
    "print(val)"
   ]
  },
  {
   "cell_type": "markdown",
   "id": "d4bd7d77",
   "metadata": {},
   "source": [
    "2)Find the square of anumber"
   ]
  },
  {
   "cell_type": "code",
   "execution_count": 13,
   "id": "9b94497a",
   "metadata": {},
   "outputs": [
    {
     "name": "stdout",
     "output_type": "stream",
     "text": [
      "4\n"
     ]
    }
   ],
   "source": [
    "a=2\n",
    "squ=a*a\n",
    "print(squ)"
   ]
  },
  {
   "cell_type": "code",
   "execution_count": 2,
   "id": "e4499024",
   "metadata": {},
   "outputs": [
    {
     "name": "stdout",
     "output_type": "stream",
     "text": [
      "doing outer loop\n",
      "i= 0\n",
      "doing inner loop\n",
      "p= 0\n",
      "doing inner loop\n",
      "p= 1\n",
      "doing inner loop\n",
      "p= 2\n",
      "doing inner loop\n",
      "p= 3\n",
      "breaking from inner loop\n",
      "doing some code in outer loop\n",
      "doing outer loop\n",
      "i= 1\n",
      "doing inner loop\n",
      "p= 0\n",
      "doing inner loop\n",
      "p= 1\n",
      "doing inner loop\n",
      "p= 2\n",
      "doing inner loop\n",
      "p= 3\n",
      "breaking from inner loop\n",
      "doing some code in outer loop\n",
      "doing outer loop\n",
      "i= 2\n",
      "doing inner loop\n",
      "p= 0\n",
      "doing inner loop\n",
      "p= 1\n",
      "doing inner loop\n",
      "p= 2\n",
      "doing inner loop\n",
      "p= 3\n",
      "breaking from inner loop\n",
      "doing some code in outer loop\n",
      "doing outer loop\n",
      "i= 3\n",
      "doing inner loop\n",
      "p= 0\n",
      "doing inner loop\n",
      "p= 1\n",
      "doing inner loop\n",
      "p= 2\n",
      "doing inner loop\n",
      "p= 3\n",
      "breaking from inner loop\n",
      "doing some code in outer loop\n",
      "doing outer loop\n",
      "i= 4\n",
      "doing inner loop\n",
      "p= 0\n",
      "doing inner loop\n",
      "p= 1\n",
      "doing inner loop\n",
      "p= 2\n",
      "doing inner loop\n",
      "p= 3\n",
      "breaking from inner loop\n",
      "doing some code in outer loop\n",
      "doing outer loop\n",
      "i= 5\n",
      "doing inner loop\n",
      "p= 0\n",
      "doing inner loop\n",
      "p= 1\n",
      "doing inner loop\n",
      "p= 2\n",
      "doing inner loop\n",
      "p= 3\n",
      "breaking from inner loop\n",
      "doing some code in outer loop\n",
      "doing outer loop\n",
      "i= 6\n",
      "doing inner loop\n",
      "p= 0\n",
      "doing inner loop\n",
      "p= 1\n",
      "doing inner loop\n",
      "p= 2\n",
      "doing inner loop\n",
      "p= 3\n",
      "breaking from inner loop\n",
      "doing some code in outer loop\n",
      "doing outer loop\n",
      "i= 7\n",
      "doing inner loop\n",
      "p= 0\n",
      "doing inner loop\n",
      "p= 1\n",
      "doing inner loop\n",
      "p= 2\n",
      "doing inner loop\n",
      "p= 3\n",
      "breaking from inner loop\n",
      "doing some code in outer loop\n",
      "doing outer loop\n",
      "i= 8\n",
      "doing inner loop\n",
      "p= 0\n",
      "doing inner loop\n",
      "p= 1\n",
      "doing inner loop\n",
      "p= 2\n",
      "doing inner loop\n",
      "p= 3\n",
      "breaking from inner loop\n",
      "doing some code in outer loop\n",
      "doing outer loop\n",
      "i= 9\n",
      "doing inner loop\n",
      "p= 0\n",
      "doing inner loop\n",
      "p= 1\n",
      "doing inner loop\n",
      "p= 2\n",
      "doing inner loop\n",
      "p= 3\n",
      "breaking from inner loop\n",
      "doing some code in outer loop\n"
     ]
    }
   ],
   "source": [
    "for i in range(10):\n",
    "    print(\"doing outer loop\")\n",
    "    print(\"i=\",i)\n",
    "    for p in range(10):\n",
    "        print(\"doing inner loop\")\n",
    "        print(\"p=\",p)\n",
    "        if p==3:\n",
    "            print(\"breaking from inner loop\")\n",
    "            break\n",
    "    print(\"doing some code in outer loop\")"
   ]
  },
  {
   "cell_type": "code",
   "execution_count": 14,
   "id": "b7eab27e",
   "metadata": {},
   "outputs": [
    {
     "name": "stdout",
     "output_type": "stream",
     "text": [
      "0 0\n",
      "0 1\n",
      "0 2\n",
      "1 0\n",
      "1 1\n",
      "1 2\n",
      "done\n"
     ]
    }
   ],
   "source": [
    "for i in range(3):\n",
    "    for j in range(3):\n",
    "        if i==2:\n",
    "            continue\n",
    "        else:\n",
    "            print(i,j)\n",
    "print(\"done\")\n",
    "        "
   ]
  },
  {
   "cell_type": "code",
   "execution_count": null,
   "id": "05bdfa1b",
   "metadata": {},
   "outputs": [],
   "source": []
  }
 ],
 "metadata": {
  "kernelspec": {
   "display_name": "Python 3 (ipykernel)",
   "language": "python",
   "name": "python3"
  },
  "language_info": {
   "codemirror_mode": {
    "name": "ipython",
    "version": 3
   },
   "file_extension": ".py",
   "mimetype": "text/x-python",
   "name": "python",
   "nbconvert_exporter": "python",
   "pygments_lexer": "ipython3",
   "version": "3.10.4"
  }
 },
 "nbformat": 4,
 "nbformat_minor": 5
}
