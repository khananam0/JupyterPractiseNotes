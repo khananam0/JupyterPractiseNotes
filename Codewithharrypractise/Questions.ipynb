{
 "cells": [
  {
   "cell_type": "markdown",
   "id": "0c45f488",
   "metadata": {},
   "source": [
    "1) Python Program to find the average of two number"
   ]
  },
  {
   "cell_type": "code",
   "execution_count": 3,
   "id": "e78ce1c3",
   "metadata": {},
   "outputs": [
    {
     "name": "stdout",
     "output_type": "stream",
     "text": [
      "56.0\n"
     ]
    }
   ],
   "source": [
    "a=10\n",
    "b=45\n",
    "c=3\n",
    "val=a+b+c/3\n",
    "print(val)"
   ]
  },
  {
   "cell_type": "markdown",
   "id": "d4bd7d77",
   "metadata": {},
   "source": [
    "2)Find the square of anumber"
   ]
  },
  {
   "cell_type": "code",
   "execution_count": null,
   "id": "9b94497a",
   "metadata": {},
   "outputs": [],
   "source": [
    "a=2\n",
    "squ=a*a\n",
    "print(squ)"
   ]
  },
  {
   "cell_type": "code",
   "execution_count": null,
   "id": "e4499024",
   "metadata": {},
   "outputs": [],
   "source": []
  }
 ],
 "metadata": {
  "kernelspec": {
   "display_name": "Python 3 (ipykernel)",
   "language": "python",
   "name": "python3"
  },
  "language_info": {
   "codemirror_mode": {
    "name": "ipython",
    "version": 3
   },
   "file_extension": ".py",
   "mimetype": "text/x-python",
   "name": "python",
   "nbconvert_exporter": "python",
   "pygments_lexer": "ipython3",
   "version": "3.10.4"
  }
 },
 "nbformat": 4,
 "nbformat_minor": 5
}
