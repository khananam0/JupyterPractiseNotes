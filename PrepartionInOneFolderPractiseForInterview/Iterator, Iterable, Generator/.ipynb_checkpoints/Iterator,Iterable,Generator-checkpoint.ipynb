{
 "cells": [
  {
   "cell_type": "markdown",
   "id": "eebb897e",
   "metadata": {},
   "source": [
    "# * Iterable\n",
    "    a) DEFINATION:\n",
    "       1)  Object That can be iterated in iterable.\n",
    "                 Or\n",
    "       2)  Anything that can loop over.\n",
    "    b) Base class has iter() function."
   ]
  },
  {
   "cell_type": "markdown",
   "id": "7e33b5af",
   "metadata": {},
   "source": [
    "# # Iterator\n",
    "        An Object that can return data one at a time while iterating over it.\n",
    "        For Object to be an iterator, two methods:\n",
    "           1) __iter__()\n",
    "           2) next()"
   ]
  },
  {
   "cell_type": "code",
   "execution_count": 49,
   "id": "0845d044",
   "metadata": {},
   "outputs": [
    {
     "ename": "SyntaxError",
     "evalue": "invalid syntax (558255273.py, line 7)",
     "output_type": "error",
     "traceback": [
      "\u001b[1;36m  Input \u001b[1;32mIn [49]\u001b[1;36m\u001b[0m\n\u001b[1;33m    While True:\u001b[0m\n\u001b[1;37m          ^\u001b[0m\n\u001b[1;31mSyntaxError\u001b[0m\u001b[1;31m:\u001b[0m invalid syntax\n"
     ]
    }
   ],
   "source": [
    "container1=iter([1,2,3,4])\n",
    "\"\"\" print(dir(container1)) \"\"\" \n",
    "# print(next(container1))\n",
    "# print(next(container1))\n",
    "# print(next(container1))\n",
    "# print(next(container1))\n",
    "While True:\n",
    "    try:\n",
    "        print(next(container1))\n",
    "        \n",
    "    except ValueError:\n",
    "        print(\"valueError\")\n",
    "\n",
    "    except StopIteration:\n",
    "        print(\"Cant iterate now\")\n",
    "\n",
    "    except Exception as e:\n",
    "        print(\"DOnt know\",e)"
   ]
  },
  {
   "cell_type": "code",
   "execution_count": null,
   "id": "4496da19",
   "metadata": {},
   "outputs": [],
   "source": []
  },
  {
   "cell_type": "code",
   "execution_count": null,
   "id": "a865ba67",
   "metadata": {},
   "outputs": [],
   "source": []
  },
  {
   "cell_type": "markdown",
   "id": "7bbb5507",
   "metadata": {},
   "source": [
    "# "
   ]
  },
  {
   "cell_type": "code",
   "execution_count": null,
   "id": "386bfca2",
   "metadata": {},
   "outputs": [],
   "source": []
  }
 ],
 "metadata": {
  "kernelspec": {
   "display_name": "Python 3 (ipykernel)",
   "language": "python",
   "name": "python3"
  },
  "language_info": {
   "codemirror_mode": {
    "name": "ipython",
    "version": 3
   },
   "file_extension": ".py",
   "mimetype": "text/x-python",
   "name": "python",
   "nbconvert_exporter": "python",
   "pygments_lexer": "ipython3",
   "version": "3.10.4"
  }
 },
 "nbformat": 4,
 "nbformat_minor": 5
}
