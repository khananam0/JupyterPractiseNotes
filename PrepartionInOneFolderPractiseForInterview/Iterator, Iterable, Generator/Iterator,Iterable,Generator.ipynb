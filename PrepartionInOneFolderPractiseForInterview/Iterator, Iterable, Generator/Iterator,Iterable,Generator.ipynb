{
 "cells": [
  {
   "cell_type": "markdown",
   "id": "ac6dd6b5",
   "metadata": {},
   "source": [
    "# * Iterable\n",
    "    a) DEFINATION:\n",
    "       1)  Object That can be iterated in iterable.\n",
    "                 Or\n",
    "       2)  Anything that can loop over.\n",
    "    b) Base class has iter() function."
   ]
  },
  {
   "cell_type": "markdown",
   "id": "d6b69bda",
   "metadata": {},
   "source": [
    "# # Iterator\n",
    "        An Object that can return data one at a time while iterating over it.\n",
    "        For Object to be an iterator, two methods:\n",
    "           1) __iter__()\n",
    "           2) next()"
   ]
  },
  {
   "cell_type": "code",
   "execution_count": 4,
   "id": "74dc8d92",
   "metadata": {},
   "outputs": [
    {
     "name": "stdout",
     "output_type": "stream",
     "text": [
      "1\n",
      "2\n",
      "3\n",
      "4\n",
      "Cant iterate now\n"
     ]
    }
   ],
   "source": [
    "container1=iter([1,2,3,4])\n",
    "\"\"\" print(dir(container1)) \"\"\" \n",
    "# print(next(container1))\n",
    "# print(next(container1))\n",
    "# print(next(container1))\n",
    "# print(next(container1))\n",
    "while True:\n",
    "    try:\n",
    "        print(next(container1))\n",
    "        \n",
    "    except ValueError:\n",
    "        print(\"valueError\")\n",
    "\n",
    "    except StopIteration:\n",
    "        print(\"Cant iterate now\")\n",
    "        break\n",
    "\n",
    "    except Exception as e:\n",
    "        print(\"DOnt know\",e)\n",
    "        break"
   ]
  },
  {
   "cell_type": "markdown",
   "id": "82dfd2e6",
   "metadata": {},
   "source": [
    "# Generator\n",
    "    "
   ]
  },
  {
   "cell_type": "code",
   "execution_count": null,
   "id": "fd8cc44e",
   "metadata": {},
   "outputs": [],
   "source": []
  },
  {
   "cell_type": "markdown",
   "id": "bf459b78",
   "metadata": {},
   "source": []
  },
  {
   "cell_type": "code",
   "execution_count": null,
   "id": "0a482a25",
   "metadata": {},
   "outputs": [],
   "source": []
  }
 ],
 "metadata": {
  "kernelspec": {
   "display_name": "Python 3 (ipykernel)",
   "language": "python",
   "name": "python3"
  },
  "language_info": {
   "codemirror_mode": {
    "name": "ipython",
    "version": 3
   },
   "file_extension": ".py",
   "mimetype": "text/x-python",
   "name": "python",
   "nbconvert_exporter": "python",
   "pygments_lexer": "ipython3",
   "version": "3.10.4"
  }
 },
 "nbformat": 4,
 "nbformat_minor": 5
}
