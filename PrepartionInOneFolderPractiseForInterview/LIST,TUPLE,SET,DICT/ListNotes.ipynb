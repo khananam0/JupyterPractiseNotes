{
 "cells": [
  {
   "cell_type": "markdown",
   "id": "7dff59d8",
   "metadata": {},
   "source": [
    "# List\n",
    "       1- An ordered sequence of items.\n",
    "       2- List in python are: [Mutable-can modify, Ordered, Changeable, Heterogenous, Contains Duplicate]\n",
    "       \n",
    "       \n",
    "       \n",
    "       "
   ]
  },
  {
   "cell_type": "markdown",
   "id": "cd2af9c5",
   "metadata": {},
   "source": [
    "=) Length Of the List"
   ]
  },
  {
   "cell_type": "code",
   "execution_count": 1,
   "id": "8d605d9a",
   "metadata": {},
   "outputs": [
    {
     "name": "stdout",
     "output_type": "stream",
     "text": [
      "3\n"
     ]
    }
   ],
   "source": [
    "lst=[1,2,3]\n",
    "print(len(lst))"
   ]
  },
  {
   "cell_type": "markdown",
   "id": "8ccbe178",
   "metadata": {},
   "source": [
    "# Accessing Items-  [indexing, slicing]\n",
    "   "
   ]
  },
  {
   "cell_type": "markdown",
   "id": "3b800256",
   "metadata": {},
   "source": [
    "# Indexing\n",
    "        1- Index startsfrom (0 - (len of list-1))\n",
    "        2- Throws error (when we access an item with an index more than the lists length - [Index Error])\n",
    "        3- Throws error (other than integer any other type -[Type Error])\n",
    "        "
   ]
  },
  {
   "cell_type": "code",
   "execution_count": null,
   "id": "9cc2c1d7",
   "metadata": {},
   "outputs": [],
   "source": [
    "# lst=[1,2,3]\n",
    "print(lst[2])"
   ]
  },
  {
   "cell_type": "markdown",
   "id": "cb3513be",
   "metadata": {},
   "source": [
    "Negative Indexing"
   ]
  },
  {
   "cell_type": "code",
   "execution_count": 4,
   "id": "be2a213a",
   "metadata": {},
   "outputs": [
    {
     "name": "stdout",
     "output_type": "stream",
     "text": [
      "1\n"
     ]
    }
   ],
   "source": [
    "lst=[1,2,3]\n",
    "print(lst[-3])"
   ]
  },
  {
   "cell_type": "markdown",
   "id": "81661c2c",
   "metadata": {},
   "source": [
    "# List Slicing\n",
    "        listname[start_index: end_index: step]"
   ]
  },
  {
   "cell_type": "code",
   "execution_count": 6,
   "id": "18db2f2f",
   "metadata": {},
   "outputs": [
    {
     "name": "stdout",
     "output_type": "stream",
     "text": [
      "[5, 8, 'Tom', 7.5]\n",
      "[5, 'Tom', 'Emma']\n",
      "['Emma', 7.5, 'Tom', 8, 5]\n",
      "[7.5, 'Emma']\n"
     ]
    }
   ],
   "source": [
    "my_list = [5, 8, 'Tom', 7.50, 'Emma']\n",
    "\n",
    "# slice first four items\n",
    "print(my_list[:4])\n",
    "\n",
    "# print every second element\n",
    "# with a skip count 2\n",
    "print(my_list[::2])\n",
    "\n",
    "# reversing the list\n",
    "print(my_list[::-1])\n",
    "\n",
    "# Without end_value\n",
    "# Stating from 3nd item to last item\n",
    "print(my_list[3:])"
   ]
  },
  {
   "cell_type": "markdown",
   "id": "1c4ad26c",
   "metadata": {},
   "source": [
    "# Iterating a List"
   ]
  },
  {
   "cell_type": "code",
   "execution_count": 7,
   "id": "23fca736",
   "metadata": {},
   "outputs": [
    {
     "name": "stdout",
     "output_type": "stream",
     "text": [
      "5\n",
      "8\n",
      "Tom\n",
      "7.5\n",
      "Emma\n"
     ]
    }
   ],
   "source": [
    "my_list = [5, 8, 'Tom', 7.50, 'Emma']\n",
    "\n",
    "# iterate a list\n",
    "for item in my_list:\n",
    "    print(item)"
   ]
  },
  {
   "cell_type": "markdown",
   "id": "714e613e",
   "metadata": {},
   "source": [
    "Iterating Along With Index Number"
   ]
  },
  {
   "cell_type": "code",
   "execution_count": 9,
   "id": "7ddcd159",
   "metadata": {},
   "outputs": [
    {
     "name": "stdout",
     "output_type": "stream",
     "text": [
      "5\n",
      "8\n",
      "Tom\n",
      "7.5\n",
      "Emma\n"
     ]
    }
   ],
   "source": [
    "my_list = [5, 8, 'Tom', 7.50, 'Emma']\n",
    "\n",
    "# iterate a list\n",
    "for i in range(0, len(my_list)):\n",
    "    # print each item using index number\n",
    "    print(my_list[i])"
   ]
  },
  {
   "cell_type": "markdown",
   "id": "8995f086",
   "metadata": {},
   "source": [
    "# Adding elements to the list\n",
    "              append(), insert(), extend()"
   ]
  },
  {
   "cell_type": "markdown",
   "id": "37e5614d",
   "metadata": {},
   "source": [
    "=> Append Element accepts only one parameter, adds it in the end of the list"
   ]
  },
  {
   "cell_type": "code",
   "execution_count": 10,
   "id": "5f1418a5",
   "metadata": {},
   "outputs": [
    {
     "name": "stdout",
     "output_type": "stream",
     "text": [
      "[5, 8, 'Tom', 7.5, 'Emma']\n",
      "[5, 8, 'Tom', 7.5, 'Emma', [25, 50, 75]]\n"
     ]
    }
   ],
   "source": [
    "my_list = list([5, 8, 'Tom', 7.50])\n",
    "\n",
    "my_list.append('Emma')\n",
    "print(my_list)\n",
    "\n",
    "# append the nested list at the end\n",
    "my_list.append([25, 50, 75])\n",
    "print(my_list)"
   ]
  },
  {
   "cell_type": "markdown",
   "id": "b686f6b4",
   "metadata": {},
   "source": [
    "=> Insert Method accepts two parameter position and object - insert(index, object)"
   ]
  },
  {
   "cell_type": "code",
   "execution_count": 13,
   "id": "9788417a",
   "metadata": {},
   "outputs": [
    {
     "name": "stdout",
     "output_type": "stream",
     "text": [
      "[5, 8, 25, 'Tom', 7.5]\n",
      "[5, 8, 25, [25, 50, 75], 'Tom', 7.5]\n"
     ]
    }
   ],
   "source": [
    "\"\"\" insert(index,object) \"\"\"\n",
    "my_list = list([5, 8, 'Tom', 7.50])\n",
    "\n",
    "my_list.insert(2, 25)\n",
    "print(my_list)\n",
    "\n",
    "# insert nested list at at position 3\n",
    "my_list.insert(3, [25, 50, 75])\n",
    "print(my_list)\n"
   ]
  },
  {
   "cell_type": "markdown",
   "id": "6bd6a272",
   "metadata": {},
   "source": [
    "=> Extend method will accept the list of elements and add them at the end of the list"
   ]
  },
  {
   "cell_type": "code",
   "execution_count": 14,
   "id": "bcf57cc3",
   "metadata": {},
   "outputs": [
    {
     "name": "stdout",
     "output_type": "stream",
     "text": [
      "[5, 8, 'Tom', 7.5, 25, 75, 100]\n"
     ]
    }
   ],
   "source": [
    "my_list = list([5, 8, 'Tom', 7.50])\n",
    "\n",
    "my_list.extend([25, 75, 100])\n",
    "print(my_list)"
   ]
  },
  {
   "cell_type": "code",
   "execution_count": 3,
   "id": "9d7ce870",
   "metadata": {},
   "outputs": [
    {
     "name": "stdout",
     "output_type": "stream",
     "text": [
      "['a', 'b', 'c', 0, 0, 0]\n",
      "[0, 0, 0, 'a', 'b', 'c', 0, 0, 0]\n"
     ]
    }
   ],
   "source": [
    "lst=[\"a\",\"b\",\"c\"]\n",
    "lnt=[0,0,0]\n",
    "# lst=[\"a\",\"b\",\"c\"]\n",
    "\n",
    "lst.extend(lnt)    # my lst value is modified and changed to new lst that we are printing\n",
    "print(lst)\n",
    "\n",
    "lnt.extend(lst)    #here it willnot take the first defined lst will choose the modified lst value and will add it it.\n",
    "print(lnt)"
   ]
  },
  {
   "cell_type": "markdown",
   "id": "4f6a4e52",
   "metadata": {},
   "source": [
    "# Modify the items of a List"
   ]
  },
  {
   "cell_type": "code",
   "execution_count": 4,
   "id": "3c7bf7c9",
   "metadata": {},
   "outputs": [
    {
     "name": "stdout",
     "output_type": "stream",
     "text": [
      "[20, 4, 6, 8, 10, 12]\n",
      "[20, 40, 60, 80, 10, 12]\n",
      "[20, 40, 60, 80, 100, 120]\n"
     ]
    }
   ],
   "source": [
    "my_list = list([2, 4, 6, 8, 10, 12])\n",
    "\n",
    "# modify single item\n",
    "\n",
    "my_list[0] = 20\n",
    "print(my_list)\n",
    "\n",
    "my_list[1:4] = [40, 60, 80]\n",
    "print(my_list)\n",
    "\n",
    "my_list[3:] = [80, 100, 120]\n",
    "print(my_list)"
   ]
  },
  {
   "cell_type": "markdown",
   "id": "f67bb7bd",
   "metadata": {},
   "source": [
    "Modify all items"
   ]
  },
  {
   "cell_type": "code",
   "execution_count": null,
   "id": "2e9225cd",
   "metadata": {},
   "outputs": [],
   "source": [
    "my_list=[2,3,4,5]\n",
    "for i in range(len(my_list)):\n",
    "    square=my_list[i]*my_list[i]\n",
    "    my_list[i]=square\n",
    "print(my_list)"
   ]
  },
  {
   "cell_type": "markdown",
   "id": "64cfde2b",
   "metadata": {},
   "source": [
    "# Removing elements from a List\n",
    "    remove(item), pop(index), clear(), del list_name"
   ]
  },
  {
   "cell_type": "markdown",
   "id": "883c5458",
   "metadata": {},
   "source": [
    "Remove Specific Item\n",
    "\n",
    "1- remove() method to remove the first occurrence of the item from the list,\n",
    "\n",
    "2- Throws a keyerror if an item not present in the original list.\n"
   ]
  },
  {
   "cell_type": "code",
   "execution_count": 6,
   "id": "ae85b17d",
   "metadata": {},
   "outputs": [
    {
     "name": "stdout",
     "output_type": "stream",
     "text": [
      "[2, 4, 10, 12]\n"
     ]
    }
   ],
   "source": [
    "my_list = list([2, 4, 6, 8, 10, 12])\n",
    "\n",
    "my_list.remove(6)\n",
    "\n",
    "my_list.remove(8)\n",
    "\n",
    "print(my_list)"
   ]
  },
  {
   "cell_type": "markdown",
   "id": "db82d05b",
   "metadata": {},
   "source": [
    "Remove all occurrence of a specific item"
   ]
  },
  {
   "cell_type": "code",
   "execution_count": 7,
   "id": "1cc828ee",
   "metadata": {},
   "outputs": [
    {
     "name": "stdout",
     "output_type": "stream",
     "text": [
      "[4, 8, 12]\n"
     ]
    }
   ],
   "source": [
    "my_list = list([6, 4, 6, 6, 8, 12])\n",
    "\n",
    "for item in my_list:\n",
    "    my_list.remove(6)\n",
    "\n",
    "print(my_list)"
   ]
  },
  {
   "cell_type": "markdown",
   "id": "9fa57316",
   "metadata": {},
   "source": [
    "Remove item present at given index\n",
    "    ---use pop() method"
   ]
  },
  {
   "cell_type": "code",
   "execution_count": null,
   "id": "970b2e7d",
   "metadata": {},
   "outputs": [],
   "source": []
  },
  {
   "cell_type": "code",
   "execution_count": null,
   "id": "11ef375f",
   "metadata": {},
   "outputs": [],
   "source": []
  }
 ],
 "metadata": {
  "kernelspec": {
   "display_name": "Python 3 (ipykernel)",
   "language": "python",
   "name": "python3"
  },
  "language_info": {
   "codemirror_mode": {
    "name": "ipython",
    "version": 3
   },
   "file_extension": ".py",
   "mimetype": "text/x-python",
   "name": "python",
   "nbconvert_exporter": "python",
   "pygments_lexer": "ipython3",
   "version": "3.10.4"
  }
 },
 "nbformat": 4,
 "nbformat_minor": 5
}
