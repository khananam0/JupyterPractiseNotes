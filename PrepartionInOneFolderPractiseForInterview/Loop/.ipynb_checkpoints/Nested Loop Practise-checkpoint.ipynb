{
 "cells": [
  {
   "cell_type": "code",
   "execution_count": 2,
   "id": "e2f87b8d",
   "metadata": {},
   "outputs": [
    {
     "name": "stdout",
     "output_type": "stream",
     "text": [
      "1\n",
      "1\n",
      "1\n",
      "1\n",
      "[[0, 0, 0], [0, 1, 1], [1, 0, 1], [1, 1, 0], [1, 1, 1]]\n"
     ]
    }
   ],
   "source": [
    "x = int(input())       #1\n",
    "y = int(input())        #1\n",
    "z = int(input())\n",
    "n = int(input())\n",
    "\n",
    "a=(list([i,j,k] for i in range(x+1) for j in range(y+1) for k in range(z+1)  if i+j+k !=n))\n",
    "print((a))"
   ]
  },
  {
   "cell_type": "code",
   "execution_count": 3,
   "id": "62241e80",
   "metadata": {},
   "outputs": [
    {
     "name": "stdout",
     "output_type": "stream",
     "text": [
      "1\n",
      "1\n",
      "1\n",
      "1\n",
      "[0, 0, 0]\n",
      "[0, 1, 1]\n",
      "[1, 0, 1]\n",
      "[1, 1, 0]\n",
      "[1, 1, 1]\n"
     ]
    }
   ],
   "source": [
    "x = int(input())\n",
    "y = int(input())\n",
    "z = int(input())\n",
    "n = int(input())\n",
    "lst=[]\n",
    "for i in range(x+1):     #2        i=0,1\n",
    "    for j in range(y+1):   #2      j=0,1       \n",
    "        for k in range(z+1):  #2   k=0,1\n",
    "            if i+j+k!=n:\n",
    "                print([i,j,k])\n"
   ]
  },
  {
   "cell_type": "code",
   "execution_count": 3,
   "id": "57e969f0",
   "metadata": {},
   "outputs": [
    {
     "name": "stdout",
     "output_type": "stream",
     "text": [
      "a\n",
      "b\n",
      "c\n",
      "d\n",
      "e\n"
     ]
    }
   ],
   "source": [
    "dict = {\"a\":None,\"b\":1,\"c\":2,\"d\":None,\"e\":3,\"d\":4}\n",
    "for i,j in dict.items():\n",
    "    if "
   ]
  },
  {
   "cell_type": "code",
   "execution_count": null,
   "id": "8989f6d8",
   "metadata": {},
   "outputs": [],
   "source": []
  }
 ],
 "metadata": {
  "kernelspec": {
   "display_name": "Python 3 (ipykernel)",
   "language": "python",
   "name": "python3"
  },
  "language_info": {
   "codemirror_mode": {
    "name": "ipython",
    "version": 3
   },
   "file_extension": ".py",
   "mimetype": "text/x-python",
   "name": "python",
   "nbconvert_exporter": "python",
   "pygments_lexer": "ipython3",
   "version": "3.10.4"
  }
 },
 "nbformat": 4,
 "nbformat_minor": 5
}
