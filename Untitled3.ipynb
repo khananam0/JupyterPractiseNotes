{
 "cells": [
  {
   "cell_type": "markdown",
   "id": "07f56a19",
   "metadata": {},
   "source": [
    "# Q1) Find the student who has Highest marks ?\n",
    "    Input :  student = {\"Umar\":{\"score\": 67}, \"Talha\":{\"score\": 78}, \"Shadab\":{\"score\": 17}}\n",
    "    Output : {'xyz':78}"
   ]
  },
  {
   "cell_type": "code",
   "execution_count": 40,
   "id": "fa5d2cb6",
   "metadata": {},
   "outputs": [
    {
     "name": "stdout",
     "output_type": "stream",
     "text": [
      "Umar\n",
      "{'score': 67}\n",
      "Talha\n",
      "{'score': 78}\n",
      "Shadab\n",
      "{'score': 17}\n"
     ]
    }
   ],
   "source": [
    "student = {\"Umar\":{\"score\": 67}, \"Talha\":{\"score\": 78}, \"Shadab\":{\"score\": 17}}\n",
    "\n",
    "dic={\"score\":0}\n",
    "dic1={}\n",
    "for i,j in student.items():\n",
    "#     print(i,j)\n",
    "    if j[\"score\"]>dic[\"score\"]:  \n",
    "#         print(j[\"score\"])\n",
    "        dic.update(j)\n",
    "# print(dic)\n",
    "\n",
    "for i,j in student.items():\n",
    "    print(i)\n",
    "    print(j)\n",
    "    \n"
   ]
  },
  {
   "cell_type": "markdown",
   "id": "afcc5645",
   "metadata": {},
   "source": [
    "## Q2)Sort the list on the basis of second element in the tuple ?\n",
    "    Sample Input = [(\"zoo\", \"peanuts\"),(1, 'groot'), (\"teams\",\"ml\"),('dell', 'ipad'), ('water', 'case'), (56,\"apple\")]\n",
    "    Sample Output = [(56, 'apple'), ('water', 'case'), (1, 'groot'), ('dell', 'ipad'), ('teams', 'ml'), ('zoo', 'peanuts')]̀\n"
   ]
  },
  {
   "cell_type": "code",
   "execution_count": 27,
   "id": "c30b862a",
   "metadata": {},
   "outputs": [
    {
     "name": "stdout",
     "output_type": "stream",
     "text": [
      "['zoo', 'peanuts']\n",
      "[1, 'groot']\n",
      "['teams', 'ml']\n",
      "['dell', 'ipad']\n",
      "['water', 'case']\n",
      "[56, 'apple']\n"
     ]
    },
    {
     "ename": "TypeError",
     "evalue": "'<' not supported between instances of 'str' and 'int'",
     "output_type": "error",
     "traceback": [
      "\u001b[1;31m---------------------------------------------------------------------------\u001b[0m",
      "\u001b[1;31mTypeError\u001b[0m                                 Traceback (most recent call last)",
      "Input \u001b[1;32mIn [27]\u001b[0m, in \u001b[0;36m<cell line: 7>\u001b[1;34m()\u001b[0m\n\u001b[0;32m      5\u001b[0m     \u001b[38;5;28mprint\u001b[39m(b)\n\u001b[0;32m      6\u001b[0m     lst\u001b[38;5;241m.\u001b[39mappend(b)\n\u001b[1;32m----> 7\u001b[0m \u001b[43mlst\u001b[49m\u001b[43m[\u001b[49m\u001b[38;5;241;43m1\u001b[39;49m\u001b[43m]\u001b[49m\u001b[38;5;241;43m.\u001b[39;49m\u001b[43msort\u001b[49m\u001b[43m(\u001b[49m\u001b[43m)\u001b[49m\n\u001b[0;32m      8\u001b[0m \u001b[38;5;66;03m#     a=(b[1])\u001b[39;00m\n\u001b[0;32m      9\u001b[0m \u001b[38;5;66;03m#     lst.append(a)\u001b[39;00m\n\u001b[0;32m     10\u001b[0m \u001b[38;5;66;03m# lst.sort()\u001b[39;00m\n\u001b[0;32m     11\u001b[0m \u001b[38;5;28mprint\u001b[39m(lst)\n",
      "\u001b[1;31mTypeError\u001b[0m: '<' not supported between instances of 'str' and 'int'"
     ]
    }
   ],
   "source": [
    "var = [(\"zoo\", \"peanuts\"),(1, 'groot'), (\"teams\",\"ml\"),('dell', 'ipad'), ('water', 'case'), (56,\"apple\")] \n",
    "lst=[]\n",
    "for i in var:\n",
    "    b=list(i)\n",
    "    print(b)\n",
    "    lst.append(b)\n",
    "lst[1].sort()\n",
    "#     a=(b[1])\n",
    "#     lst.append(a)\n",
    "# lst.sort()\n",
    "print(lst)\n",
    "    \n",
    "    "
   ]
  },
  {
   "cell_type": "markdown",
   "id": "9151af53",
   "metadata": {},
   "source": [
    "# Q3) Swap adjacent elements in a list without using inbuilt functions?"
   ]
  },
  {
   "cell_type": "code",
   "execution_count": 46,
   "id": "795d993a",
   "metadata": {},
   "outputs": [
    {
     "name": "stdout",
     "output_type": "stream",
     "text": [
      "[2, 1, 3, 4]\n",
      "[2, 3, 1, 4]\n",
      "[2, 3, 4, 1]\n"
     ]
    },
    {
     "ename": "IndexError",
     "evalue": "list index out of range",
     "output_type": "error",
     "traceback": [
      "\u001b[1;31m---------------------------------------------------------------------------\u001b[0m",
      "\u001b[1;31mIndexError\u001b[0m                                Traceback (most recent call last)",
      "Input \u001b[1;32mIn [46]\u001b[0m, in \u001b[0;36m<cell line: 6>\u001b[1;34m()\u001b[0m\n\u001b[0;32m      3\u001b[0m \u001b[38;5;66;03m# lst[0],lst[1],lst[2],lst[3]=lst[1],lst[0],lst[2],lst[3]\u001b[39;00m\n\u001b[0;32m      4\u001b[0m \u001b[38;5;66;03m# print(lst)\u001b[39;00m\n\u001b[0;32m      6\u001b[0m \u001b[38;5;28;01mfor\u001b[39;00m i \u001b[38;5;129;01min\u001b[39;00m \u001b[38;5;28mrange\u001b[39m(\u001b[38;5;241m0\u001b[39m,\u001b[38;5;28mlen\u001b[39m(lst)):\n\u001b[1;32m----> 7\u001b[0m     lst[i],lst[i\u001b[38;5;241m+\u001b[39m\u001b[38;5;241m1\u001b[39m]\u001b[38;5;241m=\u001b[39m\u001b[43mlst\u001b[49m\u001b[43m[\u001b[49m\u001b[43mi\u001b[49m\u001b[38;5;241;43m+\u001b[39;49m\u001b[38;5;241;43m1\u001b[39;49m\u001b[43m]\u001b[49m,lst[i]\n\u001b[0;32m      8\u001b[0m     \u001b[38;5;28mprint\u001b[39m(lst)\n",
      "\u001b[1;31mIndexError\u001b[0m: list index out of range"
     ]
    }
   ],
   "source": [
    "lst=[1,2,3,4]\n",
    "\n",
    "# lst[0],lst[1],lst[2],lst[3]=lst[1],lst[0],lst[2],lst[3]\n",
    "# print(lst)\n",
    "\n",
    "for i in range(0,len(lst)):\n",
    "    lst[i],lst[i+1]=lst[i+1],lst[i]\n",
    "    \n",
    "    print(lst)\n",
    "\n"
   ]
  },
  {
   "cell_type": "markdown",
   "id": "ab139807",
   "metadata": {},
   "source": [
    "# Q4)Write a program to enter the number till the user wants and at the end it should display the sum of all numbers entered.(using while loop)\n"
   ]
  },
  {
   "cell_type": "code",
   "execution_count": 2,
   "id": "fe40a264",
   "metadata": {},
   "outputs": [
    {
     "name": "stdout",
     "output_type": "stream",
     "text": [
      "enter num12\n",
      "enter num23\n",
      "5\n",
      "Do you want to continue (y/n)?y\n",
      "enter num15\n",
      "enter num26\n",
      "11\n",
      "Do you want to continue (y/n)?n\n"
     ]
    }
   ],
   "source": [
    "while True: \n",
    "    num1=int(input(\"enter num1\"))\n",
    "    num2=int(input(\"enter num2\"))\n",
    "    print(num1+num2)\n",
    "    \n",
    "    ans= input(\"Do you want to continue (y/n)?\")\n",
    "    if ans!='y':\n",
    "        break"
   ]
  },
  {
   "cell_type": "markdown",
   "id": "68d0b863",
   "metadata": {},
   "source": [
    "#  Q5)Find the unique number in a list using function?\n",
    "    Sample Input : [2,1,4,3,1,4,2]\n",
    "    Sample Output : 3"
   ]
  },
  {
   "cell_type": "code",
   "execution_count": 13,
   "id": "063d6dc0",
   "metadata": {},
   "outputs": [
    {
     "name": "stdout",
     "output_type": "stream",
     "text": [
      "[3]\n",
      "[3, 8]\n"
     ]
    }
   ],
   "source": [
    "# Input = [2,1,4,3,1,4,2]\n",
    "# print(Input.count(5))\n",
    "\n",
    "def fun(Input):\n",
    "    lst=[]\n",
    "    for i in Input:\n",
    "        if Input.count(i)==1:\n",
    "            lst.append(i)\n",
    "            print(lst)\n",
    "fun([2,1,4,3,1,4,2])\n",
    "            \n",
    "\n",
    "        \n",
    "        "
   ]
  },
  {
   "cell_type": "markdown",
   "id": "5abf69f2",
   "metadata": {},
   "source": [
    "# Q6) Create a iterator to find all the Power of 3?"
   ]
  },
  {
   "cell_type": "code",
   "execution_count": 15,
   "id": "3434eab4",
   "metadata": {},
   "outputs": [
    {
     "name": "stdout",
     "output_type": "stream",
     "text": [
      "[27, 64, 8]\n"
     ]
    }
   ],
   "source": [
    "a=[3,4,2]\n",
    "newval=[]\n",
    "for i in a:\n",
    "  b=i**3\n",
    "  newval.append(b)\n",
    "print(newval)"
   ]
  },
  {
   "cell_type": "markdown",
   "id": "934d5082",
   "metadata": {},
   "source": [
    "# Q7) Give example of Multilevel Inheritence and use super function in the same   "
   ]
  },
  {
   "cell_type": "code",
   "execution_count": 16,
   "id": "ede7e83c",
   "metadata": {},
   "outputs": [
    {
     "name": "stdout",
     "output_type": "stream",
     "text": [
      "Anam\n",
      "9\n"
     ]
    }
   ],
   "source": [
    "class A:\n",
    "  def __init__(self,name):\n",
    "    self.name=name\n",
    "class B(A):\n",
    "  def __init__(self,name):\n",
    "    super().__init__(name)\n",
    "  \n",
    "  def myname(self,name):\n",
    "    print(self.name)\n",
    "    \n",
    "class C(B):\n",
    "  def __init__(self,name ,age):\n",
    "    super().__init__(name)\n",
    "    self.age=age\n",
    "  def newval(self, age):\n",
    "    print(self.age)\n",
    "\n",
    "obj= C(\"Anam\",9)\n",
    "obj.myname(\"anam\")\n",
    "obj.newval(8)"
   ]
  },
  {
   "cell_type": "markdown",
   "id": "d6d4e175",
   "metadata": {},
   "source": [
    "# Q8) Convert a local variable into global variable and give the methods to access the same "
   ]
  },
  {
   "cell_type": "code",
   "execution_count": 17,
   "id": "3af95665",
   "metadata": {},
   "outputs": [
    {
     "name": "stdout",
     "output_type": "stream",
     "text": [
      "get lost\n",
      "hey\n",
      "get lost\n"
     ]
    }
   ],
   "source": [
    "q = \"hey\"\n",
    "def f():\n",
    "  global p\n",
    "  p = \"get lost\"\n",
    "  print(p)\n",
    "f()\n",
    "print(q)\n",
    "print(p)"
   ]
  },
  {
   "cell_type": "markdown",
   "id": "2912d30b",
   "metadata": {},
   "source": [
    "# Q9) Make a class and implement getter setter methods "
   ]
  },
  {
   "cell_type": "code",
   "execution_count": null,
   "id": "61a81d87",
   "metadata": {},
   "outputs": [],
   "source": []
  },
  {
   "cell_type": "markdown",
   "id": "83d04575",
   "metadata": {},
   "source": [
    "# Q10) Find the even and odd from the given list using anonymous function"
   ]
  },
  {
   "cell_type": "code",
   "execution_count": null,
   "id": "b2927a4f",
   "metadata": {},
   "outputs": [],
   "source": []
  },
  {
   "cell_type": "markdown",
   "id": "93835a27",
   "metadata": {},
   "source": [
    "# Q11) Write syntax for Dictionary comprehension and give benefits of it"
   ]
  },
  {
   "cell_type": "code",
   "execution_count": null,
   "id": "c6eb7f38",
   "metadata": {},
   "outputs": [],
   "source": [
    "a={\"name\"}"
   ]
  },
  {
   "cell_type": "markdown",
   "id": "1d22235b",
   "metadata": {},
   "source": [
    "# Q12) How to change the behaviour of a function without modifying it ?\n",
    " "
   ]
  },
  {
   "cell_type": "code",
   "execution_count": null,
   "id": "42186934",
   "metadata": {},
   "outputs": [],
   "source": []
  }
 ],
 "metadata": {
  "kernelspec": {
   "display_name": "Python 3 (ipykernel)",
   "language": "python",
   "name": "python3"
  },
  "language_info": {
   "codemirror_mode": {
    "name": "ipython",
    "version": 3
   },
   "file_extension": ".py",
   "mimetype": "text/x-python",
   "name": "python",
   "nbconvert_exporter": "python",
   "pygments_lexer": "ipython3",
   "version": "3.10.4"
  }
 },
 "nbformat": 4,
 "nbformat_minor": 5
}
