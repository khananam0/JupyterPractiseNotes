{
 "cells": [
  {
   "cell_type": "code",
   "execution_count": null,
   "id": "30c57d60",
   "metadata": {},
   "outputs": [],
   "source": []
  }
 ],
 "metadata": {
  "kernelspec": {
   "display_name": "Python 3.10.4 ('.myenv': venv)",
   "language": "python",
   "name": "python3"
  },
  "language_info": {
   "codemirror_mode": {
    "name": "ipython",
    "version": 3
   },
   "file_extension": ".py",
   "mimetype": "text/x-python",
   "name": "python",
   "nbconvert_exporter": "python",
   "pygments_lexer": "ipython3",
   "version": "3.10.4"
  },
  "vscode": {
   "interpreter": {
    "hash": "2473303edd7204402e2f7518cf59eb50a4bf080b3a6ed5cfd365d49d77e4ab50"
   }
  }
 },
 "nbformat": 4,
 "nbformat_minor": 5
}
