{
 "cells": [
  {
   "cell_type": "markdown",
   "id": "8cbebfc5",
   "metadata": {},
   "source": [
    "# Python JSON\n",
    "   1) Dumps(data) - convert python object into json string\n",
    "   "
   ]
  },
  {
   "cell_type": "code",
   "execution_count": 4,
   "id": "6f5c0d09",
   "metadata": {},
   "outputs": [
    {
     "name": "stdout",
     "output_type": "stream",
     "text": [
      "{\"name\": \"Sonam\", \"Roll_No\": 101}\n"
     ]
    }
   ],
   "source": [
    "import json\n",
    "python_data = {'name':'Sonam', 'Roll_No':101}    # python object\n",
    "jsondata = json.dumps(python_data)        #convert them into json string\n",
    "print(jsondata)                                  # JSON String  "
   ]
  },
  {
   "cell_type": "markdown",
   "id": "ea73c4a5",
   "metadata": {},
   "source": [
    "2) Loads(data) - Used to parse JSON string\n",
    "               , To convert JSON String to Python object"
   ]
  },
  {
   "cell_type": "code",
   "execution_count": 4,
   "id": "aed60af3",
   "metadata": {},
   "outputs": [],
   "source": [
    "import json\n",
    "jsondata={\"name\":\"Kajol\",\"rollno\":\"11\"}  #JSON STRING\n",
    "parsed_data = json.loads(jsondata)   #Loads convert into python object\n",
    "print(parsed_data)                        # Python object"
   ]
  },
  {
   "cell_type": "markdown",
   "id": "53da3403",
   "metadata": {},
   "source": [
    "# Serializer\n",
    "   are responsible for converting complex data such as querrysets and model instances to native Python Datatype(called serializer) that can easily rendered into JSON, XML or other content types which is understandable by FRONT-END\n"
   ]
  },
  {
   "cell_type": "code",
   "execution_count": null,
   "id": "c038f779",
   "metadata": {},
   "outputs": [],
   "source": []
  }
 ],
 "metadata": {
  "kernelspec": {
   "display_name": "Python 3 (ipykernel)",
   "language": "python",
   "name": "python3"
  },
  "language_info": {
   "codemirror_mode": {
    "name": "ipython",
    "version": 3
   },
   "file_extension": ".py",
   "mimetype": "text/x-python",
   "name": "python",
   "nbconvert_exporter": "python",
   "pygments_lexer": "ipython3",
   "version": "3.10.4"
  }
 },
 "nbformat": 4,
 "nbformat_minor": 5
}
