{
 "cells": [
  {
   "cell_type": "code",
   "execution_count": 1,
   "id": "ff32748d",
   "metadata": {},
   "outputs": [
    {
     "name": "stdout",
     "output_type": "stream",
     "text": [
      "The Living World\n",
      "Biological Classification\n",
      "Plant Kingdom\n",
      "Animal Kingdom\n",
      "Morphology Of Flowering Plants\n",
      "Anatomy Of Flowering Plants\n",
      "Structural Organisation In Animals\n",
      "Cell The Unit Of Life\n",
      "Biomolecules\n",
      "Cell Cycle And Cell Division\n",
      "Transport In Plants\n",
      "Mineral Nutrition\n",
      "Photosynthesis In Higher Plants\n",
      "Respiration In Plants\n",
      "Plant Growth And Development\n",
      "Digestion And Absorption\n",
      "Breathing And Exchange Of Gases\n",
      "Body Fluids And Circulation\n",
      "Excretory Products And Their Elimination\n",
      "Locomotion And Movement\n",
      "Neural Control And Coordination\n",
      "Chemical Coordination And Integration\n",
      "Reproduction In Organisms\n",
      "Sexual Reproduction In Flowering Plants\n",
      "Human Reproduction\n",
      "Reproductive Health\n",
      "Principles Of Inheritance And Variation\n",
      "Molecular Basis Of Inheritance\n",
      "Evolution\n",
      "Human Health And Disease\n",
      "Strategies For Enhancement In Food Production\n",
      "Microbes In Human Welfare\n",
      "Biotechnology Principles And Processes\n",
      "Biotechnology And Its Applications\n",
      "Organisms And Populations\n",
      "Ecosystem\n",
      "Biodiversity And Conservation\n",
      "Environmental Issues\n"
     ]
    }
   ],
   "source": [
    "f=open('Biology.txt')\n",
    "print(f.read())"
   ]
  },
  {
   "cell_type": "code",
   "execution_count": null,
   "id": "1b059b40",
   "metadata": {},
   "outputs": [],
   "source": []
  }
 ],
 "metadata": {
  "kernelspec": {
   "display_name": "Python 3 (ipykernel)",
   "language": "python",
   "name": "python3"
  },
  "language_info": {
   "codemirror_mode": {
    "name": "ipython",
    "version": 3
   },
   "file_extension": ".py",
   "mimetype": "text/x-python",
   "name": "python",
   "nbconvert_exporter": "python",
   "pygments_lexer": "ipython3",
   "version": "3.10.4"
  }
 },
 "nbformat": 4,
 "nbformat_minor": 5
}
