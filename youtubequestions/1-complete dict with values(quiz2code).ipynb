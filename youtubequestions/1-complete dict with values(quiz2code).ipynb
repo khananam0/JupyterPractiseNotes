{
 "cells": [
  {
   "cell_type": "markdown",
   "id": "88ff57dd",
   "metadata": {},
   "source": [
    "1) student={\"name\":\"roy\",\"age\":20,\"course\":\"python\"}\n",
    "  for value in student:\n",
    "      print(value)"
   ]
  },
  {
   "cell_type": "code",
   "execution_count": 16,
   "id": "3ac622b9",
   "metadata": {},
   "outputs": [
    {
     "name": "stdout",
     "output_type": "stream",
     "text": [
      "name\n",
      "age\n",
      "course\n",
      "roy\n",
      "20\n",
      "python\n",
      "roy\n",
      "20\n",
      "python\n",
      "name\n",
      "age\n",
      "course\n",
      "name course\n",
      "age course\n",
      "course course\n"
     ]
    }
   ],
   "source": [
    "student={\"name\":\"roy\",\"age\":20,\"course\":\"python\"}\n",
    "\n",
    "# 1 - [output of this]\n",
    "for value in student:\n",
    "    print(value)\n",
    "    \n",
    "# 2 - [how to print values]\n",
    "for value in student:\n",
    "    print(student[value])\n",
    "\n",
    "for key in student.values():   # prints values\n",
    "    print(key)\n",
    "    \n",
    "for key in student.keys():     # print keys\n",
    "    print(key)\n",
    "    \n",
    "for key,values in student.items():  #prints single key and single value\n",
    "    print(key,value)\n",
    "    \n",
    "\n"
   ]
  },
  {
   "cell_type": "markdown",
   "id": "9c02d264",
   "metadata": {},
   "source": [
    "2)  d={\"foo\":1,\"bar\":{'x':10,'y':20},\"baz\":3}\n",
    "   'x' in d"
   ]
  },
  {
   "cell_type": "code",
   "execution_count": 18,
   "id": "fac4530c",
   "metadata": {},
   "outputs": [
    {
     "data": {
      "text/plain": [
       "True"
      ]
     },
     "execution_count": 18,
     "metadata": {},
     "output_type": "execute_result"
    }
   ],
   "source": [
    "d={\"foo\":1,\"bar\":{'x':10,'y':20},\"baz\":3} \n",
    "'x' in d\n",
    "'y' in d['bar']\n"
   ]
  },
  {
   "cell_type": "markdown",
   "id": "49658109",
   "metadata": {},
   "source": [
    "# 3) suppose you have a dictinary d1. Which of the following effectively creates a variable d2 which contains a copy of d1.\n",
    "A) d2=d1\n",
    "B) d2=dict(d1)\n",
    "c) d2=dict(d1.keys())\n",
    "d) d2=dict(d1.items())\n",
    "e) d2=dict(d1.values())\n",
    "f) d2={}\n",
    "   d2.update(d1)\n"
   ]
  },
  {
   "cell_type": "code",
   "execution_count": 38,
   "id": "c4545718",
   "metadata": {},
   "outputs": [
    {
     "name": "stdout",
     "output_type": "stream",
     "text": [
      "2234930677888\n",
      "2234930555712\n"
     ]
    }
   ],
   "source": [
    "d1={\"foo\":1,\"bar\":{'x':10,'y':20},\"baz\":3} \n",
    "# d2=d1\n",
    "# print(id(d1))\n",
    "# print(id(d2))\n",
    "\n",
    "# d2=dict(d1)\n",
    "# print(id(d1))\n",
    "# print(id(d2))\n",
    "\n",
    "# d2=dict(d1.items())\n",
    "# print(id(d1))\n",
    "# print(id(d2))\n",
    "\n",
    "# d2=dict(d1.keys())\n",
    "# print(id(d1))\n",
    "# print(id(d2))\n",
    "\n",
    "# d2=dict(d1.values())\n",
    "# print(id(d1))\n",
    "# print(id(d2))\n",
    "\n",
    "d2={}\n",
    "d2.update(d1)\n",
    "print(id(d1))\n",
    "print(id(d2))"
   ]
  },
  {
   "cell_type": "markdown",
   "id": "44da1d63",
   "metadata": {},
   "source": [
    "# 5) expression involving d that access the value 30\n",
    "  d=['a','b',{'ack':1,'bar':{'p':10,'q':20,'r':30},'baz':3},'c','d']\n",
    "  a) Can't access\n",
    "  b) d[2]['bar']['r']\n",
    "  c) d[2['bar'['r']]]\n",
    "  d) d[2][1][6]"
   ]
  },
  {
   "cell_type": "code",
   "execution_count": 40,
   "id": "0f730aa4",
   "metadata": {},
   "outputs": [],
   "source": [
    "d=['a','b',{'ack':1,'bar':{'p':10,'q':20,'r':30},'baz':3},'c','d']"
   ]
  },
  {
   "cell_type": "markdown",
   "id": "8eafacdb",
   "metadata": {},
   "source": [
    "6) d1={}\n",
    "   d2={1}\n",
    "   if(type(d1)==type(d2)):\n",
    "      print(True)\n",
    "   else:\n",
    "      print(False)"
   ]
  },
  {
   "cell_type": "code",
   "execution_count": 41,
   "id": "aec59dd7",
   "metadata": {},
   "outputs": [
    {
     "name": "stdout",
     "output_type": "stream",
     "text": [
      "False\n"
     ]
    }
   ],
   "source": [
    "d1={}\n",
    "d2={1}\n",
    "if(type(d1)==type(d2)):\n",
    "    print(True)\n",
    "else:\n",
    "    print(False)\n",
    "    \n",
    "# prints false becoz d1 is dic and in d2 we are passing value which takes it as set\n",
    "# so set and dic are not same type, returns false"
   ]
  },
  {
   "cell_type": "code",
   "execution_count": 42,
   "id": "8a7bab3b",
   "metadata": {},
   "outputs": [
    {
     "name": "stdout",
     "output_type": "stream",
     "text": [
      "<class 'set'>\n"
     ]
    }
   ],
   "source": [
    "d={('c',3),('b',2),('a',1)}\n",
    "print(type(d))"
   ]
  },
  {
   "cell_type": "code",
   "execution_count": null,
   "id": "0abd307f",
   "metadata": {},
   "outputs": [],
   "source": []
  }
 ],
 "metadata": {
  "kernelspec": {
   "display_name": "Python 3 (ipykernel)",
   "language": "python",
   "name": "python3"
  },
  "language_info": {
   "codemirror_mode": {
    "name": "ipython",
    "version": 3
   },
   "file_extension": ".py",
   "mimetype": "text/x-python",
   "name": "python",
   "nbconvert_exporter": "python",
   "pygments_lexer": "ipython3",
   "version": "3.10.4"
  }
 },
 "nbformat": 4,
 "nbformat_minor": 5
}
