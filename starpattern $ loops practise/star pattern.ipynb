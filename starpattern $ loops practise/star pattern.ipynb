{
 "cells": [
  {
   "cell_type": "markdown",
   "id": "95d686f5",
   "metadata": {},
   "source": [
    "# Nested Loops"
   ]
  },
  {
   "cell_type": "markdown",
   "id": "a216fbdc",
   "metadata": {},
   "source": [
    "# 1\n",
    "        * * * * *\n",
    "        * * * * *\n",
    "        * * * * *\n",
    "        * * * * *\n",
    "        * * * * *"
   ]
  },
  {
   "cell_type": "code",
   "execution_count": 25,
   "id": "eeffb104",
   "metadata": {},
   "outputs": [
    {
     "name": "stdout",
     "output_type": "stream",
     "text": [
      "* * * * * \n",
      "* * * * * \n",
      "* * * * * \n",
      "* * * * * \n",
      "* * * * * \n"
     ]
    }
   ],
   "source": [
    "n=5\n",
    "# my example\n",
    "\n",
    "# for i in range(n):\n",
    "#     print(\"* \"*n)\n",
    "\n",
    "# ---------------------------------------------\n",
    "\n",
    "# tutorials using nested loops\n",
    "for i in range(n):\n",
    "    for j in range(n):\n",
    "        print(\"*\",end=\" \")\n",
    "    print()"
   ]
  },
  {
   "cell_type": "markdown",
   "id": "761763b1",
   "metadata": {},
   "source": [
    "# 2\n",
    "    *\n",
    "    * *\n",
    "    * * *\n",
    "    * * * *\n",
    "    * * * * *"
   ]
  },
  {
   "cell_type": "code",
   "execution_count": 53,
   "id": "e37102a3",
   "metadata": {},
   "outputs": [
    {
     "name": "stdout",
     "output_type": "stream",
     "text": [
      "* \n",
      "* * \n",
      "* * * \n",
      "* * * * \n",
      "* * * * * \n"
     ]
    }
   ],
   "source": [
    "# my example\n",
    "n=5\n",
    "\n",
    "# for i in range(1,n+1):\n",
    "#     print(i*\"* \")\n",
    "\n",
    "# ----------------------------------------------\n",
    "# tutorials using nested loops\n",
    "for i in range(n):\n",
    "    for j in range(i+1):\n",
    "        print('*',end=' ')\n",
    "    print()"
   ]
  },
  {
   "cell_type": "code",
   "execution_count": 81,
   "id": "059c947f",
   "metadata": {},
   "outputs": [
    {
     "name": "stdout",
     "output_type": "stream",
     "text": [
      "* * * * * \n",
      "* * * * \n",
      "* * * \n",
      "* * \n",
      "* \n"
     ]
    }
   ],
   "source": [
    "# my example\n",
    "n=5\n",
    "# for i in range(n):\n",
    "#     print('* '*int(n-i))\n",
    "# ---------------------------------\n",
    "# for i in range(n):\n",
    "#     for j in range(n-i):\n",
    "#         print('*',end=' ')\n",
    "#     print()\n",
    "# ---------------------------------------\n",
    "# tutorials using nested loops  \n",
    "for i in range(n):\n",
    "    for j in range(i,n):\n",
    "        print('*',end=' ')\n",
    "    print()\n",
    "    "
   ]
  },
  {
   "cell_type": "code",
   "execution_count": null,
   "id": "18786f89",
   "metadata": {},
   "outputs": [],
   "source": []
  }
 ],
 "metadata": {
  "kernelspec": {
   "display_name": "Python 3 (ipykernel)",
   "language": "python",
   "name": "python3"
  },
  "language_info": {
   "codemirror_mode": {
    "name": "ipython",
    "version": 3
   },
   "file_extension": ".py",
   "mimetype": "text/x-python",
   "name": "python",
   "nbconvert_exporter": "python",
   "pygments_lexer": "ipython3",
   "version": "3.10.4"
  }
 },
 "nbformat": 4,
 "nbformat_minor": 5
}
