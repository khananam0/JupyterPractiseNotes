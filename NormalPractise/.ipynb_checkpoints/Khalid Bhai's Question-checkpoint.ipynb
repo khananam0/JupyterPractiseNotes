{
 "cells": [
  {
   "cell_type": "markdown",
   "id": "514138d8",
   "metadata": {},
   "source": [
    "Q1) [12,11,13,5,6]\n",
    "    Insertion Sort [5,6,11,12,13]"
   ]
  },
  {
   "cell_type": "code",
   "execution_count": 6,
   "id": "7a76e2b0",
   "metadata": {},
   "outputs": [
    {
     "name": "stdout",
     "output_type": "stream",
     "text": [
      "11\n",
      "0\n",
      "13\n",
      "1\n",
      "5\n",
      "2\n",
      "6\n",
      "3\n",
      "Sorted Array in Ascending Order:\n",
      "[5, 6, 11, 12, 13]\n"
     ]
    }
   ],
   "source": [
    "def insertionSort(array):\n",
    "\n",
    "    for step in range(1, len(array)):\n",
    "        key = array[step]\n",
    "        print(key)\n",
    "        j = step - 1\n",
    "        print(j)\n",
    "        \n",
    "        while j >= 0 and key < array[j]:\n",
    "            array[j + 1] = array[j]\n",
    "            print\n",
    "            j = j - 1\n",
    "        \n",
    "        # Place key at after the element just smaller than it.\n",
    "        array[j + 1] = key\n",
    "\n",
    "\n",
    "# data = [9, 5, 1, 4, 3]\n",
    "data=[12,11,13,5,6]\n",
    "insertionSort(data)\n",
    "print('Sorted Array in Ascending Order:')\n",
    "print(data)"
   ]
  },
  {
   "cell_type": "code",
   "execution_count": 67,
   "id": "ed715748",
   "metadata": {},
   "outputs": [
    {
     "name": "stdout",
     "output_type": "stream",
     "text": [
      "12\n",
      "13\n",
      "12\n",
      "11\n",
      "13\n",
      "12\n",
      "11\n",
      "[5, 6, 11, 12, 13]\n"
     ]
    }
   ],
   "source": [
    "lst1=[12,11,13,5,6]\n",
    "for j in range(1,len(lst1)):\n",
    "    while lst1[j-1]>lst1[j] and j>0:\n",
    "        lst1[j-1],lst1[j]=lst1[j],lst1[j-1]\n",
    "        j-=1\n",
    "print(lst1)"
   ]
  },
  {
   "cell_type": "markdown",
   "id": "b3dc7ffc",
   "metadata": {},
   "source": [
    "Q2) find the maximum number\n",
    "    a = [7, 3, 9, 5, 2]\n"
   ]
  },
  {
   "cell_type": "code",
   "execution_count": 3,
   "id": "dd668f53",
   "metadata": {},
   "outputs": [
    {
     "name": "stdout",
     "output_type": "stream",
     "text": [
      "9\n"
     ]
    }
   ],
   "source": [
    "a = [7, 3, 9, 5,2]\n",
    "# b=0\n",
    "b=a[0]\n",
    "for i in a:\n",
    "    if i>b:\n",
    "        b=i\n",
    "print(b)"
   ]
  },
  {
   "cell_type": "markdown",
   "id": "256b2016",
   "metadata": {},
   "source": [
    "Q3) a = [7, 3, 9, 5,2]\n",
    "    to sort the list a"
   ]
  },
  {
   "cell_type": "code",
   "execution_count": 27,
   "id": "0163f1ec",
   "metadata": {},
   "outputs": [
    {
     "name": "stdout",
     "output_type": "stream",
     "text": [
      "7\n",
      "7\n",
      "9\n",
      "9\n",
      "9\n"
     ]
    }
   ],
   "source": [
    "a = [7,3,9,5,2]\n",
    "b=[]\n",
    "for i in a:\n",
    "    if i>b:\n",
    "        b=b.append(i)\n",
    "        print(b)\n",
    "    "
   ]
  },
  {
   "cell_type": "markdown",
   "id": "2e0fd2a7",
   "metadata": {},
   "source": [
    "student={\"ali\":{\"score\":91},\n",
    "        \"akbar\":{\"score\":70},\n",
    "        \"bilal\":{\"score\":81}}\n",
    "Find the highest score"
   ]
  },
  {
   "cell_type": "code",
   "execution_count": null,
   "id": "05413979",
   "metadata": {},
   "outputs": [],
   "source": [
    "student={\"ali\":{\"score\":91},\n",
    "        \"akbar\":{\"score\":70},\n",
    "        \"bilal\":{\"score\":81}}\n",
    "\n"
   ]
  },
  {
   "cell_type": "code",
   "execution_count": null,
   "id": "d8936dee",
   "metadata": {},
   "outputs": [],
   "source": [
    "x={\n",
    "    \"abc\":455,\n",
    "    \"kbc\":105\n",
    "}\n"
   ]
  },
  {
   "cell_type": "code",
   "execution_count": null,
   "id": "a277592f",
   "metadata": {},
   "outputs": [],
   "source": []
  }
 ],
 "metadata": {
  "kernelspec": {
   "display_name": "Python 3 (ipykernel)",
   "language": "python",
   "name": "python3"
  },
  "language_info": {
   "codemirror_mode": {
    "name": "ipython",
    "version": 3
   },
   "file_extension": ".py",
   "mimetype": "text/x-python",
   "name": "python",
   "nbconvert_exporter": "python",
   "pygments_lexer": "ipython3",
   "version": "3.10.4"
  }
 },
 "nbformat": 4,
 "nbformat_minor": 5
}
