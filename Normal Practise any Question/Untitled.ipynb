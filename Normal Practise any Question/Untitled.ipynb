{
 "cells": [
  {
   "cell_type": "code",
   "execution_count": 1,
   "id": "3f4d29a2",
   "metadata": {},
   "outputs": [
    {
     "name": "stdout",
     "output_type": "stream",
     "text": [
      "xyz\n"
     ]
    }
   ],
   "source": [
    "class Parent:\n",
    "    b='xyz'\n",
    "    def __init__(self,a):\n",
    "        self.a=a\n",
    "    def show(self):\n",
    "        print(self.a)\n",
    "s1=Parent('abc')\n",
    "print(s1.b)"
   ]
  },
  {
   "cell_type": "code",
   "execution_count": 3,
   "id": "566c325d",
   "metadata": {},
   "outputs": [
    {
     "name": "stdout",
     "output_type": "stream",
     "text": [
      "5 6\n"
     ]
    }
   ],
   "source": [
    "class x:\n",
    "    def __init__(self):\n",
    "        self.__num1=5\n",
    "        self.num2=2\n",
    "    def dis(self):\n",
    "        print(self.__num1,self.num2)\n",
    "class y(x):\n",
    "    def __init__(self):\n",
    "        super().__init__()\n",
    "        self.__num1=1\n",
    "        self.num2=6\n",
    "    def dis(self):\n",
    "        print(self.__num1,self.num2)\n",
    "z=y()\n",
    "z.dis()"
   ]
  },
  {
   "cell_type": "code",
   "execution_count": null,
   "id": "f5ea8b39",
   "metadata": {},
   "outputs": [],
   "source": []
  }
 ],
 "metadata": {
  "kernelspec": {
   "display_name": "Python 3 (ipykernel)",
   "language": "python",
   "name": "python3"
  },
  "language_info": {
   "codemirror_mode": {
    "name": "ipython",
    "version": 3
   },
   "file_extension": ".py",
   "mimetype": "text/x-python",
   "name": "python",
   "nbconvert_exporter": "python",
   "pygments_lexer": "ipython3",
   "version": "3.10.4"
  }
 },
 "nbformat": 4,
 "nbformat_minor": 5
}
