{
 "cells": [
  {
   "cell_type": "code",
   "execution_count": 1,
   "id": "3f4d29a2",
   "metadata": {},
   "outputs": [
    {
     "name": "stdout",
     "output_type": "stream",
     "text": [
      "xyz\n"
     ]
    }
   ],
   "source": [
    "class Parent:\n",
    "    b='xyz'\n",
    "    def __init__(self,a):\n",
    "        self.a=a\n",
    "    def show(self):\n",
    "        print(self.a)\n",
    "s1=Parent('abc')\n",
    "print(s1.b)"
   ]
  },
  {
   "cell_type": "code",
   "execution_count": null,
   "id": "566c325d",
   "metadata": {},
   "outputs": [],
   "source": []
  }
 ],
 "metadata": {
  "kernelspec": {
   "display_name": "Python 3 (ipykernel)",
   "language": "python",
   "name": "python3"
  },
  "language_info": {
   "codemirror_mode": {
    "name": "ipython",
    "version": 3
   },
   "file_extension": ".py",
   "mimetype": "text/x-python",
   "name": "python",
   "nbconvert_exporter": "python",
   "pygments_lexer": "ipython3",
   "version": "3.10.4"
  }
 },
 "nbformat": 4,
 "nbformat_minor": 5
}
