{
 "cells": [
  {
   "cell_type": "code",
   "execution_count": 12,
   "id": "d02c5ace",
   "metadata": {},
   "outputs": [
    {
     "data": {
      "text/plain": [
       "False"
      ]
     },
     "execution_count": 12,
     "metadata": {},
     "output_type": "execute_result"
    }
   ],
   "source": [
    "# def sleep(wkn,vac):\n",
    "#     if wkn == True or vac == True:\n",
    "#         print(\"you can sleep\")\n",
    "#     else:\n",
    "#         print(\"back to work\")\n",
    "        \n",
    "# sleep(wkn=True,vac=True)\n",
    "# sleep(wkn=False,vac=False)\n",
    "# sleep(wkn=True,vac=False)\n",
    "# sleep(wkn=False,vac=True)\n",
    "\n",
    "def sleep(wkn,vac):\n",
    "    if not wkn or vac:\n",
    "        return True\n",
    "    else:\n",
    "        return False\n",
    "    \n",
    "sleep(wkn=True, vac=False)\n",
    "\n",
    "    "
   ]
  },
  {
   "cell_type": "code",
   "execution_count": null,
   "id": "ee34bd3c",
   "metadata": {},
   "outputs": [],
   "source": []
  }
 ],
 "metadata": {
  "kernelspec": {
   "display_name": "Python 3 (ipykernel)",
   "language": "python",
   "name": "python3"
  },
  "language_info": {
   "codemirror_mode": {
    "name": "ipython",
    "version": 3
   },
   "file_extension": ".py",
   "mimetype": "text/x-python",
   "name": "python",
   "nbconvert_exporter": "python",
   "pygments_lexer": "ipython3",
   "version": "3.10.4"
  }
 },
 "nbformat": 4,
 "nbformat_minor": 5
}
