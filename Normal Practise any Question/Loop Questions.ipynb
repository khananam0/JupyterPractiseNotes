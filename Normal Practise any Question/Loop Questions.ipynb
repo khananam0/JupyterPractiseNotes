{
 "cells": [
  {
   "cell_type": "code",
   "execution_count": 3,
   "id": "bf15d559",
   "metadata": {},
   "outputs": [
    {
     "name": "stdout",
     "output_type": "stream",
     "text": [
      "2\n",
      "4\n",
      "6\n",
      "8\n",
      "10\n",
      "12\n",
      "14\n",
      "16\n",
      "18\n",
      "20\n"
     ]
    }
   ],
   "source": [
    "for i in range(1,21):\n",
    "    if i%2==0:\n",
    "        print(i)\n",
    "    "
   ]
  },
  {
   "cell_type": "code",
   "execution_count": 12,
   "id": "855ac609",
   "metadata": {},
   "outputs": [
    {
     "name": "stdout",
     "output_type": "stream",
     "text": [
      "20\n",
      "18\n",
      "16\n",
      "14\n",
      "12\n",
      "10\n",
      "8\n",
      "6\n",
      "4\n",
      "2\n"
     ]
    }
   ],
   "source": [
    "v=[]\n",
    "for i in range(2,22,2):\n",
    "    v.append(i)\n",
    "    \n",
    "# print(v[::-1])\n",
    "for j in v[::-1]:\n",
    "    print(j)"
   ]
  },
  {
   "cell_type": "code",
   "execution_count": 21,
   "id": "df9b782f",
   "metadata": {},
   "outputs": [
    {
     "data": {
      "text/plain": [
       "5"
      ]
     },
     "execution_count": 21,
     "metadata": {},
     "output_type": "execute_result"
    }
   ],
   "source": [
    "25%10"
   ]
  },
  {
   "cell_type": "code",
   "execution_count": 27,
   "id": "801e3e42",
   "metadata": {},
   "outputs": [
    {
     "name": "stdout",
     "output_type": "stream",
     "text": [
      "20\n"
     ]
    }
   ],
   "source": [
    "num=5\n",
    "s=0\n",
    "for i in range(1,num):\n",
    "    s=s+num\n",
    "print(s)"
   ]
  },
  {
   "cell_type": "code",
   "execution_count": 28,
   "id": "9c0b7aa2",
   "metadata": {},
   "outputs": [
    {
     "name": "stdout",
     "output_type": "stream",
     "text": [
      "[1, 2, 3, 5]\n"
     ]
    }
   ],
   "source": [
    "def fun(digits):\n",
    "    n=len(digits)-1\n",
    "    while digits[n] == 9:\n",
    "        digits[n]=0\n",
    "        n=n-1\n",
    "    if n<0:\n",
    "        digits = [1]+digits\n",
    "    else:\n",
    "        digits[n] = digits[n]+1\n",
    "    return digits\n",
    "\n",
    "digits = [1,2,3,4]\n",
    "print(fun(digits))"
   ]
  },
  {
   "cell_type": "code",
   "execution_count": 48,
   "id": "264a797a",
   "metadata": {},
   "outputs": [
    {
     "data": {
      "text/plain": [
       "10"
      ]
     },
     "execution_count": 48,
     "metadata": {},
     "output_type": "execute_result"
    }
   ],
   "source": [
    "# reduce\n",
    "from functools import reduce\n",
    "# lst=[[1,2,3],[4,5,6],[7,8,9]]\n",
    "lst=[1,2,3,4]\n",
    "# a=reduce(lambda x:x+x, lst)\n",
    "a=reduce(lambda x,y: x+y, lst)\n",
    "a"
   ]
  },
  {
   "cell_type": "code",
   "execution_count": 58,
   "id": "78542feb",
   "metadata": {},
   "outputs": [
    {
     "name": "stdout",
     "output_type": "stream",
     "text": [
      "6\n"
     ]
    }
   ],
   "source": [
    "# x=4\n",
    "a=(lambda x:x+x)\n",
    "# print(list(a))\n",
    "print(a(3))"
   ]
  },
  {
   "cell_type": "code",
   "execution_count": null,
   "id": "6b6ef058",
   "metadata": {},
   "outputs": [],
   "source": []
  }
 ],
 "metadata": {
  "kernelspec": {
   "display_name": "Python 3 (ipykernel)",
   "language": "python",
   "name": "python3"
  },
  "language_info": {
   "codemirror_mode": {
    "name": "ipython",
    "version": 3
   },
   "file_extension": ".py",
   "mimetype": "text/x-python",
   "name": "python",
   "nbconvert_exporter": "python",
   "pygments_lexer": "ipython3",
   "version": "3.10.4"
  }
 },
 "nbformat": 4,
 "nbformat_minor": 5
}
