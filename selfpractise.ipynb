{
 "cells": [
  {
   "cell_type": "markdown",
   "id": "dc4e5c6d",
   "metadata": {},
   "source": [
    "# Q1) Output of the following snippet\n",
    "    x = 'abcd'\n",
    "    for i in range(len(x):\n",
    "    print(x)\n",
    "    x = \"a\""
   ]
  },
  {
   "cell_type": "markdown",
   "id": "0ff4b308",
   "metadata": {},
   "source": [
    "# Q2)Code Snippet\n",
    "    i=0\n",
    "    while i < 3:\n",
    "        print(i)\n",
    "        i+=1\n",
    "    else:\n",
    "       print(0)\n",
    "    "
   ]
  },
  {
   "cell_type": "code",
   "execution_count": 12,
   "id": "959b5848",
   "metadata": {},
   "outputs": [
    {
     "name": "stdout",
     "output_type": "stream",
     "text": [
      "['appledfg', 'pdvbaya']\n"
     ]
    }
   ],
   "source": [
    "lst =[\"appledfg999\",\"pdvbaya999\",\"grapes000\",\"chickoo000\"]\n",
    "lst1 = []\n",
    "for iter in lst:\n",
    "    if int(iter[-3:]) == 999:\n",
    "#         print(type(iter[-3:]))\n",
    "        lst1.append(iter[:-3])\n",
    "        \n",
    "print(lst1)"
   ]
  },
  {
   "cell_type": "code",
   "execution_count": 13,
   "id": "e943ccfa",
   "metadata": {},
   "outputs": [
    {
     "name": "stdout",
     "output_type": "stream",
     "text": [
      "15\n",
      "20\n",
      "25\n",
      "30\n",
      "35\n"
     ]
    }
   ],
   "source": [
    "a = 10\n",
    "for i in range(5):\n",
    "    a=a+5\n",
    "    print(a)"
   ]
  },
  {
   "cell_type": "code",
   "execution_count": 14,
   "id": "a22ed95f",
   "metadata": {},
   "outputs": [
    {
     "name": "stdout",
     "output_type": "stream",
     "text": [
      "1 :  land\n",
      "2 :  sea\n",
      "3 :  sky\n"
     ]
    }
   ],
   "source": [
    "lst = [[1,2,3], [\"land\", \"sea\", \"sky\"]]\n",
    "for i in lst[0]:\n",
    "    print(i, \": \", lst[1][i-1])"
   ]
  },
  {
   "cell_type": "code",
   "execution_count": 5,
   "id": "f96a593e",
   "metadata": {},
   "outputs": [
    {
     "name": "stdout",
     "output_type": "stream",
     "text": [
      "1 : land\n",
      "2 : sea\n",
      "3 : sky\n"
     ]
    }
   ],
   "source": [
    "lst = [[1,2,3], [\"land\", \"sea\", \"sky\"]]\n",
    "for i in lst[0]:\n",
    "    print(i, \":\", lst[1][i-1])"
   ]
  },
  {
   "cell_type": "markdown",
   "id": "49bcad38",
   "metadata": {},
   "source": [
    "Q) Factorial number"
   ]
  },
  {
   "cell_type": "code",
   "execution_count": null,
   "id": "6a4cb971",
   "metadata": {},
   "outputs": [],
   "source": []
  },
  {
   "cell_type": "code",
   "execution_count": null,
   "id": "ebfe2ca5",
   "metadata": {},
   "outputs": [],
   "source": []
  }
 ],
 "metadata": {
  "kernelspec": {
   "display_name": "Python 3 (ipykernel)",
   "language": "python",
   "name": "python3"
  },
  "language_info": {
   "codemirror_mode": {
    "name": "ipython",
    "version": 3
   },
   "file_extension": ".py",
   "mimetype": "text/x-python",
   "name": "python",
   "nbconvert_exporter": "python",
   "pygments_lexer": "ipython3",
   "version": "3.10.4"
  }
 },
 "nbformat": 4,
 "nbformat_minor": 5
}
