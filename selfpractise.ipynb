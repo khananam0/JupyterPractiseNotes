{
 "cells": [
  {
   "cell_type": "markdown",
   "id": "dc4e5c6d",
   "metadata": {},
   "source": [
    "# Q1) Output of the following snippet\n",
    "    x = 'abcd'\n",
    "    for i in range(len(x):\n",
    "    print(x)\n",
    "    x = \"a\""
   ]
  },
  {
   "cell_type": "markdown",
   "id": "0ff4b308",
   "metadata": {},
   "source": [
    "# Q2)Code Snippet\n",
    "    i=0\n",
    "    while i < 3:\n",
    "        print(i)\n",
    "        i+=1\n",
    "    else:\n",
    "       print(0)\n",
    "    "
   ]
  },
  {
   "cell_type": "code",
   "execution_count": 12,
   "id": "959b5848",
   "metadata": {},
   "outputs": [
    {
     "name": "stdout",
     "output_type": "stream",
     "text": [
      "['appledfg', 'pdvbaya']\n"
     ]
    }
   ],
   "source": [
    "lst =[\"appledfg999\",\"pdvbaya999\",\"grapes000\",\"chickoo000\"]\n",
    "lst1 = []\n",
    "for iter in lst:\n",
    "    if int(iter[-3:]) == 999:\n",
    "#         print(type(iter[-3:]))\n",
    "        lst1.append(iter[:-3])\n",
    "        \n",
    "print(lst1)"
   ]
  },
  {
   "cell_type": "code",
   "execution_count": 13,
   "id": "e943ccfa",
   "metadata": {},
   "outputs": [
    {
     "name": "stdout",
     "output_type": "stream",
     "text": [
      "15\n",
      "20\n",
      "25\n",
      "30\n",
      "35\n"
     ]
    }
   ],
   "source": [
    "a = 10\n",
    "for i in range(5):\n",
    "    a=a+5\n",
    "    print(a)"
   ]
  },
  {
   "cell_type": "code",
   "execution_count": 14,
   "id": "a22ed95f",
   "metadata": {},
   "outputs": [
    {
     "name": "stdout",
     "output_type": "stream",
     "text": [
      "1 :  land\n",
      "2 :  sea\n",
      "3 :  sky\n"
     ]
    }
   ],
   "source": [
    "lst = [[1,2,3], [\"land\", \"sea\", \"sky\"]]\n",
    "for i in lst[0]:\n",
    "    print(i, \": \", lst[1][i-1])"
   ]
  },
  {
   "cell_type": "code",
   "execution_count": 5,
   "id": "f96a593e",
   "metadata": {},
   "outputs": [
    {
     "name": "stdout",
     "output_type": "stream",
     "text": [
      "1 : land\n",
      "2 : sea\n",
      "3 : sky\n"
     ]
    }
   ],
   "source": [
    "lst = [[1,2,3], [\"land\", \"sea\", \"sky\"]]\n",
    "for i in lst[0]:\n",
    "    print(i, \":\", lst[1][i-1])"
   ]
  },
  {
   "cell_type": "markdown",
   "id": "49bcad38",
   "metadata": {},
   "source": [
    "Q) Factorial number"
   ]
  },
  {
   "cell_type": "code",
   "execution_count": null,
   "id": "6a4cb971",
   "metadata": {},
   "outputs": [],
   "source": [
    "['(a)', 'Sol. ', '(c)', 'Sol.', 'o-dihydroxy benzene or catechol.', '(b)', 'Sol. Glycols are dihydric alcohols (having two hydroxyl groups). Ethylene glycol is the first member of this series.', ' ', '(c)', 'Sol. Hydration of alkenes', 'Fermentation of sugars:', '\\t', '(c)', 'Sol. .', '(b)', 'Sol. ', '(a)', 'Sol. ', '(b)', 'Sol. ', '(b)', 'Sol. ', 'If we take moistthen alcohol is formed ', '(a)', 'Sol. ', '(b)', 'Sol.andattacks only carbonyl group and reduce it into alcohol group. They do not attack on double bond.', '(a)', 'Sol. ', '(c)', 'Sol. ', '(a)', 'Sol. ', 'Since on oxidation same no. of carbon atoms are obtained in as therefore alcohol is primary ', '(c)', 'Sol.', 'Increasing acidic character', '(b)', 'Sol. ', '(c)', 'Sol. ', ' reacts immediately ', ' reacts after 5 min.', ' reacts only on heating.', '(a)', 'Sol. ', '(b)', 'Sol. Tertiary alcohol readily reacts with halogen acid', 'Presence of 3 alkyl group increases electron density on carbon atom. Hencegroup is easily removed. After the removal ofgroupcarbonium ion is formed which is most stable', '(c)', 'Sol. o-Nitrophenol has intramolecular H-bonding.', '(c)', 'Sol.', 'or ', '(a)', 'Sol. Secondary alcohol on dehydrogenation gives acetone ', '(c)', 'Sol. ', '94 grams of phenol reacts with 480 gms. of .', '2 gm. of phenol—gms.', '(b)', 'Sol. A mixture of glyceryl trinitrate and glyceryl dinitrate when absorbed on kieselgurh is called dynamite.', '(c)', 'Sol. Groundnut oil.']\n",
    "\n",
    ">class MyModelAdmin(admin.ModelAdmin):\n",
    ">    list_display = ['tag_list']\n",
    ">\n",
    ">    def get_queryset(self, request):\n",
    ">        return super().get_queryset(request).prefetch_related('tags')\n",
    ">\n",
    ">    def tag_list(self, obj):\n",
    ">        return u\", \".join(o.name for o in obj.tags.all())\n"
   ]
  },
  {
   "cell_type": "code",
   "execution_count": 1,
   "id": "ebfe2ca5",
   "metadata": {},
   "outputs": [
    {
     "data": {
      "text/plain": [
       "['(a)',\n",
       " 'Sol. ',\n",
       " '(c)',\n",
       " 'Sol.',\n",
       " 'o-dihydroxy benzene or catechol.',\n",
       " '(b)',\n",
       " 'Sol. Glycols are dihydric alcohols (having two hydroxyl groups). Ethylene glycol is the first member of this series.',\n",
       " ' ',\n",
       " '(c)',\n",
       " 'Sol. Hydration of alkenes',\n",
       " 'Fermentation of sugars:',\n",
       " '\\t',\n",
       " '(c)',\n",
       " 'Sol. .',\n",
       " '(b)',\n",
       " 'Sol. ',\n",
       " '(a)',\n",
       " 'Sol. ',\n",
       " '(b)',\n",
       " 'Sol. ',\n",
       " '(b)',\n",
       " 'Sol. ',\n",
       " 'If we take moistthen alcohol is formed ',\n",
       " '(a)',\n",
       " 'Sol. ',\n",
       " '(b)',\n",
       " 'Sol.andattacks only carbonyl group and reduce it into alcohol group. They do not attack on double bond.',\n",
       " '(a)',\n",
       " 'Sol. ',\n",
       " '(c)',\n",
       " 'Sol. ',\n",
       " '(a)',\n",
       " 'Sol. ',\n",
       " 'Since on oxidation same no. of carbon atoms are obtained in as therefore alcohol is primary ',\n",
       " '(c)',\n",
       " 'Sol.',\n",
       " 'Increasing acidic character',\n",
       " '(b)',\n",
       " 'Sol. ',\n",
       " '(c)',\n",
       " 'Sol. ',\n",
       " ' reacts immediately ',\n",
       " ' reacts after 5 min.',\n",
       " ' reacts only on heating.',\n",
       " '(a)',\n",
       " 'Sol. ',\n",
       " '(b)',\n",
       " 'Sol. Tertiary alcohol readily reacts with halogen acid',\n",
       " 'Presence of 3 alkyl group increases electron density on carbon atom. Hencegroup is easily removed. After the removal ofgroupcarbonium ion is formed which is most stable',\n",
       " '(c)',\n",
       " 'Sol. o-Nitrophenol has intramolecular H-bonding.',\n",
       " '(c)',\n",
       " 'Sol.',\n",
       " 'or ',\n",
       " '(a)',\n",
       " 'Sol. Secondary alcohol on dehydrogenation gives acetone ',\n",
       " '(c)',\n",
       " 'Sol. ',\n",
       " '94 grams of phenol reacts with 480 gms. of .',\n",
       " '2 gm. of phenol—gms.',\n",
       " '(b)',\n",
       " 'Sol. A mixture of glyceryl trinitrate and glyceryl dinitrate when absorbed on kieselgurh is called dynamite.',\n",
       " '(c)',\n",
       " 'Sol. Groundnut oil.']"
      ]
     },
     "execution_count": 1,
     "metadata": {},
     "output_type": "execute_result"
    }
   ],
   "source": [
    "['(a)', 'Sol. ', '(c)', 'Sol.', 'o-dihydroxy benzene or catechol.',\n",
    " '(b)', 'Sol. Glycols are dihydric alcohols (having two hydroxyl groups). Ethylene glycol is the first member of this series.',\n",
    " ' ', \n",
    " '(c)', 'Sol. Hydration of alkenes', 'Fermentation of sugars:', '\\t',\n",
    " '(c)', 'Sol. .', '(b)', 'Sol. ', '(a)', 'Sol. ', \n",
    " '(b)', 'Sol. ', '(b)', 'Sol. ', 'If we take moistthen alcohol is formed ', \n",
    " '(a)', 'Sol. ', '(b)',\n",
    " 'Sol.andattacks only carbonyl group and reduce it into alcohol group. They do not attack on double bond.', \n",
    " '(a)', 'Sol. ', '(c)', 'Sol. ',\n",
    " '(a)', 'Sol. ', 'Since on oxidation same no. of carbon atoms are obtained in as therefore alcohol is primary ', \n",
    " '(c)', 'Sol.', 'Increasing acidic character', '(b)', 'Sol. ', \n",
    " '(c)', 'Sol. ', ' reacts immediately ', ' reacts after 5 min.', ' reacts only on heating.',\n",
    " '(a)', 'Sol. ',\n",
    " '(b)',\n",
    " 'Sol. Tertiary alcohol readily reacts with halogen acid',\n",
    " 'Presence of 3 alkyl group increases electron density on carbon atom. Hencegroup is easily removed. After the removal ofgroupcarbonium ion is formed which is most stable', \n",
    " '(c)', 'Sol. o-Nitrophenol has intramolecular H-bonding.', \n",
    " '(c)', 'Sol.', 'or ', '(a)', 'Sol. Secondary alcohol on dehydrogenation gives acetone ',\n",
    " '(c)', 'Sol. ', '94 grams of phenol reacts with 480 gms. of .', '2 gm. of phenol—gms.', \n",
    " '(b)', 'Sol. A mixture of glyceryl trinitrate and glyceryl dinitrate when absorbed on kieselgurh is called dynamite.', \n",
    " '(c)', 'Sol. Groundnut oil.']\n"
   ]
  },
  {
   "cell_type": "code",
   "execution_count": null,
   "id": "751b4c7b",
   "metadata": {},
   "outputs": [],
   "source": []
  }
 ],
 "metadata": {
  "kernelspec": {
   "display_name": "Python 3 (ipykernel)",
   "language": "python",
   "name": "python3"
  },
  "language_info": {
   "codemirror_mode": {
    "name": "ipython",
    "version": 3
   },
   "file_extension": ".py",
   "mimetype": "text/x-python",
   "name": "python",
   "nbconvert_exporter": "python",
   "pygments_lexer": "ipython3",
   "version": "3.10.4"
  }
 },
 "nbformat": 4,
 "nbformat_minor": 5
}
