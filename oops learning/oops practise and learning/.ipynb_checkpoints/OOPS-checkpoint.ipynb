{
 "cells": [
  {
   "cell_type": "markdown",
   "id": "029e43ff",
   "metadata": {},
   "source": [
    "# Create a Normal Class Without Function."
   ]
  },
  {
   "cell_type": "code",
   "execution_count": null,
   "id": "e40430ff",
   "metadata": {},
   "outputs": [],
   "source": [
    "# Normal class using constructor\n",
    "class Employee:\n",
    "    def __init__(self,name,age):         #constructor(__init__), self is the reference of the attribute\n",
    "        self.name=name                   #attribute name   (instance variable)\n",
    "        self.age=age                     #attribute age    (instance variable)\n",
    "emp=Employee(\"Array\",123)                #object\n",
    "#[We create object by instantiating class name i.e why we call obj as instance of class]\n",
    "\n",
    "print(\"This is -\",emp.name,\"and it holds the value of -\",emp.age)\n",
    "# [Acessing using object and attribute name]"
   ]
  },
  {
   "cell_type": "code",
   "execution_count": 2,
   "id": "c9daa19b",
   "metadata": {},
   "outputs": [
    {
     "name": "stdout",
     "output_type": "stream",
     "text": [
      "People uses DJ\n"
     ]
    },
    {
     "ename": "NameError",
     "evalue": "name 'empy' is not defined",
     "output_type": "error",
     "traceback": [
      "\u001b[1;31m---------------------------------------------------------------------------\u001b[0m",
      "\u001b[1;31mNameError\u001b[0m                                 Traceback (most recent call last)",
      "Input \u001b[1;32mIn [2]\u001b[0m, in \u001b[0;36m<cell line: 10>\u001b[1;34m()\u001b[0m\n\u001b[0;32m      7\u001b[0m         \u001b[38;5;28mprint\u001b[39m(\u001b[38;5;124m\"\u001b[39m\u001b[38;5;124mPeople uses\u001b[39m\u001b[38;5;124m\"\u001b[39m,\u001b[38;5;28mself\u001b[39m\u001b[38;5;241m.\u001b[39mdj)\n\u001b[0;32m      9\u001b[0m         \u001b[38;5;28mprint\u001b[39m(\u001b[38;5;124m\"\u001b[39m\u001b[38;5;124mI am have set the\u001b[39m\u001b[38;5;124m\"\u001b[39m,empy\u001b[38;5;241m.\u001b[39mdj)\n\u001b[1;32m---> 10\u001b[0m empy\u001b[38;5;241m=\u001b[39m\u001b[43mEmp\u001b[49m\u001b[43m(\u001b[49m\u001b[38;5;124;43m\"\u001b[39;49m\u001b[38;5;124;43mDJ\u001b[39;49m\u001b[38;5;124;43m\"\u001b[39;49m\u001b[43m)\u001b[49m\n",
      "Input \u001b[1;32mIn [2]\u001b[0m, in \u001b[0;36mEmp.__init__\u001b[1;34m(self, dj)\u001b[0m\n\u001b[0;32m      5\u001b[0m \u001b[38;5;28mself\u001b[39m\u001b[38;5;241m.\u001b[39mdj\u001b[38;5;241m=\u001b[39mdj\n\u001b[0;32m      7\u001b[0m \u001b[38;5;28mprint\u001b[39m(\u001b[38;5;124m\"\u001b[39m\u001b[38;5;124mPeople uses\u001b[39m\u001b[38;5;124m\"\u001b[39m,\u001b[38;5;28mself\u001b[39m\u001b[38;5;241m.\u001b[39mdj)\n\u001b[1;32m----> 9\u001b[0m \u001b[38;5;28mprint\u001b[39m(\u001b[38;5;124m\"\u001b[39m\u001b[38;5;124mI am have set the\u001b[39m\u001b[38;5;124m\"\u001b[39m,\u001b[43mempy\u001b[49m\u001b[38;5;241m.\u001b[39mdj)\n",
      "\u001b[1;31mNameError\u001b[0m: name 'empy' is not defined"
     ]
    }
   ],
   "source": [
    "# Example \n",
    "\n",
    "class Emp:\n",
    "    def __init__(self,dj):\n",
    "        self.dj=dj\n",
    "        \n",
    "        print(\"People uses\",self.dj)\n",
    "\n",
    "#         print(\"I am have set the\",empy.dj)\n",
    "empy=Emp(\"DJ\")\n"
   ]
  },
  {
   "cell_type": "code",
   "execution_count": 1,
   "id": "7c0ae158",
   "metadata": {},
   "outputs": [
    {
     "name": "stdout",
     "output_type": "stream",
     "text": [
      "Name pen People cap\n"
     ]
    }
   ],
   "source": [
    "class student:\n",
    "    def __init__(self,a,b):\n",
    "        self.a=a\n",
    "        self.b=b\n",
    "# Behaviour instance method\n",
    "    def yes(self):\n",
    "        print(\"Name\",self.a,\"People\",self.b)           #acessing instance variable and printing it\n",
    "\n",
    "# create object of class\n",
    "object=student(\"pen\",\"cap\")  \n",
    "\n",
    "# call methods\n",
    "object.yes()"
   ]
  },
  {
   "cell_type": "markdown",
   "id": "d5c14258",
   "metadata": {},
   "source": [
    "# class"
   ]
  },
  {
   "cell_type": "code",
   "execution_count": null,
   "id": "c3cc872c",
   "metadata": {},
   "outputs": [],
   "source": []
  },
  {
   "cell_type": "code",
   "execution_count": null,
   "id": "5b85af90",
   "metadata": {},
   "outputs": [],
   "source": []
  },
  {
   "cell_type": "code",
   "execution_count": null,
   "id": "69a7e249",
   "metadata": {},
   "outputs": [],
   "source": []
  },
  {
   "cell_type": "markdown",
   "id": "8789dc39",
   "metadata": {},
   "source": [
    "# Class Attribute"
   ]
  },
  {
   "cell_type": "markdown",
   "id": "a96cbb00",
   "metadata": {},
   "source": [
    "instance_name.attribute_name."
   ]
  },
  {
   "cell_type": "code",
   "execution_count": 18,
   "id": "a9ce0979",
   "metadata": {},
   "outputs": [
    {
     "name": "stdout",
     "output_type": "stream",
     "text": [
      "The ball pen has different Color and of ink in inkpen is Blue\n",
      "The pen is called Blue pen\n",
      "The ball pen has different RedBlueGreen and of ink in inkpen is INKPEN\n",
      "The pen is called INKPEN pen\n"
     ]
    }
   ],
   "source": [
    "# Modifing the instance variable \n",
    "class Pen:\n",
    "#     Creating constructor\n",
    "    def __init__(self,ball,ink):\n",
    "        self.ball=ball\n",
    "        self.ink=ink\n",
    "        \n",
    "    def inkpen(self):\n",
    "        print(\"The pen is called\",self.ink,\"pen\")\n",
    "        \n",
    "write=Pen(\"Color\",\"Blue\")\n",
    "\n",
    "print(\"The ball pen has different\",write.ball,\"and of ink in inkpen is\",write.ink)\n",
    "\n",
    "write.inkpen()\n",
    "write.ball=\"RedBlueGreen\"\n",
    "write.ink=\"INKPEN\"\n",
    "print(\"The ball pen has different\",write.ball,\"and of ink in inkpen is\",write.ink)\n",
    "write.inkpen()"
   ]
  },
  {
   "cell_type": "code",
   "execution_count": 24,
   "id": "81c418ee",
   "metadata": {},
   "outputs": [
    {
     "name": "stdout",
     "output_type": "stream",
     "text": [
      "the value1 a\n"
     ]
    }
   ],
   "source": [
    "class emp:\n",
    "    def show(self,a,b):\n",
    "        print(\"the value1\",a)\n",
    "obj=emp()\n",
    "obj.show(\"a\",\"b\")"
   ]
  },
  {
   "cell_type": "code",
   "execution_count": 25,
   "id": "2cde131e",
   "metadata": {},
   "outputs": [
    {
     "name": "stdout",
     "output_type": "stream",
     "text": [
      "anam\n"
     ]
    }
   ],
   "source": [
    "def fun(a):\n",
    "    print(a)\n",
    "fun(\"anam\")"
   ]
  },
  {
   "cell_type": "code",
   "execution_count": 45,
   "id": "f62d0ab7",
   "metadata": {},
   "outputs": [
    {
     "name": "stdout",
     "output_type": "stream",
     "text": [
      "I passed in 10th i failed in 5th Becoz my school name is ABC School\n",
      "I passed in tenth i failed in fifth Becoz my school name is ABC School\n",
      "I have changed my school i.e Pagal\n"
     ]
    }
   ],
   "source": [
    "# Class attribute\n",
    "\n",
    "class student:\n",
    "    school_name=\"ABC School\"\n",
    "    \n",
    "    def __init__(self,passed,fail):\n",
    "        self.fail=fail\n",
    "        self.passed=passed\n",
    "       \n",
    "    \n",
    "    \n",
    "s1=student(\"10th\",\"5th\")\n",
    "\n",
    "print(\"I passed in\",s1.passed,\"i failed in\",s1.fail,\"Becoz my school name is\",student.school_name)\n",
    "\n",
    "s1.fail=\"fifth\"\n",
    "s1.passed=\"tenth\"\n",
    "\n",
    "print(\"I passed in\",s1.passed,\"i failed in\",s1.fail,\"Becoz my school name is\",student.school_name)\n",
    "\n",
    "student.school_name=\"Pagal\"\n",
    "print(\"I have changed my school i.e\",student.school_name)\n",
    "    "
   ]
  },
  {
   "cell_type": "markdown",
   "id": "22ff9d22",
   "metadata": {},
   "source": [
    "# Class Method"
   ]
  },
  {
   "cell_type": "code",
   "execution_count": 54,
   "id": "5be7af86",
   "metadata": {},
   "outputs": [
    {
     "name": "stdout",
     "output_type": "stream",
     "text": [
      "This is RassiWire Meri School\n",
      "This is WireKidukan Meri School\n",
      "This is Pakkawire Meri School\n",
      "This is Pakkawire Humari School\n"
     ]
    }
   ],
   "source": [
    "class Student:\n",
    "    school=\"Meri School\"\n",
    "    \n",
    "    def __init__(self,wire):\n",
    "        self.wire=wire\n",
    "\n",
    "        # instance Method [used to accesing and modifying the object state]\n",
    "        # We are accesing the object\n",
    "    def show(self):\n",
    "         # access instance variable and class variable\n",
    "        print(\"This is\",self.wire,Student.school)\n",
    "    \n",
    "    #We are modifying the object state\n",
    "    def change_show(self,newwire):\n",
    "        # Modify instance variable         \n",
    "        self.wire = newwire\n",
    "        \n",
    "    #Class Method\n",
    "    @classmethod\n",
    "    def modify_school(cls,new_school):\n",
    "        cls.school = new_school\n",
    "        \n",
    "s2=Student(\"RassiWire\")\n",
    "\n",
    "# call instance variable\n",
    "s2.show()\n",
    "# ------------------different ways to modyfy---------------------\n",
    "# Modifying instance variable\n",
    "s2.wire=\"WireKidukan\"\n",
    "s2.show()\n",
    "\n",
    "# Modifing the instance variable- change variable value\n",
    "s2.change_show(\"Pakkawire\")  \n",
    "\n",
    "# calling the main function\n",
    "s2.show()      \n",
    "\n",
    "# modifying chnage in Student class name\n",
    "Student.modify_school(\"Humari School\")\n",
    "s2.show()\n"
   ]
  },
  {
   "cell_type": "code",
   "execution_count": 6,
   "id": "d8f44aab",
   "metadata": {},
   "outputs": [
    {
     "name": "stdout",
     "output_type": "stream",
     "text": [
      "one 1 , two 2\n",
      "one 1st , two 2nd\n"
     ]
    }
   ],
   "source": [
    "class example:\n",
    "    def __init__(self,a,b):\n",
    "        self.a=a\n",
    "        self.b=b\n",
    "        \n",
    "        \n",
    "    def fun(self):\n",
    "        print(\"one\",self.a,\", two\",self.b)\n",
    "    \n",
    "#     Modifying the instance method\n",
    "    def change(self,c,d):  \n",
    "        self.a=c\n",
    "        self.b=d\n",
    "    \n",
    "obj = example(1,2)\n",
    "obj.fun()\n",
    "\n",
    "# Assigning the value.\n",
    "obj.change(\"1st\",\"2nd\")\n",
    "obj.fun()"
   ]
  },
  {
   "cell_type": "markdown",
   "id": "d65c8e3a",
   "metadata": {},
   "source": [
    "# Pass Statement"
   ]
  },
  {
   "cell_type": "code",
   "execution_count": 10,
   "id": "cca87801",
   "metadata": {},
   "outputs": [
    {
     "name": "stdout",
     "output_type": "stream",
     "text": [
      "hey\n",
      "hello\n"
     ]
    }
   ],
   "source": [
    "class name:\n",
    "    print(\"hey\")\n",
    "     \n",
    "    pass\n",
    "\n",
    "print(\"hello\")"
   ]
  },
  {
   "cell_type": "markdown",
   "id": "e4ee4e08",
   "metadata": {},
   "source": [
    "# Delete Object"
   ]
  },
  {
   "cell_type": "code",
   "execution_count": 13,
   "id": "e69b89b0",
   "metadata": {},
   "outputs": [
    {
     "name": "stdout",
     "output_type": "stream",
     "text": [
      "one 1 , two 2\n"
     ]
    },
    {
     "ename": "AttributeError",
     "evalue": "'deleting' object has no attribute 'b'",
     "output_type": "error",
     "traceback": [
      "\u001b[1;31m---------------------------------------------------------------------------\u001b[0m",
      "\u001b[1;31mAttributeError\u001b[0m                            Traceback (most recent call last)",
      "Input \u001b[1;32mIn [13]\u001b[0m, in \u001b[0;36m<cell line: 15>\u001b[1;34m()\u001b[0m\n\u001b[0;32m     12\u001b[0m obj\u001b[38;5;241m.\u001b[39mfun()\n\u001b[0;32m     14\u001b[0m \u001b[38;5;28;01mdel\u001b[39;00m obj\u001b[38;5;241m.\u001b[39mb\n\u001b[1;32m---> 15\u001b[0m \u001b[43mobj\u001b[49m\u001b[38;5;241;43m.\u001b[39;49m\u001b[43mfun\u001b[49m\u001b[43m(\u001b[49m\u001b[43m)\u001b[49m\n",
      "Input \u001b[1;32mIn [13]\u001b[0m, in \u001b[0;36mdeleting.fun\u001b[1;34m(self)\u001b[0m\n\u001b[0;32m      7\u001b[0m \u001b[38;5;28;01mdef\u001b[39;00m \u001b[38;5;21mfun\u001b[39m(\u001b[38;5;28mself\u001b[39m):\n\u001b[1;32m----> 8\u001b[0m     \u001b[38;5;28mprint\u001b[39m(\u001b[38;5;124m\"\u001b[39m\u001b[38;5;124mone\u001b[39m\u001b[38;5;124m\"\u001b[39m,\u001b[38;5;28mself\u001b[39m\u001b[38;5;241m.\u001b[39ma,\u001b[38;5;124m\"\u001b[39m\u001b[38;5;124m, two\u001b[39m\u001b[38;5;124m\"\u001b[39m,\u001b[38;5;28;43mself\u001b[39;49m\u001b[38;5;241;43m.\u001b[39;49m\u001b[43mb\u001b[49m)\n",
      "\u001b[1;31mAttributeError\u001b[0m: 'deleting' object has no attribute 'b'"
     ]
    }
   ],
   "source": [
    "class deleting:\n",
    "    def __init__(self,a,b):\n",
    "        self.a=a\n",
    "        self.b=b\n",
    "        \n",
    "        \n",
    "    def fun(self):\n",
    "        print(\"one\",self.a,\", two\",self.b)\n",
    "\n",
    "    \n",
    "obj = deleting(1,2)\n",
    "obj.fun()\n",
    "\n",
    "del obj.b\n",
    "obj.fun()"
   ]
  },
  {
   "cell_type": "markdown",
   "id": "947e8dfe",
   "metadata": {},
   "source": [
    "# * CONTRUCTOR"
   ]
  },
  {
   "cell_type": "markdown",
   "id": "87bc930c",
   "metadata": {},
   "source": [
    "# Default contructor- with no argument"
   ]
  },
  {
   "cell_type": "code",
   "execution_count": 6,
   "id": "bab5e143",
   "metadata": {},
   "outputs": [
    {
     "name": "stdout",
     "output_type": "stream",
     "text": [
      "Inside Display\n"
     ]
    }
   ],
   "source": [
    "class Employee:\n",
    "\n",
    "    def display(self):\n",
    "        print('Inside Display')\n",
    "\n",
    "emp = Employee()\n",
    "emp.display()"
   ]
  },
  {
   "cell_type": "code",
   "execution_count": 3,
   "id": "5ef65127",
   "metadata": {},
   "outputs": [
    {
     "name": "stdout",
     "output_type": "stream",
     "text": [
      "hey\n"
     ]
    }
   ],
   "source": [
    "class empl:\n",
    "    def dis(a):\n",
    "        print(\"hey\")\n",
    "\n",
    "rest=empl()\n",
    "rest.dis()"
   ]
  },
  {
   "cell_type": "markdown",
   "id": "55970f06",
   "metadata": {},
   "source": [
    "# Paramatrized Constructor - with argument"
   ]
  },
  {
   "cell_type": "code",
   "execution_count": 5,
   "id": "0829429b",
   "metadata": {},
   "outputs": [
    {
     "name": "stdout",
     "output_type": "stream",
     "text": [
      "2 3\n"
     ]
    }
   ],
   "source": [
    "class Employee:\n",
    "    def __init__(self,a,b):   #a,b as argument\n",
    "        self.a=a\n",
    "        self.b=b\n",
    "        \n",
    "    def paramat(self):\n",
    "        print(self.a,self.b)\n",
    "        \n",
    "obj=Employee(2,3)\n",
    "obj.paramat()"
   ]
  },
  {
   "cell_type": "markdown",
   "id": "6acf9336",
   "metadata": {},
   "source": [
    "# Non Paramatrized"
   ]
  },
  {
   "cell_type": "code",
   "execution_count": 3,
   "id": "5798523b",
   "metadata": {},
   "outputs": [
    {
     "name": "stdout",
     "output_type": "stream",
     "text": [
      "Apple Ballon\n"
     ]
    }
   ],
   "source": [
    "class Para:\n",
    "    def __init__(self):   #without any argument\n",
    "        self.a=\"Apple\"\n",
    "        self.b=\"Ballon\"\n",
    "    \n",
    "        \n",
    "    def paramat(self):\n",
    "        print(self.a,self.b)\n",
    "        \n",
    "obj=Para()\n",
    "obj.paramat()"
   ]
  },
  {
   "cell_type": "markdown",
   "id": "b4e1188f",
   "metadata": {},
   "source": [
    "# Default values"
   ]
  },
  {
   "cell_type": "code",
   "execution_count": 6,
   "id": "69e5d6cc",
   "metadata": {},
   "outputs": [
    {
     "name": "stdout",
     "output_type": "stream",
     "text": [
      "Apple Grapes 5\n"
     ]
    }
   ],
   "source": [
    "class Default:\n",
    "    def __init__(self,a,b=12,c=5):   # variable with default values\n",
    "        self.a=a\n",
    "        self.b=b\n",
    "        self.c=c\n",
    "    \n",
    "    def paramat(self):\n",
    "        print(self.a,self.b,self.c)  \n",
    "        \n",
    "obj=Default(\"Apple\",\"Grapes\")\n",
    "obj.paramat()\n"
   ]
  },
  {
   "cell_type": "markdown",
   "id": "4b771ed7",
   "metadata": {},
   "source": [
    "# Constructor Overloading"
   ]
  },
  {
   "cell_type": "code",
   "execution_count": 16,
   "id": "93d5ae4e",
   "metadata": {},
   "outputs": [
    {
     "name": "stdout",
     "output_type": "stream",
     "text": [
      "First gjd\n"
     ]
    }
   ],
   "source": [
    "class Overload:\n",
    "    def __init__(self,a):\n",
    "        self.a=a\n",
    "        \n",
    "    def __init__(self,c,b):\n",
    "        self.c=c\n",
    "        self.b=b\n",
    "        \n",
    "obj= Overload(\"First\",\"gjd\") \n",
    "print(obj.c,obj.b)\n",
    "\n",
    "obj1=Overload(\"Object\",\"Second\")\n",
    "print(obj1.a,obj1.b)"
   ]
  },
  {
   "cell_type": "markdown",
   "id": "6fc7bb77",
   "metadata": {},
   "source": [
    "# Constructor Chaining"
   ]
  },
  {
   "cell_type": "code",
   "execution_count": 25,
   "id": "1e3f9e69",
   "metadata": {},
   "outputs": [
    {
     "name": "stdout",
     "output_type": "stream",
     "text": [
      "Outside\n",
      "Inside\n",
      "The value- 156\n"
     ]
    }
   ],
   "source": [
    "class Chaining:\n",
    "    def __init__(self,name):\n",
    "        self.name=name\n",
    "        print(\"Outside\")\n",
    "        \n",
    "class Construct(Chaining):\n",
    "    def __init__(self,name,engine,speed):   \n",
    "        super().__init__(name)\n",
    "        self.engine=engine\n",
    "        self.speed=speed\n",
    "        print(\"Inside\")\n",
    "        \n",
    "obj=Construct(\"156\",\"speed\",\"name\")  \n",
    "print(\"The value-\",obj.name,)"
   ]
  },
  {
   "cell_type": "markdown",
   "id": "00466859",
   "metadata": {},
   "source": [
    "# INSTANCE VARIABLE"
   ]
  },
  {
   "cell_type": "markdown",
   "id": "bd49605a",
   "metadata": {},
   "source": [
    "* Ways to Access Instance "
   ]
  },
  {
   "cell_type": "code",
   "execution_count": 4,
   "id": "d39299f7",
   "metadata": {},
   "outputs": [
    {
     "name": "stdout",
     "output_type": "stream",
     "text": [
      "hey You\n",
      "Are You\n",
      "Who are You\n"
     ]
    }
   ],
   "source": [
    "class Inst:\n",
    "    def __init__(self,a):\n",
    "        self.a=a\n",
    "    def examp(this):\n",
    "        print(\"hey\",this.a)\n",
    "        \n",
    "why=Inst(\"You\")\n",
    "why.examp()   #acessed instance method using object\n",
    "\n",
    "print(\"Are\",why.a)    #accessed with the help of object and its attribute.attribute it has got from constructor \n",
    "print(\"Who are\",getattr(why,'a'))   #accessed using getattr"
   ]
  },
  {
   "cell_type": "markdown",
   "id": "64a92e9d",
   "metadata": {},
   "source": [
    "* Dynamically add instance variable to a obj"
   ]
  },
  {
   "cell_type": "code",
   "execution_count": 7,
   "id": "45168122",
   "metadata": {},
   "outputs": [
    {
     "name": "stdout",
     "output_type": "stream",
     "text": [
      "hey You\n",
      "Are You\n",
      "You Idiot\n",
      "Who are You\n",
      "Are you Idiot\n"
     ]
    }
   ],
   "source": [
    "class Inst:\n",
    "    def __init__(self,a):\n",
    "        self.a=a\n",
    "    def examp(this):\n",
    "        print(\"hey\",this.a)\n",
    "        \n",
    "why=Inst(\"You\")\n",
    "why.examp()\n",
    "\n",
    "why.b=\"Idiot\"       #adding new instance variable outside the class\n",
    "print(\"Are\",why.a)  \n",
    "print(why.a,why.b)  #accessing instance variable\n",
    "\n",
    "print(\"Who are\",getattr(why,'a')) \n",
    "print(\"Are you\",getattr(why,\"b\"))\n",
    "\n"
   ]
  },
  {
   "cell_type": "markdown",
   "id": "29d4ca8d",
   "metadata": {},
   "source": [
    "*Dynamically Delete Instance Variable"
   ]
  },
  {
   "cell_type": "code",
   "execution_count": 9,
   "id": "1aa56042",
   "metadata": {},
   "outputs": [
    {
     "name": "stdout",
     "output_type": "stream",
     "text": [
      "hey You\n"
     ]
    },
    {
     "ename": "AttributeError",
     "evalue": "'Inst' object has no attribute 'a'",
     "output_type": "error",
     "traceback": [
      "\u001b[1;31m---------------------------------------------------------------------------\u001b[0m",
      "\u001b[1;31mAttributeError\u001b[0m                            Traceback (most recent call last)",
      "Input \u001b[1;32mIn [9]\u001b[0m, in \u001b[0;36m<cell line: 12>\u001b[1;34m()\u001b[0m\n\u001b[0;32m      9\u001b[0m why\u001b[38;5;241m.\u001b[39mexamp()\n\u001b[0;32m     11\u001b[0m \u001b[38;5;28;01mdel\u001b[39;00m why\u001b[38;5;241m.\u001b[39ma\n\u001b[1;32m---> 12\u001b[0m \u001b[38;5;28mprint\u001b[39m(\u001b[43mwhy\u001b[49m\u001b[38;5;241;43m.\u001b[39;49m\u001b[43ma\u001b[49m)\n",
      "\u001b[1;31mAttributeError\u001b[0m: 'Inst' object has no attribute 'a'"
     ]
    }
   ],
   "source": [
    "class Inst:\n",
    "    def __init__(self,a,b):\n",
    "        self.a=a\n",
    "        self.b=b\n",
    "    def examp(this):\n",
    "        print(\"hey\",this.a)\n",
    "        \n",
    "why=Inst(\"You\")\n",
    "why.examp()\n",
    "\n",
    "del why.a\n",
    "print(why.a)\n",
    "\n"
   ]
  },
  {
   "cell_type": "code",
   "execution_count": 1,
   "id": "ea842b26",
   "metadata": {},
   "outputs": [
    {
     "name": "stdout",
     "output_type": "stream",
     "text": [
      "Engine: engine\n",
      "Max Speed: 240\n"
     ]
    }
   ],
   "source": [
    "class Vehicle:\n",
    "    def __init__(self):\n",
    "#         self.engine = engine   [#trial if we pass this way then]\n",
    "        self.engine = \"engine\"\n",
    "\n",
    "class Car(Vehicle):\n",
    "    def __init__(self, max_speed):\n",
    "        # call parent class constructor\n",
    "        super().__init__()\n",
    "        self.max_speed = max_speed\n",
    "\n",
    "    def display(self):\n",
    "        # access parent class instance variables 'engine'\n",
    "        print(\"Engine:\", self.engine)\n",
    "        print(\"Max Speed:\", self.max_speed)\n",
    "\n",
    "# Object of car\n",
    "car = Car(240)\n",
    "car.display()\n"
   ]
  },
  {
   "cell_type": "markdown",
   "id": "84679f60",
   "metadata": {},
   "source": [
    "# INSTANCE VARIABLE"
   ]
  },
  {
   "cell_type": "markdown",
   "id": "6e2f7405",
   "metadata": {},
   "source": [
    "# Modify instance variable "
   ]
  },
  {
   "cell_type": "code",
   "execution_count": 5,
   "id": "c0dcac66",
   "metadata": {},
   "outputs": [
    {
     "name": "stdout",
     "output_type": "stream",
     "text": [
      "Value is a method\n",
      "Instance is a method\n"
     ]
    }
   ],
   "source": [
    "class Modify:\n",
    "    def __init__(self,unchange,instance):\n",
    "        self.unchange=unchange\n",
    "        self.instance=instance\n",
    "        \n",
    "    def changing(self,change):\n",
    "        self.unchange=change\n",
    "        \n",
    "    \n",
    "        \n",
    "new = Modify(\"Value\",\"method\")\n",
    "print(new.unchange,\"is a\",new.instance)\n",
    "\n",
    "new.changing(\"Instance\")\n",
    "print(new.unchange,\"is a\",new.instance)\n"
   ]
  },
  {
   "cell_type": "code",
   "execution_count": 7,
   "id": "8a9a7fc5",
   "metadata": {},
   "outputs": [
    {
     "name": "stdout",
     "output_type": "stream",
     "text": [
      "Value is a method\n",
      "english is a method\n"
     ]
    }
   ],
   "source": [
    "class Modify:\n",
    "    def __init__(self,unchange,instance):\n",
    "        self.unchange=unchange\n",
    "        self.instance=instance\n",
    "        \n",
    "# instance method to add instance variable\n",
    "    def add(self,marks):\n",
    "# add new attribute to current object\n",
    "        self.marks=marks\n",
    "\n",
    "new = Modify(\"Value\",\"method\")\n",
    "print(new.unchange,\"is a\",new.instance)\n",
    "\n",
    "#new attrible value\n",
    "new.add(\"english\")  #assigning new value using obj and method name\n",
    "print(new.marks)    #calling new variable using the instance variable of its method"
   ]
  },
  {
   "cell_type": "code",
   "execution_count": 7,
   "id": "d5a764ed",
   "metadata": {},
   "outputs": [
    {
     "name": "stdout",
     "output_type": "stream",
     "text": [
      "Value is a method\n",
      "Value is a Instance\n"
     ]
    }
   ],
   "source": [
    "class Modify:\n",
    "    def __init__(self,a,b):\n",
    "        self.a=a\n",
    "        self.b=b\n",
    "\n",
    "    def changing(self,c):\n",
    "        self.c=c\n",
    "\n",
    "new = Modify(\"Value\",\"method\")\n",
    "print(new.a,\"is a\",new.b)\n",
    "\n",
    "new.changing(\"Instance\")\n",
    "print(new.a,\"is a\",new.c)"
   ]
  },
  {
   "cell_type": "markdown",
   "id": "2c3dfd01",
   "metadata": {},
   "source": [
    "*Dynamically add instance method"
   ]
  },
  {
   "cell_type": "code",
   "execution_count": 14,
   "id": "fe10bc6b",
   "metadata": {},
   "outputs": [
    {
     "name": "stdout",
     "output_type": "stream",
     "text": [
      "Value\n",
      "method\n"
     ]
    }
   ],
   "source": [
    "import types\n",
    "\n",
    "class Modify:\n",
    "    def __init__(self,unchange,instance):\n",
    "        self.unchange=unchange\n",
    "        self.instance=instance\n",
    "        \n",
    "    def define(self):\n",
    "        print(self.unchange)\n",
    "        \n",
    "def newvalue(self):         #defined instance variable outside the class\n",
    "    print(self.instance)\n",
    "\n",
    "new = Modify(\"Value\",\"method\")\n",
    "new.define()\n",
    "\n",
    "new.newvalue = types.MethodType(newvalue,new)   #assigning the value\n",
    "new.newvalue()"
   ]
  },
  {
   "cell_type": "code",
   "execution_count": 23,
   "id": "b05827d4",
   "metadata": {},
   "outputs": [
    {
     "name": "stdout",
     "output_type": "stream",
     "text": [
      "Name: Emma Age: 14\n",
      "Percentage: 64.5\n"
     ]
    },
    {
     "ename": "AttributeError",
     "evalue": "percentage",
     "output_type": "error",
     "traceback": [
      "\u001b[1;31m---------------------------------------------------------------------------\u001b[0m",
      "\u001b[1;31mAttributeError\u001b[0m                            Traceback (most recent call last)",
      "Input \u001b[1;32mIn [23]\u001b[0m, in \u001b[0;36m<cell line: 20>\u001b[1;34m()\u001b[0m\n\u001b[0;32m     17\u001b[0m emma\u001b[38;5;241m.\u001b[39mpercentage(\u001b[38;5;241m67\u001b[39m, \u001b[38;5;241m62\u001b[39m)\n\u001b[0;32m     19\u001b[0m \u001b[38;5;66;03m# Delete the method from class using del operator\u001b[39;00m\n\u001b[1;32m---> 20\u001b[0m \u001b[38;5;28;01mdel\u001b[39;00m emma\u001b[38;5;241m.\u001b[39mpercentage\n\u001b[0;32m     23\u001b[0m \u001b[38;5;66;03m# delete instance method percentage() using delattr()\u001b[39;00m\n\u001b[0;32m     24\u001b[0m \u001b[38;5;28mdelattr\u001b[39m(emma, \u001b[38;5;124m'\u001b[39m\u001b[38;5;124mshow\u001b[39m\u001b[38;5;124m'\u001b[39m)\n",
      "\u001b[1;31mAttributeError\u001b[0m: percentage"
     ]
    }
   ],
   "source": [
    "class Student:\n",
    "    # constructor\n",
    "    def __init__(self, name, age):\n",
    "        self.name = name\n",
    "        self.age = age\n",
    "\n",
    "    # instance method\n",
    "    def show(self):\n",
    "        print('Name:', self.name, 'Age:', self.age)\n",
    "\n",
    "    # instance method\n",
    "    def percentage(self, sub1, sub2):\n",
    "        print('Percentage:', (sub1 + sub2) / 2)\n",
    "\n",
    "emma = Student('Emma', 14)\n",
    "emma.show()\n",
    "emma.percentage(67, 62)\n",
    "\n",
    "# Delete the method from class using del operator\n",
    "del emma.percentage\n",
    "\n",
    "# delete instance method percentage() using delattr()\n",
    "delattr(emma, 'show')\n",
    "emma.show()\n",
    "\n",
    "\n",
    "# Again calling percentage() method\n",
    "# It will raise error\n",
    "emma.show(67, 62)\n",
    "\n"
   ]
  },
  {
   "cell_type": "markdown",
   "id": "de1fe22a",
   "metadata": {},
   "source": [
    "*Accessing Variable In dictinary"
   ]
  },
  {
   "cell_type": "code",
   "execution_count": 11,
   "id": "7a527ce1",
   "metadata": {},
   "outputs": [
    {
     "name": "stdout",
     "output_type": "stream",
     "text": [
      "anam khan\n",
      "{'a': 'anam', 'b': 'khan'}\n"
     ]
    }
   ],
   "source": [
    "class Vehicle:\n",
    "    def __init__(self,a,b):\n",
    "        self.a=a\n",
    "        self.b=b\n",
    "    def show(self):\n",
    "        print(self.a,self.b)\n",
    "\n",
    "obj=Vehicle(\"anam\",\"khan\")\n",
    "obj.show()\n",
    "print(obj.__dict__)"
   ]
  },
  {
   "cell_type": "markdown",
   "id": "71836bd3",
   "metadata": {},
   "source": [
    "# Class Variable"
   ]
  },
  {
   "cell_type": "markdown",
   "id": "a689338e",
   "metadata": {},
   "source": [
    "*Accessing class variable"
   ]
  },
  {
   "cell_type": "code",
   "execution_count": 25,
   "id": "9f471838",
   "metadata": {},
   "outputs": [
    {
     "name": "stdout",
     "output_type": "stream",
     "text": [
      "Value\n",
      "Abc\n",
      "Abc\n"
     ]
    }
   ],
   "source": [
    "class Var:\n",
    "    class_name=\"Abc\"\n",
    "    def __init__(self,a):\n",
    "        self.a=a\n",
    "       \n",
    "    def show(self):\n",
    "        print(self.a)\n",
    "        print(self.class_name)  # using self parameter we can call Class Variable\n",
    "        print(Var.class_name)   # using Class name we can call Class variable\n",
    "\n",
    "obj=Var(\"Value\")\n",
    "obj.show()"
   ]
  },
  {
   "cell_type": "code",
   "execution_count": 28,
   "id": "068583dd",
   "metadata": {},
   "outputs": [
    {
     "name": "stdout",
     "output_type": "stream",
     "text": [
      "Place\n",
      "School\n",
      "School\n"
     ]
    }
   ],
   "source": [
    "class Var:\n",
    "    class_name=\"School\"\n",
    "    def __init__(self,a):\n",
    "        self.a=a\n",
    "        print(self.a)\n",
    "#         using in constructor we can access class variable\n",
    "        print(self.class_name)  # using self parameter we can call Class Variable\n",
    "        print(Var.class_name)   # using Class name we can call Class variable\n",
    "        \n",
    "obj=Var(\"Place\")\n"
   ]
  },
  {
   "cell_type": "markdown",
   "id": "b43f5f91",
   "metadata": {},
   "source": [
    "*class variable in inheritance"
   ]
  },
  {
   "cell_type": "code",
   "execution_count": 29,
   "id": "aa7f0b70",
   "metadata": {},
   "outputs": [
    {
     "ename": "SyntaxError",
     "evalue": "incomplete input (365000363.py, line 10)",
     "output_type": "error",
     "traceback": [
      "\u001b[1;36m  Input \u001b[1;32mIn [29]\u001b[1;36m\u001b[0m\n\u001b[1;33m    \u001b[0m\n\u001b[1;37m    ^\u001b[0m\n\u001b[1;31mSyntaxError\u001b[0m\u001b[1;31m:\u001b[0m incomplete input\n"
     ]
    }
   ],
   "source": [
    "class inherit:\n",
    "    classval=\"Classes\"\n",
    "    \n",
    "class Parent(inherit):\n",
    "    def __init__(self,name):\n",
    "        self.name=name\n",
    "    \n",
    "    def showstudent(self):\n",
    "        \n",
    "    "
   ]
  },
  {
   "cell_type": "code",
   "execution_count": null,
   "id": "c9669949",
   "metadata": {},
   "outputs": [],
   "source": []
  },
  {
   "cell_type": "markdown",
   "id": "84ea8c4a",
   "metadata": {},
   "source": [
    "# Encapsulation"
   ]
  },
  {
   "cell_type": "code",
   "execution_count": 30,
   "id": "efa71ad5",
   "metadata": {},
   "outputs": [
    {
     "name": "stdout",
     "output_type": "stream",
     "text": [
      "Name- Anam Age- 23\n"
     ]
    }
   ],
   "source": [
    "class Person:\n",
    "    def __init__(self,name,age):\n",
    "        self.name=name\n",
    "        self.age=age\n",
    "    def show(self):\n",
    "        print(\"Name-\",self.name,\"Age-\",self.age)\n",
    "obj=Person(\"Anam\",23)\n",
    "obj.show()"
   ]
  },
  {
   "cell_type": "code",
   "execution_count": 38,
   "id": "1b6d6002",
   "metadata": {},
   "outputs": [
    {
     "name": "stdout",
     "output_type": "stream",
     "text": [
      "Name- Anam Age- 23\n",
      "This is  23\n"
     ]
    }
   ],
   "source": [
    "class Person:\n",
    "    def __init__(self,name,age):\n",
    "        self.name=name\n",
    "        self.__age=age    #private member  (__)\n",
    "    def show(self):\n",
    "        print(\"Name-\",self.name,\"Age-\",self.__age)    #access this using private key\n",
    "obj=Person(\"Anam\",23)\n",
    "obj.show()\n",
    "\n",
    "# print(\"this is \",obj.__age)  # we cant access the private variable outside the class\n",
    "\n",
    "# direct access to private member using name mangling\n",
    "print(\"This is \", obj._Person__age)"
   ]
  },
  {
   "cell_type": "code",
   "execution_count": 48,
   "id": "3f52a010",
   "metadata": {},
   "outputs": [
    {
     "name": "stdout",
     "output_type": "stream",
     "text": [
      "123\n",
      "this is  123\n"
     ]
    }
   ],
   "source": [
    "class Person:\n",
    "    def __init__(self,age):\n",
    "        self._age=123    # Protected Member  (_)\n",
    "        \n",
    "class Round(Person):\n",
    "    def show(self,name):\n",
    "        self.name = name\n",
    "        Person.__init__(self)\n",
    "        \n",
    "    def many(self):\n",
    "        print(self._age)\n",
    "        \n",
    "obj=Round(123)\n",
    "obj.many()\n",
    "\n",
    "print(\"this is \",obj._age)\n"
   ]
  },
  {
   "cell_type": "code",
   "execution_count": 6,
   "id": "3d867fe6",
   "metadata": {},
   "outputs": [
    {
     "name": "stdout",
     "output_type": "stream",
     "text": [
      "123 anam\n",
      "this is  123\n"
     ]
    }
   ],
   "source": [
    "class Person:\n",
    "    def __init__(self):\n",
    "        self._age=123        # Protected Member (_)\n",
    "        \n",
    "class Round:\n",
    "    def __init__(self,name):\n",
    "        self.name = name\n",
    "        Person.__init__(self)\n",
    "        \n",
    "    def many(self):\n",
    "        print(self._age,self.name)\n",
    "        \n",
    "obj=Round(\"anam\")\n",
    "obj.many()\n",
    "\n",
    "print(\"this is \",obj._age)"
   ]
  },
  {
   "cell_type": "code",
   "execution_count": null,
   "id": "fa573e3f",
   "metadata": {},
   "outputs": [],
   "source": [
    "class Employee:\n",
    "    def __init__(self,val):\n",
    "        self.val=val\n",
    "    \n",
    "    \n",
    "    "
   ]
  },
  {
   "cell_type": "markdown",
   "id": "67328836",
   "metadata": {},
   "source": [
    "# Inheritance"
   ]
  },
  {
   "cell_type": "markdown",
   "id": "a47cb339",
   "metadata": {},
   "source": [
    "Single Inheritance"
   ]
  },
  {
   "cell_type": "code",
   "execution_count": 52,
   "id": "2e454d85",
   "metadata": {},
   "outputs": [
    {
     "name": "stdout",
     "output_type": "stream",
     "text": [
      "THIS is vehicles\n",
      "Cars are created\n"
     ]
    }
   ],
   "source": [
    "class Vehicle:\n",
    "    def vehicles(self):\n",
    "        print(\"THIS is vehicles\")\n",
    "class Car(Vehicle):\n",
    "    def cars(self):\n",
    "        print(\"Cars are created\")\n",
    "obj=Car()\n",
    "obj.vehicles()\n",
    "obj.cars()"
   ]
  },
  {
   "cell_type": "markdown",
   "id": "7731b98e",
   "metadata": {},
   "source": [
    "Multiple Inheritance"
   ]
  },
  {
   "cell_type": "code",
   "execution_count": 55,
   "id": "4aa77862",
   "metadata": {},
   "outputs": [
    {
     "ename": "NameError",
     "evalue": "name 'self' is not defined",
     "output_type": "error",
     "traceback": [
      "\u001b[1;31m---------------------------------------------------------------------------\u001b[0m",
      "\u001b[1;31mNameError\u001b[0m                                 Traceback (most recent call last)",
      "Input \u001b[1;32mIn [55]\u001b[0m, in \u001b[0;36m<cell line: 7>\u001b[1;34m()\u001b[0m\n\u001b[0;32m      5\u001b[0m     \u001b[38;5;28;01mdef\u001b[39;00m \u001b[38;5;21mcars\u001b[39m(\u001b[38;5;28mself\u001b[39m,add):\n\u001b[0;32m      6\u001b[0m         \u001b[38;5;28mprint\u001b[39m(\u001b[38;5;124m\"\u001b[39m\u001b[38;5;124mCars are created\u001b[39m\u001b[38;5;124m\"\u001b[39m,add)\n\u001b[1;32m----> 7\u001b[0m \u001b[38;5;28;01mclass\u001b[39;00m \u001b[38;5;21;01mTay\u001b[39;00m(\u001b[38;5;28;43mself\u001b[39;49m):\n\u001b[0;32m      8\u001b[0m     \u001b[38;5;28;01mdef\u001b[39;00m \u001b[38;5;21mtray\u001b[39m(\u001b[38;5;28mself\u001b[39m,victory):\n\u001b[0;32m      9\u001b[0m         \u001b[38;5;28mprint\u001b[39m(\u001b[38;5;124m\"\u001b[39m\u001b[38;5;124mTray you can use\u001b[39m\u001b[38;5;124m\"\u001b[39m,victory)\n",
      "\u001b[1;31mNameError\u001b[0m: name 'self' is not defined"
     ]
    }
   ],
   "source": [
    "class Vehicle:\n",
    "    def vehicles(self,name,age):\n",
    "        print(\"This is vehicles\",name,age)\n",
    "class Car(Vehicle):\n",
    "    def cars(self,add):\n",
    "        print(\"Cars are created\",add)\n",
    "class Tay(self):\n",
    "    def tray(self,victory):\n",
    "        print(\"Tray you can use\",victory)\n",
    "obj=Car(\"Name\",\"Age\")\n",
    "obj.vehicles()\n",
    "obj.cars()\n",
    "obj.tray()"
   ]
  },
  {
   "cell_type": "code",
   "execution_count": null,
   "id": "992006f4",
   "metadata": {},
   "outputs": [],
   "source": [
    "class Student:\n",
    "    school=\"XYZ school\"\n",
    "    "
   ]
  },
  {
   "cell_type": "markdown",
   "id": "59450f96",
   "metadata": {},
   "source": [
    "# Abstraction"
   ]
  },
  {
   "cell_type": "code",
   "execution_count": 10,
   "id": "32383943",
   "metadata": {},
   "outputs": [
    {
     "name": "stdout",
     "output_type": "stream",
     "text": [
      "i have come from absract class\n",
      "They have pagal\n"
     ]
    }
   ],
   "source": [
    "from abc import ABC, abstractmethod\n",
    "\n",
    "# Abstract class\n",
    "class Abst(ABC):\n",
    "    \n",
    "    @abstractmethod\n",
    "    def show(self):\n",
    "        None\n",
    "    \n",
    "    @abstractmethod\n",
    "    def people(self):\n",
    "        None\n",
    "        \n",
    "# Concrete class\n",
    "class Concrete(Abst):\n",
    "    def show(self):\n",
    "        print(\"i have come from absract class\")\n",
    "        \n",
    "    def people(self):\n",
    "        print(\"They have pagal\")\n",
    "        \n",
    "obj=Concrete()\n",
    "obj.show()\n",
    "obj.people()"
   ]
  },
  {
   "cell_type": "code",
   "execution_count": 4,
   "id": "326c45c8",
   "metadata": {},
   "outputs": [
    {
     "data": {
      "text/plain": [
       "8"
      ]
     },
     "execution_count": 4,
     "metadata": {},
     "output_type": "execute_result"
    }
   ],
   "source": [
    "from abc import ABC, abstractmethod\n",
    "\n",
    "# Abstract class\n",
    "class Shape(ABC):\n",
    "    \n",
    "    @abstractmethod\n",
    "    def printarea(self):\n",
    "        None\n",
    "\n",
    "# Concrete class\n",
    "# class Rectangle(Shape):\n",
    "#     def __init__(self):\n",
    "#         self.length=3\n",
    "#         self.breadth=4\n",
    "        \n",
    "#     def printarea(self):\n",
    "#         return self.length*self.breadth\n",
    "\n",
    "# Concreate class\n",
    "class Square(Shape):\n",
    "    def __init__(self):\n",
    "        self.square=2\n",
    "        self.length=3\n",
    "        self.breadth=4\n",
    "    \n",
    "    def printarea(self):\n",
    "        return self.length*self.breadth\n",
    "    \n",
    "    def printarea(self):\n",
    "        return self.square*4\n",
    "    \n",
    "obj=Square()\n",
    "obj.printarea()\n"
   ]
  },
  {
   "cell_type": "code",
   "execution_count": null,
   "id": "85dc3df0",
   "metadata": {},
   "outputs": [],
   "source": [
    "from abc import ABC, abstractmethod\n",
    "\n",
    "# Abstract class\n",
    "class Abst(ABC):\n",
    "    \n",
    "    @abstractmethod\n",
    "    def show(self):\n",
    "        None\n",
    "    \n",
    "    @abstractmethod\n",
    "    def people(self):\n",
    "        None\n",
    "        \n",
    "# Concrete class\n",
    "class Concrete(Abst):\n",
    "    def show(self):\n",
    "        print(\"i have come from absract class\")\n",
    "        \n",
    "    def people(self):\n",
    "        print(\"They have pagal\")\n",
    "        \n",
    "obj=Concrete()\n",
    "obj.show()\n",
    "obj.people()"
   ]
  }
 ],
 "metadata": {
  "kernelspec": {
   "display_name": "Python 3 (ipykernel)",
   "language": "python",
   "name": "python3"
  },
  "language_info": {
   "codemirror_mode": {
    "name": "ipython",
    "version": 3
   },
   "file_extension": ".py",
   "mimetype": "text/x-python",
   "name": "python",
   "nbconvert_exporter": "python",
   "pygments_lexer": "ipython3",
   "version": "3.10.4"
  }
 },
 "nbformat": 4,
 "nbformat_minor": 5
}
