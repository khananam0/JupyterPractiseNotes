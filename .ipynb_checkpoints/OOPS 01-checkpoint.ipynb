{
 "cells": [
  {
   "cell_type": "code",
   "execution_count": 3,
   "id": "e1fe85a5",
   "metadata": {},
   "outputs": [
    {
     "name": "stdout",
     "output_type": "stream",
     "text": [
      "hey you are- Anam and this is applicable 546\n"
     ]
    }
   ],
   "source": [
    "class Vehicle:\n",
    "    def __init__(self,name,age):\n",
    "        self.name=name\n",
    "        self.age=age\n",
    "    def new(self):\n",
    "        print(\"hey you are-\", self.name,\"and this is applicable\",self.age)\n",
    "obj=Vehicle(\"Anam\",546)\n",
    "obj.new()"
   ]
  },
  {
   "cell_type": "code",
   "execution_count": 12,
   "id": "4bed43aa",
   "metadata": {},
   "outputs": [
    {
     "name": "stdout",
     "output_type": "stream",
     "text": [
      "value- 2\n",
      "value- 4\n",
      "value- 6\n",
      "value- 8\n",
      "value- 10\n",
      "value- 12\n",
      "value- 14\n",
      "value- 16\n",
      "value- 18\n"
     ]
    }
   ],
   "source": [
    "for i in range(1,10):\n",
    "    def Multiplication(a):\n",
    "        return i*a\n",
    "    multiplier=Multiplication(2)\n",
    "    print(\"value-\",multiplier)"
   ]
  },
  {
   "cell_type": "code",
   "execution_count": 19,
   "id": "cc888a03",
   "metadata": {},
   "outputs": [
    {
     "name": "stdout",
     "output_type": "stream",
     "text": [
      "hey you are- Anam and this is applicable 546\n",
      "hey you are- Maria and this is applicable 87\n"
     ]
    }
   ],
   "source": [
    "class Vehicle:\n",
    "    def __init__(self,name,age):\n",
    "        self.name=name\n",
    "        self.age=age\n",
    "    def new(self):\n",
    "        print(\"hey you are-\", self.name,\"and this is applicable\",self.age)\n",
    "obj=Vehicle(\"Anam\",546)\n",
    "obj.new()\n",
    "\n",
    "value=Vehicle(\"Maria\",87)\n",
    "value.new()"
   ]
  },
  {
   "cell_type": "code",
   "execution_count": 26,
   "id": "df91e9f0",
   "metadata": {},
   "outputs": [
    {
     "name": "stdout",
     "output_type": "stream",
     "text": [
      "Roll no- 67 is the name of  Halima\n",
      "Roll no- 90 is the name of  Taimoor\n"
     ]
    }
   ],
   "source": [
    "class Student:\n",
    "    def __init__(my,roll,name):\n",
    "        my.roll=roll\n",
    "        my.name=name\n",
    "    def show(self):\n",
    "        print(\"Roll no-\",self.roll,\"is the name of \",self.name)\n",
    "    \n",
    "    def update(mine,roll,name):\n",
    "        mine.roll=roll\n",
    "        mine.name=name\n",
    "        \n",
    "newobj=Student(67,\"Halima\")\n",
    "newobj.show()\n",
    "\n",
    "newobj.update(90,\"Taimoor\")\n",
    "newobj.show()\n",
    "\n"
   ]
  },
  {
   "cell_type": "code",
   "execution_count": 50,
   "id": "843529a9",
   "metadata": {},
   "outputs": [
    {
     "ename": "TypeError",
     "evalue": "unhashable type: 'dict'",
     "output_type": "error",
     "traceback": [
      "\u001b[1;31m---------------------------------------------------------------------------\u001b[0m",
      "\u001b[1;31mTypeError\u001b[0m                                 Traceback (most recent call last)",
      "Input \u001b[1;32mIn [50]\u001b[0m, in \u001b[0;36m<cell line: 1>\u001b[1;34m()\u001b[0m\n\u001b[1;32m----> 1\u001b[0m anu\u001b[38;5;241m=\u001b[39m{\u001b[38;5;124m\"\u001b[39m\u001b[38;5;124ma\u001b[39m\u001b[38;5;124m\"\u001b[39m,\u001b[38;5;241m9\u001b[39m,(\u001b[38;5;124m\"\u001b[39m\u001b[38;5;124mk\u001b[39m\u001b[38;5;124m\"\u001b[39m,\u001b[38;5;124m\"\u001b[39m\u001b[38;5;124m9\u001b[39m\u001b[38;5;124m\"\u001b[39m),{}}\n\u001b[0;32m      2\u001b[0m \u001b[38;5;28mprint\u001b[39m(anu)\n\u001b[0;32m      3\u001b[0m anu\u001b[38;5;241m.\u001b[39madd(\u001b[38;5;241m10\u001b[39m)\n",
      "\u001b[1;31mTypeError\u001b[0m: unhashable type: 'dict'"
     ]
    }
   ],
   "source": [
    "anu={\"a\",9,(\"k\",\"9\"),{}}\n",
    "print(anu)\n",
    "anu.add(10)\n",
    "print(anu)\n",
    "# print.update([9,7,98])\n",
    "print.update{\"key\":87}\n",
    "# anu.update({\"key\":\"value\"})\n",
    "print(anu)"
   ]
  },
  {
   "cell_type": "code",
   "execution_count": null,
   "id": "52988095",
   "metadata": {},
   "outputs": [],
   "source": []
  },
  {
   "cell_type": "code",
   "execution_count": null,
   "id": "065aac6a",
   "metadata": {},
   "outputs": [],
   "source": []
  },
  {
   "cell_type": "code",
   "execution_count": null,
   "id": "1014bfb4",
   "metadata": {},
   "outputs": [],
   "source": []
  },
  {
   "cell_type": "code",
   "execution_count": null,
   "id": "3497d53c",
   "metadata": {},
   "outputs": [],
   "source": []
  },
  {
   "cell_type": "code",
   "execution_count": null,
   "id": "522c85cd",
   "metadata": {},
   "outputs": [],
   "source": []
  },
  {
   "cell_type": "code",
   "execution_count": null,
   "id": "b5fb163f",
   "metadata": {},
   "outputs": [],
   "source": []
  }
 ],
 "metadata": {
  "kernelspec": {
   "display_name": "Python 3 (ipykernel)",
   "language": "python",
   "name": "python3"
  },
  "language_info": {
   "codemirror_mode": {
    "name": "ipython",
    "version": 3
   },
   "file_extension": ".py",
   "mimetype": "text/x-python",
   "name": "python",
   "nbconvert_exporter": "python",
   "pygments_lexer": "ipython3",
   "version": "3.10.4"
  }
 },
 "nbformat": 4,
 "nbformat_minor": 5
}
