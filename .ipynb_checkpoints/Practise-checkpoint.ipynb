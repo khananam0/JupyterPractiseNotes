{
 "cells": [
  {
   "cell_type": "code",
   "execution_count": 36,
   "id": "59b78d4c",
   "metadata": {},
   "outputs": [
    {
     "data": {
      "text/plain": [
       "4"
      ]
     },
     "execution_count": 36,
     "metadata": {},
     "output_type": "execute_result"
    }
   ],
   "source": [
    "a={\n",
    "    'a',1,3\n",
    "}\n",
    "a.update([\"a\",2])\n",
    "# a.add([1])\n",
    "# a\n",
    "a.pop()\n",
    "b=[1,3,4]\n",
    "a = b.pop()\n",
    "a"
   ]
  },
  {
   "cell_type": "code",
   "execution_count": 14,
   "id": "718022ff",
   "metadata": {},
   "outputs": [
    {
     "data": {
      "text/plain": [
       "'h'"
      ]
     },
     "execution_count": 14,
     "metadata": {},
     "output_type": "execute_result"
    }
   ],
   "source": [
    "f=open('untitled.txt',\"r\")\n",
    "#f.write(\"hello world\")\n",
    "f.read(1)"
   ]
  },
  {
   "cell_type": "code",
   "execution_count": 19,
   "id": "3e5f32b9",
   "metadata": {},
   "outputs": [
    {
     "data": {
      "text/plain": [
       "{0: 0, 1: 1, 2: 4, 3: 9}"
      ]
     },
     "execution_count": 19,
     "metadata": {},
     "output_type": "execute_result"
    }
   ],
   "source": [
    "a={x:x**2 for x in [1,2,3,4]}\n",
    "# a\n",
    "\n",
    "b={x:x**2 for x in range(4)}\n",
    "b"
   ]
  },
  {
   "cell_type": "code",
   "execution_count": 20,
   "id": "a0b2e299",
   "metadata": {},
   "outputs": [],
   "source": [
    "a=[1,2,3,4]\n",
    "def my(n):\n",
    "    if x>12:\n",
    "        return True\n",
    "    else:\n",
    "        return False\n",
    "    "
   ]
  },
  {
   "cell_type": "code",
   "execution_count": 21,
   "id": "ee4ada99",
   "metadata": {},
   "outputs": [],
   "source": [
    "def my(a,b):\n",
    "    return a+b\n",
    "x=map(my,(\"a\"))\n"
   ]
  },
  {
   "cell_type": "markdown",
   "id": "cfe032d6",
   "metadata": {},
   "source": [
    "# "
   ]
  },
  {
   "cell_type": "code",
   "execution_count": 23,
   "id": "96efbdf3",
   "metadata": {},
   "outputs": [
    {
     "data": {
      "text/plain": [
       "3"
      ]
     },
     "execution_count": 23,
     "metadata": {},
     "output_type": "execute_result"
    }
   ],
   "source": [
    "import bisect\n",
    "l1=[\"anam\",\"par\",\"car\"]\n",
    "x=\"val\"\n",
    "c=bisect.bisect_left(l1,x)\n",
    "l1="
   ]
  },
  {
   "cell_type": "code",
   "execution_count": 55,
   "id": "3e86ba5b",
   "metadata": {},
   "outputs": [
    {
     "name": "stdout",
     "output_type": "stream",
     "text": [
      "[2, 4]\n"
     ]
    }
   ],
   "source": [
    "# x=int(input())\n",
    "x=[1,2,3,4]\n",
    "# a=(lambda x:(x%2==0))\n",
    "ab=filter(lambda a:(a%2)==0,x)\n",
    "# print(ab(x))\n",
    "val=list(ab)\n",
    "print(val)\n",
    "\n",
    "# a=lambda n:\"Even number\" if(n%2==0) else \"Odd number\"\n",
    "# print(a(x))\n"
   ]
  },
  {
   "cell_type": "code",
   "execution_count": 61,
   "id": "03d3b95b",
   "metadata": {},
   "outputs": [
    {
     "name": "stdout",
     "output_type": "stream",
     "text": [
      "name\n"
     ]
    }
   ],
   "source": []
  },
  {
   "cell_type": "code",
   "execution_count": null,
   "id": "9641e0db",
   "metadata": {},
   "outputs": [],
   "source": []
  }
 ],
 "metadata": {
  "kernelspec": {
   "display_name": "Python 3 (ipykernel)",
   "language": "python",
   "name": "python3"
  },
  "language_info": {
   "codemirror_mode": {
    "name": "ipython",
    "version": 3
   },
   "file_extension": ".py",
   "mimetype": "text/x-python",
   "name": "python",
   "nbconvert_exporter": "python",
   "pygments_lexer": "ipython3",
   "version": "3.10.4"
  }
 },
 "nbformat": 4,
 "nbformat_minor": 5
}
