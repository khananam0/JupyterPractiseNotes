{
 "cells": [
  {
   "cell_type": "markdown",
   "id": "3a923c07",
   "metadata": {},
   "source": [
    "# Q1) Output of the following snippet\n",
    "    x = 'abcd'\n",
    "    for i in range(len(x):\n",
    "    print(x)\n",
    "    x = \"a\""
   ]
  },
  {
   "cell_type": "markdown",
   "id": "05ebbe92",
   "metadata": {},
   "source": [
    "# Q2)Code Snippet\n",
    "    i=0\n",
    "    while i < 3:\n",
    "        print(i)\n",
    "        i+=1\n",
    "    else:\n",
    "       print(0)\n",
    "    "
   ]
  },
  {
   "cell_type": "code",
   "execution_count": 11,
   "id": "3e191474",
   "metadata": {},
   "outputs": [
    {
     "name": "stdout",
     "output_type": "stream",
     "text": [
      "<class 'str'>\n",
      "<class 'str'>\n",
      "['appledfg', 'pdvbaya']\n"
     ]
    }
   ],
   "source": [
    "lst =[\"appledfg999\",\"pdvbaya999\",\"grapes000\",\"chickoo000\"]\n",
    "lst1 = []\n",
    "for iter in lst:\n",
    "    if int(iter[-3:]) == 999:\n",
    "#         print(type(iter[-3:]))\n",
    "        \n",
    "        lst1.append(iter[:-3])\n",
    "        \n",
    "print(lst1)"
   ]
  },
  {
   "cell_type": "code",
   "execution_count": null,
   "id": "cbe632b3",
   "metadata": {},
   "outputs": [],
   "source": []
  }
 ],
 "metadata": {
  "kernelspec": {
   "display_name": "Python 3 (ipykernel)",
   "language": "python",
   "name": "python3"
  },
  "language_info": {
   "codemirror_mode": {
    "name": "ipython",
    "version": 3
   },
   "file_extension": ".py",
   "mimetype": "text/x-python",
   "name": "python",
   "nbconvert_exporter": "python",
   "pygments_lexer": "ipython3",
   "version": "3.10.4"
  }
 },
 "nbformat": 4,
 "nbformat_minor": 5
}
