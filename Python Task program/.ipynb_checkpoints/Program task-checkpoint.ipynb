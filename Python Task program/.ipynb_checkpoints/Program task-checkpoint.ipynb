{
 "cells": [
  {
   "cell_type": "markdown",
   "id": "aa45cef1",
   "metadata": {},
   "source": [
    "\n",
    "# Even Odd\n"
   ]
  },
  {
   "cell_type": "code",
   "execution_count": 3,
   "id": "aa556830",
   "metadata": {},
   "outputs": [
    {
     "name": "stdout",
     "output_type": "stream",
     "text": [
      "Enter a range-7\n",
      "value2\n",
      "value3\n",
      "value4\n",
      "value6\n",
      "value7\n",
      "value8\n",
      "value1\n",
      "[2, 3, 4, 6, 7, 8, 1]\n"
     ]
    }
   ],
   "source": [
    "n=int(input(\"Enter a range-\"))\n",
    "b=[]\n",
    "for i in range(0,n):\n",
    "    a=int(input(\"value\"))\n",
    "    b.append(a)\n",
    "print(b)\n"
   ]
  },
  {
   "cell_type": "code",
   "execution_count": 6,
   "id": "1c1e276c",
   "metadata": {},
   "outputs": [
    {
     "name": "stdout",
     "output_type": "stream",
     "text": [
      "2 Even\n",
      "3 Odd\n",
      "4 Even\n",
      "6 Even\n",
      "7 Odd\n",
      "8 Even\n",
      "1 Odd\n"
     ]
    }
   ],
   "source": [
    "# Even Odd Numbers\n",
    "for j in b:\n",
    "    if j%2==0:\n",
    "        print(j,\"Even\")\n",
    "    else:\n",
    "        print(j,\"Odd\")"
   ]
  },
  {
   "cell_type": "markdown",
   "id": "7a37a436",
   "metadata": {},
   "source": [
    "# Amstrong"
   ]
  },
  {
   "cell_type": "code",
   "execution_count": 21,
   "id": "f59be680",
   "metadata": {},
   "outputs": [
    {
     "name": "stdout",
     "output_type": "stream",
     "text": [
      "not\n",
      "not\n",
      "not\n"
     ]
    }
   ],
   "source": [
    "n=123\n",
    "sum=0\n",
    "for i in str(n):\n",
    "    sum+=int(i)**3\n",
    "    if i==n:\n",
    "        print(\"amstrong\")\n",
    "    else:\n",
    "        print(\"not\")\n",
    "    "
   ]
  },
  {
   "cell_type": "markdown",
   "id": "33741fb2",
   "metadata": {},
   "source": [
    "# Fibbonaci"
   ]
  },
  {
   "cell_type": "code",
   "execution_count": 11,
   "id": "1d1a87e6",
   "metadata": {},
   "outputs": [
    {
     "name": "stdout",
     "output_type": "stream",
     "text": [
      "0\n",
      "1\n",
      "1\n",
      "2\n",
      "3\n",
      "5\n",
      "8\n",
      "13\n",
      "21\n",
      "34\n",
      "55\n",
      "89\n"
     ]
    }
   ],
   "source": [
    "def fib(n):\n",
    "    a=0\n",
    "    b=1\n",
    "    if n==1:\n",
    "        print(a)\n",
    "    else:\n",
    "        print(a)\n",
    "        print(b)\n",
    "        for i in range(1,11):\n",
    "            c=a+b\n",
    "            a=b\n",
    "            b=c\n",
    "            print(c)\n",
    "fib(10)"
   ]
  },
  {
   "cell_type": "markdown",
   "id": "99add164",
   "metadata": {},
   "source": [
    "# Pandrome\n"
   ]
  },
  {
   "cell_type": "code",
   "execution_count": null,
   "id": "260b01e6",
   "metadata": {},
   "outputs": [],
   "source": []
  }
 ],
 "metadata": {
  "kernelspec": {
   "display_name": "Python 3 (ipykernel)",
   "language": "python",
   "name": "python3"
  },
  "language_info": {
   "codemirror_mode": {
    "name": "ipython",
    "version": 3
   },
   "file_extension": ".py",
   "mimetype": "text/x-python",
   "name": "python",
   "nbconvert_exporter": "python",
   "pygments_lexer": "ipython3",
   "version": "3.10.4"
  }
 },
 "nbformat": 4,
 "nbformat_minor": 5
}
