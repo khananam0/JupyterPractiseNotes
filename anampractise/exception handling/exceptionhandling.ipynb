{
 "cells": [
  {
   "cell_type": "code",
   "execution_count": 8,
   "id": "6da619e7",
   "metadata": {},
   "outputs": [
    {
     "name": "stdout",
     "output_type": "stream",
     "text": [
      "Enter num 1\n",
      "3\n",
      "Enter num 2\n",
      "3\n",
      "------- can only concatenate str (not \"int\") to str\n",
      "The END Of Everything.\n"
     ]
    }
   ],
   "source": [
    "print(\"Enter num 1\")\n",
    "num1= input()\n",
    "\n",
    "print(\"Enter num 2\")\n",
    "num2= input()\n",
    "\n",
    "# print(\"The sum of this num is-\",num1+num2)\n",
    "\n",
    "try:\n",
    "    print(\"The sum of this num is-\",num1+int(num2))\n",
    "    \n",
    "except Exception as e:\n",
    "    print(\"-------\",e)\n",
    "    print(\"The END Of Everything.\")"
   ]
  },
  {
   "cell_type": "code",
   "execution_count": 16,
   "id": "52ea864f",
   "metadata": {},
   "outputs": [
    {
     "name": "stdout",
     "output_type": "stream",
     "text": [
      "3\n",
      "0\n",
      "Its Nothing...\n",
      "Worked successfully\n"
     ]
    }
   ],
   "source": [
    "a=int(input())\n",
    "b=int(input())\n",
    "\n",
    "try:\n",
    "    print(a/b)\n",
    "    \n",
    "except Exception:\n",
    "    print(\"Its Nothing...\")\n",
    "    \n",
    "finally:\n",
    "    print(\"Worked successfully\")\n",
    "    "
   ]
  },
  {
   "cell_type": "code",
   "execution_count": 22,
   "id": "7e35f284",
   "metadata": {},
   "outputs": [
    {
     "name": "stdout",
     "output_type": "stream",
     "text": [
      "sghj\n",
      "qwyh5267\n",
      "wehns2\n",
      "Base 10 Error must be int\n",
      "Worked successfully\n"
     ]
    }
   ],
   "source": [
    "try:\n",
    "    a=input()\n",
    "    b=input()\n",
    "#     print(c*d)       # ------- ValueError         [e,e]\n",
    "#     print(a*b)                 # ------- TypeError          [4,e]\n",
    "#     print(c/d)       # ------- ZeroDivisionError  [3,0]\n",
    "\n",
    "    c=int(input())\n",
    "    d=int(input())\n",
    "    print(c,a)\n",
    "\n",
    "except ValueError:\n",
    "    print(\"Base 10 Error must be int\")\n",
    "\n",
    "except TypeError:\n",
    "    print(\"Type of value is not satisfied\")\n",
    "\n",
    "except ZeroDivisionError:\n",
    "    print(\"Can't Divide By Zero\")\n",
    "    \n",
    "except NameError:\n",
    "    print(\"Name Error\")\n",
    "    \n",
    "\n",
    "except Exception:\n",
    "    print(\"Its Nothing...\")\n",
    "\n",
    "except Exception as e:\n",
    "    print(e)\n",
    "\n",
    "finally:\n",
    "    print(\"Worked successfully\")\n",
    "    "
   ]
  },
  {
   "cell_type": "code",
   "execution_count": 31,
   "id": "90fab326",
   "metadata": {},
   "outputs": [
    {
     "name": "stdout",
     "output_type": "stream",
     "text": [
      "{'previous': 'none', 'parrenot': 'gsdQWqw', 'radjs': 'WasjK'}\n"
     ]
    }
   ],
   "source": [
    "a = {\"previous\":\"none\",\"ParreNot\":\"gsdQWqw\",\"Radjs\":\"WasjK\"}\n",
    "# for i,j in a.items():\n",
    "#     print(i.lower(),j)\n",
    "\n",
    "var={k.lower():j for k,j in a.items()}\n",
    "print(var)"
   ]
  },
  {
   "cell_type": "code",
   "execution_count": 34,
   "id": "550fdbf5",
   "metadata": {},
   "outputs": [
    {
     "name": "stdout",
     "output_type": "stream",
     "text": [
      "{'a': 1, 'b': 2, 'c': 3, 'd': 4, 'e': 5, 'f': 6, 'g': 7, 'h': 8, 'i': 9, 'j': 10, 'k': 11, 'l': 12, 'm': 13, 'n': 14, 'o': 15, 'p': 16, 'q': 17, 'r': 18, 's': 19, 't': 20, 'u': 21, 'v': 22, 'w': 23, 'x': 24, 'y': 25, 'z': 26, ' ': 27}\n"
     ]
    }
   ],
   "source": [
    "alphabet = {'A':1, 'B': 2, 'C': 3, 'D':4, 'E': 5, 'F': 6, 'G':7, 'H':8, 'I':9, 'J':10,\n",
    "            'K':11, 'L':12, 'M':13, 'N':14, 'O':15,'P': 16,'Q': 17,'R': 18,'S':19,'T':20,\n",
    "            'U': 21, 'V':22, 'W':23, 'X': 24, 'Y':25, 'Z':26, ' ':27}\n",
    "newAlphabet = {}\n",
    "\n",
    "for key, value in alphabet.items():\n",
    "    newAlphabet[key.lower()] = value\n",
    "print(newAlphabet)"
   ]
  },
  {
   "cell_type": "code",
   "execution_count": 35,
   "id": "0b76a480",
   "metadata": {},
   "outputs": [],
   "source": [
    "new_dict = {}\n",
    "for letter in alphabet:\n",
    "    number = alphabet[letter]\n",
    "    new_dict.update({letter.lower():number})"
   ]
  },
  {
   "cell_type": "code",
   "execution_count": 39,
   "id": "32bdb26c",
   "metadata": {},
   "outputs": [
    {
     "name": "stdout",
     "output_type": "stream",
     "text": [
      "Jack - \n",
      "RoY - BOY\n",
      "Mill - \n",
      "Lock - Key\n"
     ]
    }
   ],
   "source": [
    "a={\"Jack\":\"\",\"RoY\":\"BOY\",\"Mill\":\"\",\"Lock\":\"Key\"}\n",
    "for i,j in a.items():\n",
    "    print(i,\"-\",j)"
   ]
  },
  {
   "cell_type": "code",
   "execution_count": 44,
   "id": "05d6a750",
   "metadata": {},
   "outputs": [
    {
     "name": "stdout",
     "output_type": "stream",
     "text": [
      "Jack - 0\n",
      "RoY - BOY\n",
      "Mill - \n",
      "Lock - Key\n"
     ]
    }
   ],
   "source": [
    "\n",
    "\n",
    "try:\n",
    "    a={\"Jack\":,\"RoY\":\"BOY\",\"Mill\":\"\",\"Lock\":\"Key\"}\n",
    "    for i,j in a.items():\n",
    "        print(i,\"-\",j)\n",
    "except Exception as e:\n",
    "    print(e)\n"
   ]
  },
  {
   "cell_type": "code",
   "execution_count": 58,
   "id": "bc4d57f5",
   "metadata": {},
   "outputs": [
    {
     "data": {
      "text/plain": [
       "['Lock', 'Lock', 'Lock']"
      ]
     },
     "execution_count": 58,
     "metadata": {},
     "output_type": "execute_result"
    }
   ],
   "source": [
    "def fun(a):\n",
    "    return i\n",
    "# a=[\"cat\",\"bat\",\"mat\"]\n",
    "b=list(map(fun,[\"cat\",\"bat\",\"mat\"]))\n",
    "b"
   ]
  },
  {
   "cell_type": "code",
   "execution_count": null,
   "id": "900911a2",
   "metadata": {},
   "outputs": [],
   "source": []
  }
 ],
 "metadata": {
  "kernelspec": {
   "display_name": "Python 3 (ipykernel)",
   "language": "python",
   "name": "python3"
  },
  "language_info": {
   "codemirror_mode": {
    "name": "ipython",
    "version": 3
   },
   "file_extension": ".py",
   "mimetype": "text/x-python",
   "name": "python",
   "nbconvert_exporter": "python",
   "pygments_lexer": "ipython3",
   "version": "3.10.4"
  }
 },
 "nbformat": 4,
 "nbformat_minor": 5
}
