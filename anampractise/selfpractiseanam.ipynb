{
 "cells": [
  {
   "cell_type": "code",
   "execution_count": null,
   "id": "ec105485",
   "metadata": {},
   "outputs": [],
   "source": [
    "class student:\n",
    "    def __init__(self,id,dealer):\n",
    "        self.id=id\n",
    "        self.dealer=deal\n",
    "        print(\"Its ID-\", self.id, \"is having this deal name-\",self.deal)\n",
    "        \n",
    "    def __del__(self):\n",
    "        print(\"this is deleted student class\")\n",
    "        \n",
    "class car:\n",
    "    def __init__(self,a):\n",
    "        self.a=a\n",
    "        self.dealer = student(self.id)\n",
    "        print(\"Its ID-\", self.id, \"is having this deal name-\",self.deal)\n",
    "        \n",
    "    def __del__(self):\n",
    "        print(\"this is deleted student class\")"
   ]
  },
  {
   "cell_type": "code",
   "execution_count": 4,
   "id": "55268544",
   "metadata": {},
   "outputs": [
    {
     "name": "stdout",
     "output_type": "stream",
     "text": [
      "jessa\n",
      "67\n",
      "5\n"
     ]
    }
   ],
   "source": [
    "s1={'name':\"jessa\",'rollno':67, 'id':5}\n",
    "for i in s1.items():\n",
    "    print(i[1])"
   ]
  },
  {
   "cell_type": "code",
   "execution_count": 5,
   "id": "a5558c84",
   "metadata": {},
   "outputs": [
    {
     "name": "stdout",
     "output_type": "stream",
     "text": [
      "5\n",
      "12\n"
     ]
    }
   ],
   "source": [
    "class ABC:\n",
    "    def add(self,a,b):\n",
    "        return (a+b)\n",
    "    def add(self,a,b,c=0):\n",
    "        return (a+b+c)\n",
    "s1=ABC()\n",
    "print(s1.add(2,3))\n",
    "print(s1.add(4,4,4))"
   ]
  },
  {
   "cell_type": "code",
   "execution_count": 57,
   "id": "cab7f336",
   "metadata": {},
   "outputs": [
    {
     "name": "stdout",
     "output_type": "stream",
     "text": [
      "11\n",
      "-1\n",
      "17\n",
      "5\n",
      "8\n",
      "2\n"
     ]
    }
   ],
   "source": [
    "def main(fun):\n",
    "    def add(a,b):\n",
    "        print(a+b)\n",
    "        fun(a,b)\n",
    "    def mul(*args)\n",
    "#     print(add(5,5))\n",
    "    return add\n",
    "    \n",
    "@main\n",
    "def sub(a,b):\n",
    "    print(a-b)\n",
    "\n",
    "sub(5,6)\n",
    "sub(11,6)\n",
    "sub(5,3)\n",
    "\n",
    "        \n",
    "        "
   ]
  },
  {
   "cell_type": "code",
   "execution_count": 52,
   "id": "bb4ce678",
   "metadata": {},
   "outputs": [
    {
     "name": "stdout",
     "output_type": "stream",
     "text": [
      "This is printed before the function is called 2\n",
      "Hello! The function is executing\n",
      "This is printed after the function is called\n"
     ]
    }
   ],
   "source": [
    "def decorator(func):\n",
    "    def wrapper(a):\n",
    "        print(\"This is printed before the function is called\",a)\n",
    "        func(a)\n",
    "        print(\"This is printed after the function is called\")\n",
    "  \n",
    "    return wrapper\n",
    "onj= decorator(func)\n",
    "@decorator\n",
    "def say_hello(a):\n",
    "    print(\"Hello! The function is executing\")\n",
    "\n",
    "\n",
    "say_hello(2)"
   ]
  },
  {
   "cell_type": "code",
   "execution_count": null,
   "id": "a3f6f459",
   "metadata": {},
   "outputs": [],
   "source": [
    "class Employee:\n",
    "    def __init__(self,age,name):\n",
    "        self.pagal=age  # defines instance variable.\n",
    "        self.edu=name   # defines mapping of the current agument.\n",
    "    def show(self):\n",
    "        print(self.pagal,self.edu)\n",
    "p1=Employee(45,\"anam\")\n",
    "p1.show()"
   ]
  },
  {
   "cell_type": "code",
   "execution_count": 51,
   "id": "cec1b671",
   "metadata": {},
   "outputs": [
    {
     "name": "stdout",
     "output_type": "stream",
     "text": [
      "<function bar at 0x0000018E3B6E39A0>\n",
      "decorator argument is some_arg\n",
      "returned value is None\n"
     ]
    }
   ],
   "source": [
    "from functools import partial, wraps\n",
    "\n",
    "def _pseudo_decor(fun, argument):\n",
    "    # magic sauce to lift the name and doc of the function\n",
    "    @wraps(fun)\n",
    "    def ret_fun(*args, **kwargs):\n",
    "        # pre function execution stuff here, for eg.\n",
    "        print(\"decorator argument is %s\" % str(argument))\n",
    "        returned_value =  fun(*args, **kwargs)\n",
    "        # post execution stuff here, for eg.\n",
    "        print(\"returned value is %s\" % returned_value)\n",
    "        return returned_value\n",
    "\n",
    "    return ret_fun\n",
    "\n",
    "real_decorator1 = partial(_pseudo_decor, argument=\"some_arg\")\n",
    "real_decorator2 = partial(_pseudo_decor, argument=\"some_other_arg\")\n",
    "\n",
    "@real_decorator1\n",
    "def bar(*args, **kwargs):\n",
    "    pass\n",
    "\n",
    "print(bar)\n",
    "\n",
    "\n",
    "bar(1,2,3, k=\"v\", x=\"z\")\n"
   ]
  },
  {
   "cell_type": "code",
   "execution_count": 13,
   "id": "38caba1d",
   "metadata": {},
   "outputs": [
    {
     "name": "stdout",
     "output_type": "stream",
     "text": [
      "Name of the student: iram Roll no of the student: 44\n",
      "school name: abp school\n"
     ]
    }
   ],
   "source": [
    "class student:\n",
    "    def __init__(self,name,rollno):\n",
    "        self.name=name\n",
    "        self.rollno=rollno\n",
    "    def show(self):\n",
    "        print(\"Name of the student:\",self.name,\"Roll no of the student:\",self.rollno)\n",
    "class school(student):\n",
    "    def __init__(self, name, rollno):\n",
    "        super().__init__(name, rollno)\n",
    "    def show2(self):\n",
    "        self.school=\"abp school\"\n",
    "        iram=super().show()\n",
    "        print(\"school name:\",self.school)\n",
    "\n",
    "s1=school(\"iram\",44)\n",
    "s1.show2()"
   ]
  },
  {
   "cell_type": "code",
   "execution_count": 24,
   "id": "d283d516",
   "metadata": {},
   "outputs": [
    {
     "ename": "TypeError",
     "evalue": "main.<locals>.add() takes 0 positional arguments but 2 were given",
     "output_type": "error",
     "traceback": [
      "\u001b[1;31m---------------------------------------------------------------------------\u001b[0m",
      "\u001b[1;31mTypeError\u001b[0m                                 Traceback (most recent call last)",
      "Input \u001b[1;32mIn [24]\u001b[0m, in \u001b[0;36m<cell line: 10>\u001b[1;34m()\u001b[0m\n\u001b[0;32m      7\u001b[0m \u001b[38;5;129m@main\u001b[39m\n\u001b[0;32m      8\u001b[0m \u001b[38;5;28;01mdef\u001b[39;00m \u001b[38;5;21msub\u001b[39m(a,b):\n\u001b[0;32m      9\u001b[0m     \u001b[38;5;28mprint\u001b[39m(a\u001b[38;5;241m-\u001b[39mb)\n\u001b[1;32m---> 10\u001b[0m \u001b[43msub\u001b[49m\u001b[43m(\u001b[49m\u001b[38;5;241;43m5\u001b[39;49m\u001b[43m,\u001b[49m\u001b[38;5;241;43m3\u001b[39;49m\u001b[43m)\u001b[49m\n",
      "\u001b[1;31mTypeError\u001b[0m: main.<locals>.add() takes 0 positional arguments but 2 were given"
     ]
    }
   ],
   "source": [
    "def main(dec):\n",
    "    def add():\n",
    "        print(\"hii\")\n",
    "        dec()\n",
    "\n",
    "    return add\n",
    "@main\n",
    "def sub(a,b):\n",
    "    print(a-b)\n",
    "sub(5,3)\n",
    "# add(5,5)\n"
   ]
  },
  {
   "cell_type": "code",
   "execution_count": null,
   "id": "7df2b5ee",
   "metadata": {},
   "outputs": [],
   "source": []
  },
  {
   "cell_type": "markdown",
   "id": "5cc73b5a",
   "metadata": {},
   "source": [
    "Args"
   ]
  },
  {
   "cell_type": "code",
   "execution_count": 65,
   "id": "2aecdd3c",
   "metadata": {},
   "outputs": [
    {
     "name": "stdout",
     "output_type": "stream",
     "text": [
      "8\n"
     ]
    }
   ],
   "source": [
    "def new(*args):\n",
    "    print(args[0]+args[2]+args[3])\n",
    "new(1,2,3,4,5)"
   ]
  },
  {
   "cell_type": "code",
   "execution_count": 5,
   "id": "1816176c",
   "metadata": {},
   "outputs": [
    {
     "name": "stdout",
     "output_type": "stream",
     "text": [
      "(2, 't', '3ef')\n"
     ]
    }
   ],
   "source": [
    "# tuple packing\n",
    "a=2\n",
    "b=\"t\"\n",
    "c=\"3ef\"\n",
    "a,b,c=d\n",
    "print(d)"
   ]
  },
  {
   "cell_type": "code",
   "execution_count": 3,
   "id": "12cb0634",
   "metadata": {},
   "outputs": [
    {
     "name": "stdout",
     "output_type": "stream",
     "text": [
      "2\n"
     ]
    }
   ],
   "source": [
    "# tuple unpacking\n",
    "t  = (2,\"a\",3,\"b\")\n",
    "w,x,y,z = t\n",
    "print(w)"
   ]
  },
  {
   "cell_type": "code",
   "execution_count": 6,
   "id": "cb326eb9",
   "metadata": {},
   "outputs": [
    {
     "name": "stdout",
     "output_type": "stream",
     "text": [
      "(0, 'a')\n",
      "(1, 'b')\n",
      "(2, 'c')\n",
      "(3, 'd')\n"
     ]
    }
   ],
   "source": [
    "a=[\"a\",\"b\",\"c\",\"d\"]\n",
    "# b=enumerate(a)\n",
    "# print(list(b))\n",
    "for i in enumerate(a):\n",
    "    print(i)\n",
    "    "
   ]
  },
  {
   "cell_type": "code",
   "execution_count": 25,
   "id": "1b1b4be1",
   "metadata": {},
   "outputs": [
    {
     "name": "stdout",
     "output_type": "stream",
     "text": [
      "Name of the student: iram Roll no of the student: 55\n",
      "school name: abp school rollno.: 55 subject: Maths\n"
     ]
    }
   ],
   "source": [
    "class student:\n",
    "    def __init__(self,name,rollno):\n",
    "        self.name=name\n",
    "        self.rollno=rollno\n",
    "    def show(self):\n",
    "        print(\"Name of the student:\",self.name,\"Roll no of the student:\",self.rollno)\n",
    "class school(student):\n",
    "    def __init__(self, name, rollno,age):\n",
    "        super().__init__(name, rollno)\n",
    "        self.age = age\n",
    "        zikra=super().show()\n",
    "    def show(self):\n",
    "        self.school=\"abp school\"\n",
    "        print(\"school name:\",self.school, \"rollno.:\",self.rollno, \"age:\", self.age)       \n",
    "class home(school):\n",
    "    def __init__(self, name, rollno, age, subject):\n",
    "        super().__init__(name, rollno, age)\n",
    "        self.subject = subject\n",
    "        super().show()\n",
    "    def show(self):\n",
    "        self.school=\"abp school\"\n",
    "        print(\"school name:\",self.school, \"rollno.:\",self.rollno, \"subject:\", self.subject)\n",
    "    \n",
    "s1=home('iram',55,33,\"Maths\")\n",
    "s1.show()\n"
   ]
  },
  {
   "cell_type": "code",
   "execution_count": 2,
   "id": "9ea8a091",
   "metadata": {},
   "outputs": [
    {
     "name": "stdout",
     "output_type": "stream",
     "text": [
      "a\n",
      "b\n"
     ]
    }
   ],
   "source": [
    "class a:\n",
    "    def __init__(self):\n",
    "        print(\"a\")\n",
    "    def show(self):\n",
    "        print(\"b\")\n",
    "        \n",
    "p=a()\n",
    "p.show()"
   ]
  },
  {
   "cell_type": "code",
   "execution_count": 4,
   "id": "38bc944a",
   "metadata": {},
   "outputs": [
    {
     "name": "stdout",
     "output_type": "stream",
     "text": [
      "1\n"
     ]
    }
   ],
   "source": [
    "class a:\n",
    "    print(\"1\")\n",
    "p=a()"
   ]
  },
  {
   "cell_type": "code",
   "execution_count": 13,
   "id": "70a58620",
   "metadata": {},
   "outputs": [
    {
     "name": "stdout",
     "output_type": "stream",
     "text": [
      "Constructor\n",
      "new\n"
     ]
    }
   ],
   "source": [
    "class A:\n",
    "    def __init__(self):\n",
    "        print(\"Constructor\")\n",
    "        \n",
    "    print(\"Constructor\")\n",
    "    \n",
    "    def __new__(self):\n",
    "        print(\"new\")\n",
    "s1=A()"
   ]
  },
  {
   "cell_type": "code",
   "execution_count": 8,
   "id": "cf08af0f",
   "metadata": {},
   "outputs": [
    {
     "ename": "TypeError",
     "evalue": "unhashable type: 'set'",
     "output_type": "error",
     "traceback": [
      "\u001b[1;31m---------------------------------------------------------------------------\u001b[0m",
      "\u001b[1;31mTypeError\u001b[0m                                 Traceback (most recent call last)",
      "Input \u001b[1;32mIn [8]\u001b[0m, in \u001b[0;36m<cell line: 1>\u001b[1;34m()\u001b[0m\n\u001b[1;32m----> 1\u001b[0m a\u001b[38;5;241m=\u001b[39m{{\u001b[38;5;124m\"\u001b[39m\u001b[38;5;124ma\u001b[39m\u001b[38;5;124m\"\u001b[39m}:\u001b[38;5;241m4\u001b[39m}\n\u001b[0;32m      2\u001b[0m \u001b[38;5;28mprint\u001b[39m(a[a,b])\n",
      "\u001b[1;31mTypeError\u001b[0m: unhashable type: 'set'"
     ]
    }
   ],
   "source": [
    "a={{\"a\"}:4}\n",
    "print(a[a,b])"
   ]
  },
  {
   "cell_type": "markdown",
   "id": "bb6f0848",
   "metadata": {},
   "source": [
    "# Dictionary logical based questions\n",
    "\n",
    "Questions=[{\"question\":\"correct extension of python\", \"answer\":\".py\", \"explanation\":\" \"},{\"question\":\"What is django\", \"answer\":\"Its a framework\", \"explanation\":\"Djano is used for building projects\"},{\"question\":\"Which language would like tomlearn next\", \"answer\":\"java\", \"explanation\":\" \"},{\"question\":\"Favourate color\", \"answer\":\"White\", \"explanation\":\"White is m favourate color\"},{\"question\":\"what is ur hobby\", \"answer\":\"Nothing\", \"explanation\":\"Before i used to like reading becoz i was not having phone\"}]"
   ]
  },
  {
   "cell_type": "code",
   "execution_count": 134,
   "id": "2da16d7f",
   "metadata": {},
   "outputs": [
    {
     "name": "stdout",
     "output_type": "stream",
     "text": [
      "1.python\n",
      " ANS- .py\n",
      "2.django\n",
      " ANS- framework\n",
      "3.second lang\n",
      " ANS- java\n",
      "4.Favourate color\n",
      " ANS- White\n",
      "5.hobby\n",
      " ANS- Nothing\n",
      "2 Explanation: building projects\n",
      "4 Explanation: color\n",
      "5 Explanation: no phone\n"
     ]
    }
   ],
   "source": [
    "Questions=[{\"question\":\"python\", \"answer\":\".py\", \"explanation\":\"\"},\n",
    "           {\"question\":\"django\", \"answer\":\"framework\", \"explanation\":\"building projects\"},\n",
    "           {\"question\":\"second lang\", \"answer\":\"java\", \"explanation\":\"\"},\n",
    "           {\"question\":\"Favourate color\", \"answer\":\"White\", \"explanation\":\"color\"},\n",
    "           {\"question\":\"hobby\", \"answer\":\"Nothing\", \"explanation\":\"no phone\"}]\n",
    "\n",
    "count=0\n",
    "for i in range(len(Questions)):\n",
    "    count+=1\n",
    "    print(f\"{count}.{Questions[i]['question']}\\n ANS- {Questions[i]['answer']}\")\n",
    "    \n",
    "k=1\n",
    "for j in range(len(Questions)):\n",
    "    if Questions[j]['explanation']==\"\":\n",
    "        pass\n",
    "    else:\n",
    "        print(f\"{k} Explanation: {Questions[j]['explanation']}\")\n",
    "    k+=1\n",
    "    "
   ]
  },
  {
   "cell_type": "code",
   "execution_count": 106,
   "id": "38f94f39",
   "metadata": {},
   "outputs": [
    {
     "ename": "TypeError",
     "evalue": "'int' object is not subscriptable",
     "output_type": "error",
     "traceback": [
      "\u001b[1;31m---------------------------------------------------------------------------\u001b[0m",
      "\u001b[1;31mTypeError\u001b[0m                                 Traceback (most recent call last)",
      "Input \u001b[1;32mIn [106]\u001b[0m, in \u001b[0;36m<cell line: 1>\u001b[1;34m()\u001b[0m\n\u001b[1;32m----> 1\u001b[0m \u001b[38;5;28mprint\u001b[39m(key\u001b[38;5;241m+\u001b[39m\u001b[38;5;124m\"\u001b[39m\u001b[38;5;124m-\u001b[39m\u001b[38;5;124m\"\u001b[39m\u001b[38;5;241m+\u001b[39m\u001b[43mi\u001b[49m\u001b[43m[\u001b[49m\u001b[43mkey\u001b[49m\u001b[43m]\u001b[49m)\n",
      "\u001b[1;31mTypeError\u001b[0m: 'int' object is not subscriptable"
     ]
    }
   ],
   "source": [
    "print(key+\"-\"+i[key])"
   ]
  },
  {
   "cell_type": "code",
   "execution_count": 50,
   "id": "ccea2469",
   "metadata": {},
   "outputs": [
    {
     "name": "stdout",
     "output_type": "stream",
     "text": [
      "3\n"
     ]
    }
   ],
   "source": [
    "a={\"a\":1,\"b\":2,\"c\":3}\n",
    "print(a[\"c\"])"
   ]
  },
  {
   "cell_type": "code",
   "execution_count": 51,
   "id": "d6271155",
   "metadata": {},
   "outputs": [
    {
     "name": "stdout",
     "output_type": "stream",
     "text": [
      "true\n"
     ]
    }
   ],
   "source": [
    "st=\"py\"\n",
    "if st:\n",
    "    print(\"true\")\n",
    "else:\n",
    "    print(\"False\")"
   ]
  },
  {
   "cell_type": "code",
   "execution_count": 52,
   "id": "1abc5070",
   "metadata": {},
   "outputs": [
    {
     "name": "stdout",
     "output_type": "stream",
     "text": [
      "true\n"
     ]
    }
   ],
   "source": [
    "i=7\n",
    "if i:\n",
    "    print(\"true\")\n",
    "else:\n",
    "    print(\"false\")"
   ]
  },
  {
   "cell_type": "code",
   "execution_count": 53,
   "id": "5856bb5a",
   "metadata": {},
   "outputs": [
    {
     "name": "stdout",
     "output_type": "stream",
     "text": [
      "True\n"
     ]
    }
   ],
   "source": [
    "i=7\n",
    "print(bool(i))"
   ]
  },
  {
   "cell_type": "code",
   "execution_count": 5,
   "id": "e91a9b51",
   "metadata": {},
   "outputs": [
    {
     "name": "stdout",
     "output_type": "stream",
     "text": [
      "10\n",
      "11\n",
      "14\n",
      "19\n",
      "26\n"
     ]
    }
   ],
   "source": [
    "# generator\n",
    "def square(x):\n",
    "    for i in range(5):\n",
    "        yield i*i\n",
    "        \n",
    "def test(x):\n",
    "    for i in square(5):\n",
    "        print(i+x)\n",
    "test(10)"
   ]
  },
  {
   "cell_type": "code",
   "execution_count": 17,
   "id": "1a472c12",
   "metadata": {},
   "outputs": [
    {
     "ename": "TypeError",
     "evalue": "'generator' object cannot be interpreted as an integer",
     "output_type": "error",
     "traceback": [
      "\u001b[1;31m---------------------------------------------------------------------------\u001b[0m",
      "\u001b[1;31mTypeError\u001b[0m                                 Traceback (most recent call last)",
      "Input \u001b[1;32mIn [17]\u001b[0m, in \u001b[0;36m<cell line: 5>\u001b[1;34m()\u001b[0m\n\u001b[0;32m      3\u001b[0m         \u001b[38;5;28;01myield\u001b[39;00m i\u001b[38;5;241m*\u001b[39mi\n\u001b[0;32m      4\u001b[0m obj\u001b[38;5;241m=\u001b[39msquare(\u001b[38;5;241m5\u001b[39m)\n\u001b[1;32m----> 5\u001b[0m \u001b[38;5;28;01mfor\u001b[39;00m i \u001b[38;5;129;01min\u001b[39;00m \u001b[38;5;28;43mrange\u001b[39;49m\u001b[43m(\u001b[49m\u001b[43mobj\u001b[49m\u001b[43m)\u001b[49m:\n\u001b[0;32m      6\u001b[0m     \u001b[38;5;28mprint\u001b[39m(\u001b[38;5;28mnext\u001b[39m(obj))\n",
      "\u001b[1;31mTypeError\u001b[0m: 'generator' object cannot be interpreted as an integer"
     ]
    }
   ],
   "source": [
    "def square(x):\n",
    "    for i in range(x):\n",
    "        yield i*i\n",
    "obj=square(5)\n",
    "for i in range():\n",
    "    print(next(obj))\n",
    " "
   ]
  },
  {
   "cell_type": "code",
   "execution_count": 11,
   "id": "b04e0656",
   "metadata": {},
   "outputs": [
    {
     "name": "stdout",
     "output_type": "stream",
     "text": [
      "2701718561280\n",
      "2701689856000\n",
      "True\n",
      "True\n"
     ]
    }
   ],
   "source": [
    "# a=2\n",
    "# b=2\n",
    " \n",
    "a=[1,2,3]\n",
    "b=[1,2,3]\n",
    "print(id(a))\n",
    "print(id(b))\n",
    "# b=a\n",
    "print(a is b)\n",
    "print(a == b)"
   ]
  },
  {
   "cell_type": "code",
   "execution_count": 15,
   "id": "9401b81e",
   "metadata": {},
   "outputs": [
    {
     "name": "stdout",
     "output_type": "stream",
     "text": [
      "5\n",
      "1\n",
      "2\n",
      "3\n",
      "4\n",
      "4\n",
      "3\n",
      "2\n",
      "1\n",
      "0\n"
     ]
    }
   ],
   "source": [
    "i=5\n",
    "j=1\n",
    "while i>=1:\n",
    "    print(i)   # 5 \n",
    "    while j<=4:\n",
    "        print(j)   # - 1 2 3 4 \n",
    "        j=j+1\n",
    "        \n",
    "    i=i-1\n",
    "print(i)"
   ]
  },
  {
   "cell_type": "code",
   "execution_count": 21,
   "id": "c05956f3",
   "metadata": {},
   "outputs": [
    {
     "name": "stdout",
     "output_type": "stream",
     "text": [
      "2701690080320\n",
      "2701690080320\n",
      "[1, 100, 3, 4]\n"
     ]
    }
   ],
   "source": [
    "# copy(), deepcopy()\n",
    "lst1=[1,2,3,4]\n",
    "lst2=lst1\n",
    "# Both objects are reffering to same memory.\n",
    "print(id(lst2))\n",
    "print(id(lst1))\n",
    "lst2[1]=100\n",
    "print(lst1)\n",
    "\n",
    "\n",
    "\n"
   ]
  },
  {
   "cell_type": "code",
   "execution_count": 41,
   "id": "b63127b0",
   "metadata": {},
   "outputs": [
    {
     "name": "stdout",
     "output_type": "stream",
     "text": [
      "2701718713856\n",
      "2701718752320\n",
      "[1, 2, 3]\n",
      "[1, 100, 3]\n"
     ]
    }
   ],
   "source": [
    "# Shallow Copy\n",
    "lst1=[1,2,3]\n",
    "lst2=lst1.copy()\n",
    "print(id(lst2))\n",
    "# Creating different Copy\n",
    "print(id(lst1))     \n",
    "\n",
    "lst2[1]=100\n",
    "print(lst1)  # lst1 remains as it is. \n",
    "print(lst2)  # oly changes the value of lst2 not of lst1\n",
    "\n",
    "# ------------------------------------------------------------\n"
   ]
  },
  {
   "cell_type": "code",
   "execution_count": 57,
   "id": "304c165e",
   "metadata": {},
   "outputs": [],
   "source": [
    "a=[[5,6,7],[8,9,10]]\n",
    "b=a.copy()\n",
    "\n",
    "# print(b)\n",
    "\n",
    "a[1][0]=100\n"
   ]
  },
  {
   "cell_type": "code",
   "execution_count": 58,
   "id": "0e377862",
   "metadata": {},
   "outputs": [
    {
     "name": "stdout",
     "output_type": "stream",
     "text": [
      "2701718599488\n",
      "[[5, 6, 7], [100, 9, 10]]\n"
     ]
    }
   ],
   "source": [
    "print(id(a))\n",
    "print(a)"
   ]
  },
  {
   "cell_type": "code",
   "execution_count": 59,
   "id": "eb0c635b",
   "metadata": {},
   "outputs": [
    {
     "name": "stdout",
     "output_type": "stream",
     "text": [
      "2701718697664\n",
      "[[5, 6, 7], [100, 9, 10]]\n"
     ]
    }
   ],
   "source": [
    "print(id(b))\n",
    "print(b)"
   ]
  },
  {
   "cell_type": "code",
   "execution_count": 67,
   "id": "a60fc28d",
   "metadata": {},
   "outputs": [],
   "source": [
    "a=[[5,6,7],[8,9,10]]\n",
    "b=a.copy()\n",
    "a.append([2,2])"
   ]
  },
  {
   "cell_type": "code",
   "execution_count": 55,
   "id": "02a9f06e",
   "metadata": {},
   "outputs": [
    {
     "name": "stdout",
     "output_type": "stream",
     "text": [
      "[[5, 6, 7], [8, 9, 10], [2, 2]]\n"
     ]
    }
   ],
   "source": [
    "print(a)"
   ]
  },
  {
   "cell_type": "code",
   "execution_count": 68,
   "id": "9e9a4e7c",
   "metadata": {},
   "outputs": [
    {
     "name": "stdout",
     "output_type": "stream",
     "text": [
      "[[5, 6, 7], [8, 9, 10]]\n"
     ]
    }
   ],
   "source": [
    "print(b)"
   ]
  },
  {
   "cell_type": "code",
   "execution_count": 60,
   "id": "9ed47223",
   "metadata": {},
   "outputs": [],
   "source": [
    "# DeepCopy"
   ]
  },
  {
   "cell_type": "code",
   "execution_count": 72,
   "id": "b86b11ce",
   "metadata": {},
   "outputs": [
    {
     "name": "stdout",
     "output_type": "stream",
     "text": [
      "[1, 2, 3]\n",
      "[1, 2, 3]\n"
     ]
    }
   ],
   "source": [
    "import copy\n",
    "a=[1,2,3]\n",
    "b=copy.deepcopy(a)\n",
    "print(a)\n",
    "print(b)"
   ]
  },
  {
   "cell_type": "code",
   "execution_count": 6,
   "id": "f59f6b78",
   "metadata": {},
   "outputs": [
    {
     "name": "stdout",
     "output_type": "stream",
     "text": [
      "[2, 4]\n"
     ]
    }
   ],
   "source": [
    "def even(n):\n",
    "    if n%2==0:\n",
    "        return True\n",
    "    else:\n",
    "        return False\n",
    "\n",
    "lst=[2,3,4,5]\n",
    "\n",
    "a= filter(even,lst)\n",
    "print(list(a))"
   ]
  },
  {
   "cell_type": "code",
   "execution_count": 11,
   "id": "409e995b",
   "metadata": {},
   "outputs": [
    {
     "name": "stdout",
     "output_type": "stream",
     "text": [
      "['odd', 'even', 'odd', 'even']\n"
     ]
    }
   ],
   "source": [
    "a=[1,2,3,4]\n",
    "b=[\"even\" if i%2==0 else \"odd\" for i in a]\n",
    "print(b)"
   ]
  },
  {
   "cell_type": "code",
   "execution_count": 29,
   "id": "8b2eaa9c",
   "metadata": {},
   "outputs": [
    {
     "name": "stdout",
     "output_type": "stream",
     "text": [
      "['odd', 'even', 'odd', 'even']\n"
     ]
    }
   ],
   "source": [
    "a=[1,2,3,4]\n",
    "# c=list(map(lambda n:n%2==0,a))\n",
    "c=list(map(lambda n:\"even\" if n%2==0 else \"odd\", a))\n",
    "print(c)"
   ]
  },
  {
   "cell_type": "code",
   "execution_count": 34,
   "id": "a028dc03",
   "metadata": {},
   "outputs": [
    {
     "ename": "SyntaxError",
     "evalue": "unmatched ')' (710621598.py, line 1)",
     "output_type": "error",
     "traceback": [
      "\u001b[1;36m  Input \u001b[1;32mIn [34]\u001b[1;36m\u001b[0m\n\u001b[1;33m    c=list(filter n:n%2==0))\u001b[0m\n\u001b[1;37m                           ^\u001b[0m\n\u001b[1;31mSyntaxError\u001b[0m\u001b[1;31m:\u001b[0m unmatched ')'\n"
     ]
    }
   ],
   "source": [
    "c=list(filter n:n%2==0))\n",
    "print(c)"
   ]
  },
  {
   "cell_type": "code",
   "execution_count": 10,
   "id": "7a219b05",
   "metadata": {},
   "outputs": [
    {
     "name": "stdout",
     "output_type": "stream",
     "text": [
      "Odd\n",
      "Odd\n",
      "Even\n",
      "Odd\n",
      "None\n"
     ]
    }
   ],
   "source": [
    "def func(a):\n",
    "    for i in a:\n",
    "        if i%2==0:\n",
    "            print(\"Even\")\n",
    "        else:\n",
    "            print(\"Odd\")\n",
    "\n",
    "        \n",
    "# b=func([2,3,4,5])\n",
    "lst=[7,9,96,7]\n",
    "b=func(lst)\n",
    "print(b)\n",
    "    "
   ]
  },
  {
   "cell_type": "code",
   "execution_count": 3,
   "id": "214996eb",
   "metadata": {},
   "outputs": [
    {
     "name": "stdout",
     "output_type": "stream",
     "text": [
      "2849929855984\n"
     ]
    }
   ],
   "source": [
    "a=\"anam\"\n",
    "print(id(a))"
   ]
  },
  {
   "cell_type": "code",
   "execution_count": 8,
   "id": "a033b790",
   "metadata": {},
   "outputs": [
    {
     "name": "stdout",
     "output_type": "stream",
     "text": [
      "2849929539728\n"
     ]
    }
   ],
   "source": [
    "a=6273\n",
    "print(id(a))"
   ]
  },
  {
   "cell_type": "code",
   "execution_count": 14,
   "id": "186470a5",
   "metadata": {},
   "outputs": [
    {
     "name": "stdout",
     "output_type": "stream",
     "text": [
      "18276.98\n"
     ]
    }
   ],
   "source": [
    "li = [{\"name\":\"raja\",\"totalPremium\":4569},{\"name\":\"raja\",\"totalPremium\":\"4569\"},\n",
    " {\"name\":\"raja\",\"totalPremium\":4569.44},{\"name\":\"raja\",\"totalPremium\":\"4569.54\"}]\n",
    "new=[]\n",
    "total=0\n",
    "for i in li:\n",
    "    for j in i.values():\n",
    "        if j == \"raja\":\n",
    "            new.append(j)\n",
    "        else:\n",
    "#             val=int(j)\n",
    "            val=float(j)\n",
    "            total=total+val\n",
    "print(total)\n",
    "        \n",
    "        \n",
    "            "
   ]
  },
  {
   "cell_type": "code",
   "execution_count": 17,
   "id": "1c81bc9e",
   "metadata": {},
   "outputs": [
    {
     "name": "stdout",
     "output_type": "stream",
     "text": [
      "18276.98\n"
     ]
    }
   ],
   "source": [
    "data=[float(a[\"totalPremium\"]) for a in li]\n",
    "print(sum(data))"
   ]
  },
  {
   "cell_type": "code",
   "execution_count": 22,
   "id": "a081e5e1",
   "metadata": {},
   "outputs": [
    {
     "name": "stdout",
     "output_type": "stream",
     "text": [
      "[18276.98]\n"
     ]
    }
   ],
   "source": [
    "datas=[sum(float(a[\"totalPremium\"]) for a in li)]\n",
    "print(datas)"
   ]
  },
  {
   "cell_type": "code",
   "execution_count": 29,
   "id": "750293af",
   "metadata": {},
   "outputs": [
    {
     "name": "stdout",
     "output_type": "stream",
     "text": [
      "18276.98\n"
     ]
    }
   ],
   "source": [
    "li = [{\"name\":\"raja\",\"totalPremium\":4569},{\"name\":\"raja\",\"totalPremium\":\"4569\"},\n",
    " {\"name\":\"raja\",\"totalPremium\":4569.44},{\"name\":\"raja\",\"totalPremium\":\"4569.54\"}]\n",
    "\n",
    "lst=[]\n",
    "for i in li:\n",
    "    lst.append(float(i[\"totalPremium\"]))\n",
    "print(sum(lst))\n"
   ]
  },
  {
   "cell_type": "code",
   "execution_count": 40,
   "id": "ac814092",
   "metadata": {},
   "outputs": [
    {
     "name": "stdout",
     "output_type": "stream",
     "text": [
      "[4569.0, 4569.0, 4569.44, 4569.54]\n",
      "{'name': 'raja', 'totalPremium': 18276.98}\n"
     ]
    }
   ],
   "source": [
    "li = [{\"name\":\"raja\",\"totalPremium\":4569},{\"name\":\"raja\",\"totalPremium\":\"4569\"},\n",
    " {\"name\":\"raja\",\"totalPremium\":4569.44},{\"name\":\"raja\",\"totalPremium\":\"4569.54\"}]\n",
    "\n",
    "# lst={}\n",
    "# lt=[]\n",
    "# for i in li:\n",
    "#     lt.append(float(i[\"totalPremium\"]))\n",
    "#     lst.update({\"totalPremium\":sum(lt)})\n",
    "# print(lst)\n",
    "\n",
    "lst={}\n",
    "lt=[]\n",
    "for i in li:\n",
    "    lt.append(float(i[\"totalPremium\"]))\n",
    "print(lt)\n",
    "\n",
    "\n",
    "c= (li[0])\n",
    "c[\"totalPremium\"]=sum(lt)\n",
    "print(c)\n",
    "\n"
   ]
  },
  {
   "cell_type": "code",
   "execution_count": null,
   "id": "edad06b3",
   "metadata": {},
   "outputs": [],
   "source": []
  }
 ],
 "metadata": {
  "kernelspec": {
   "display_name": "Python 3 (ipykernel)",
   "language": "python",
   "name": "python3"
  },
  "language_info": {
   "codemirror_mode": {
    "name": "ipython",
    "version": 3
   },
   "file_extension": ".py",
   "mimetype": "text/x-python",
   "name": "python",
   "nbconvert_exporter": "python",
   "pygments_lexer": "ipython3",
   "version": "3.10.4"
  }
 },
 "nbformat": 4,
 "nbformat_minor": 5
}
