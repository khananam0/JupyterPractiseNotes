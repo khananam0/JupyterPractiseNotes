{
 "cells": [
  {
   "cell_type": "markdown",
   "id": "e96ba832",
   "metadata": {},
   "source": [
    "1) Findall Function"
   ]
  },
  {
   "cell_type": "code",
   "execution_count": 11,
   "id": "39fe8888",
   "metadata": {},
   "outputs": [
    {
     "name": "stdout",
     "output_type": "stream",
     "text": [
      "['a']\n",
      "[]\n"
     ]
    }
   ],
   "source": [
    "import re\n",
    "var=\"this is a book\"\n",
    "\n",
    "# If value is present will return in list\n",
    "a=re.findall(\"a\",var) \n",
    "print(a)\n",
    "\n",
    "# If value is nnot present will give empty list\n",
    "b=re.findall(\"rest\",var)\n",
    "print(b)\n"
   ]
  },
  {
   "cell_type": "markdown",
   "id": "d984b56a",
   "metadata": {},
   "source": [
    "2) Search function"
   ]
  },
  {
   "cell_type": "code",
   "execution_count": 13,
   "id": "fe972b47",
   "metadata": {},
   "outputs": [
    {
     "name": "stdout",
     "output_type": "stream",
     "text": [
      "<re.Match object; span=(0, 22), match='the spain is beautiful'>\n"
     ]
    }
   ],
   "source": [
    "import re\n",
    "\n",
    "text=\"the spain is beautiful\"\n",
    "x= re.search(\"^the.*beautiful\",text)\n",
    "print(x)"
   ]
  },
  {
   "cell_type": "markdown",
   "id": "b4f4603a",
   "metadata": {},
   "source": [
    "3) Split function"
   ]
  },
  {
   "cell_type": "code",
   "execution_count": 15,
   "id": "180a5677",
   "metadata": {},
   "outputs": [
    {
     "name": "stdout",
     "output_type": "stream",
     "text": [
      "['the', 'spain', 'is', 'beautiful']\n"
     ]
    }
   ],
   "source": [
    "import re\n",
    "# split the string at every white-space character\n",
    "x=re.split(\"\\s\",text)\n",
    "print(x)"
   ]
  },
  {
   "cell_type": "code",
   "execution_count": null,
   "id": "9f6a574c",
   "metadata": {},
   "outputs": [],
   "source": []
  }
 ],
 "metadata": {
  "kernelspec": {
   "display_name": "Python 3 (ipykernel)",
   "language": "python",
   "name": "python3"
  },
  "language_info": {
   "codemirror_mode": {
    "name": "ipython",
    "version": 3
   },
   "file_extension": ".py",
   "mimetype": "text/x-python",
   "name": "python",
   "nbconvert_exporter": "python",
   "pygments_lexer": "ipython3",
   "version": "3.10.4"
  }
 },
 "nbformat": 4,
 "nbformat_minor": 5
}
