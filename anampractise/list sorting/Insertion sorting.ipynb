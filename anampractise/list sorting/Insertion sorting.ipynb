{
 "cells": [
  {
   "cell_type": "markdown",
   "id": "db4c7cf8",
   "metadata": {},
   "source": [
    "List Sorting"
   ]
  },
  {
   "cell_type": "code",
   "execution_count": 4,
   "id": "2b9f0747",
   "metadata": {},
   "outputs": [
    {
     "name": "stdout",
     "output_type": "stream",
     "text": [
      "[11, 12, 13, 5, 6]\n",
      "[11, 12, 5, 13, 6]\n",
      "[11, 5, 12, 13, 6]\n",
      "[5, 11, 12, 13, 6]\n",
      "[5, 11, 12, 6, 13]\n",
      "[5, 11, 6, 12, 13]\n",
      "[5, 6, 11, 12, 13]\n"
     ]
    }
   ],
   "source": [
    "lst=[12,11,13,5,6]\n",
    "for j in range(1,len(lst)):\n",
    "    while lst[j-1]>lst[j] and j>0:\n",
    "        lst[j-1],lst[j]=lst[j],lst[j-1]\n",
    "        j-=1\n",
    "        print(lst)\n",
    "        "
   ]
  },
  {
   "cell_type": "markdown",
   "id": "3db3da3f",
   "metadata": {},
   "source": [
    "# Enum\n",
    " Enum is Class Creating Enumerations, Which are set of symbolic names bound to unique,contant values."
   ]
  },
  {
   "cell_type": "code",
   "execution_count": 10,
   "id": "bfeb5855",
   "metadata": {},
   "outputs": [
    {
     "name": "stdout",
     "output_type": "stream",
     "text": [
      "Season.SPRING\n",
      "SPRING\n",
      "0\n",
      "<enum 'Season'>\n",
      "<Season.SPRING: 0>\n",
      "[<Season.SPRING: 0>, <Season.SUMMER: 1>, <Season.AUTUMN: 2>, <Season.WINTER: 3>]\n"
     ]
    }
   ],
   "source": [
    "from enum import Enum\n",
    "class Season(Enum):\n",
    "    SPRING=0\n",
    "    SUMMER=1\n",
    "    AUTUMN=2\n",
    "    WINTER=3\n",
    "print(Season.SPRING)\n",
    "print(Season.SPRING.name)\n",
    "print(Season.SPRING.value)\n",
    "\n",
    "print(type(Season.SPRING))\n",
    "print(repr(Season.SPRING))\n",
    "print(list(Season))"
   ]
  },
  {
   "cell_type": "markdown",
   "id": "1d101d95",
   "metadata": {},
   "source": [
    "===>> Can Access BY-Name,Value"
   ]
  },
  {
   "cell_type": "code",
   "execution_count": 12,
   "id": "2affe747",
   "metadata": {},
   "outputs": [
    {
     "name": "stdout",
     "output_type": "stream",
     "text": [
      "AUTUMN\n",
      "3\n"
     ]
    }
   ],
   "source": [
    "from enum import Enum\n",
    "class Season(Enum):\n",
    "    SPRING=0\n",
    "    SUMMER=1\n",
    "    AUTUMN=2\n",
    "    WINTER=3\n",
    "    \n",
    "print(Season(2).name)\n",
    "print(Season['WINTER'].value)\n",
    "    "
   ]
  },
  {
   "cell_type": "code",
   "execution_count": 10,
   "id": "4d91ce4a",
   "metadata": {},
   "outputs": [
    {
     "name": "stdout",
     "output_type": "stream",
     "text": [
      "[[], [], [], [], []]\n"
     ]
    }
   ],
   "source": [
    "l=5*[[]]\n",
    "print(l)"
   ]
  },
  {
   "cell_type": "code",
   "execution_count": 1,
   "id": "a684657b",
   "metadata": {},
   "outputs": [
    {
     "name": "stdout",
     "output_type": "stream",
     "text": [
      "3\n",
      "{'apple': 4}\n",
      "{'ball': 2}\n",
      "{'cat': 3}\n"
     ]
    }
   ],
   "source": [
    "a=['apple','ball','cat','apple','apple','cat','apple','ball','cat',]\n",
    "print(a.count('cat'))\n",
    "b=set(a)\n",
    "for i in b:\n",
    "    val=a.count(i)\n",
    "    print({i:val})\n",
    "#     dic={i:val}\n",
    "#     print(dic)\n",
    "    \n"
   ]
  },
  {
   "cell_type": "code",
   "execution_count": 1,
   "id": "c202799d",
   "metadata": {},
   "outputs": [
    {
     "name": "stdout",
     "output_type": "stream",
     "text": [
      "[1, 3, 2, 1, 3, 2]\n"
     ]
    }
   ],
   "source": [
    "list1=[1,3,2]\n",
    "list2=(list1*2)\n",
    "print(list2)"
   ]
  },
  {
   "cell_type": "code",
   "execution_count": 10,
   "id": "0b1e2177",
   "metadata": {},
   "outputs": [
    {
     "name": "stdout",
     "output_type": "stream",
     "text": [
      "[1, 3, 5, 1, 3, 5, 1, 3, 5, 1, 3, 5, 1, 3, 5]\n"
     ]
    }
   ],
   "source": [
    "a=5*[1,3,5]\n",
    "print(a)"
   ]
  },
  {
   "cell_type": "code",
   "execution_count": 11,
   "id": "814ad3a1",
   "metadata": {},
   "outputs": [
    {
     "ename": "SyntaxError",
     "evalue": "invalid syntax (1159196855.py, line 9)",
     "output_type": "error",
     "traceback": [
      "\u001b[1;36m  Input \u001b[1;32mIn [11]\u001b[1;36m\u001b[0m\n\u001b[1;33m    i=\u001b[0m\n\u001b[1;37m      ^\u001b[0m\n\u001b[1;31mSyntaxError\u001b[0m\u001b[1;31m:\u001b[0m invalid syntax\n"
     ]
    }
   ],
   "source": [
    "t=15\n",
    "t1=1\n",
    "t2=2\n",
    "t3=3\n",
    "\n",
    "for i in range(t):\n",
    "    if i>t1:\n",
    "        t1+=i\n",
    "        i="
   ]
  },
  {
   "cell_type": "code",
   "execution_count": 12,
   "id": "99457294",
   "metadata": {},
   "outputs": [
    {
     "name": "stdout",
     "output_type": "stream",
     "text": [
      "li 1\n",
      "li 2\n",
      "li 3\n",
      "gld coin 6\n",
      "l1 5\n",
      "l1 7\n",
      "l1 8\n",
      "GOld Coin -8\n",
      "li 1\n",
      "li 2\n",
      "li 3\n",
      "gld coin 6\n",
      "l1 5\n",
      "l1 7\n",
      "l1 8\n",
      "GOld Coin -8\n"
     ]
    }
   ],
   "source": [
    "# n= int(input(\"No of theives-\"))   # 3\n",
    "# g=int(input(\"Gold-\"))      # 20 gold coins\n",
    "# val=0\n",
    "# for i in range(1,n+1):\n",
    "#     g=g-g+val\n",
    "#     if i==1:\n",
    "#         print('first-',i)\n",
    "#     elif i==2:\n",
    "#         print('second-',i)\n",
    "#     elif i==3:\n",
    "#         print(\"Third-\",i)\n",
    "#     else:\n",
    "#         print(\"remaing elements are-\")\n",
    "\n",
    "g=20\n",
    "c1=0\n",
    "c2=0\n",
    "c3=0\n",
    "i=0\n",
    "while g>0:\n",
    "    i+=1\n",
    "    if i==1:\n",
    "        c1+=1\n",
    "        c2+=2\n",
    "        c3+=3\n",
    "        g=6\n",
    "        print(\"li\",c1)\n",
    "        print(\"li\",c2)\n",
    "        print(\"li\",c3)\n",
    "        print(\"gld coin\",g)\n",
    "        continue\n",
    "    if i==2:\n",
    "        c1+=4\n",
    "        c2+=5\n",
    "        c3+=5\n",
    "        print(\"l1\",c1)\n",
    "        print(\"l1\",c2)\n",
    "        print(\"l1\",c3)\n",
    "        g-=14\n",
    "        print(\"GOld Coin\",g)\n",
    "\n",
    "\n",
    "\n",
    "# n= int(input(\"No of theives-\"))   # 3\n",
    "# g=int(input(\"Gold-\"))      # 20 gold coins\n",
    "# val=0\n",
    "# for i in range(1,n+1):\n",
    "#     g=g-g+val\n",
    "#     if i==1:\n",
    "#         print('first-',i)\n",
    "#     elif i==2:\n",
    "#         print('second-',i)\n",
    "#     elif i==3:\n",
    "#         print(\"Third-\",i)\n",
    "#     else:\n",
    "#         print(\"remaing elements are-\")\n",
    "\n",
    "g=20\n",
    "c1=0\n",
    "c2=0\n",
    "c3=0\n",
    "i=0\n",
    "while g>0:\n",
    "    i+=1\n",
    "    if i==1:\n",
    "        c1+=1\n",
    "        c2+=2\n",
    "        c3+=3\n",
    "        g=6\n",
    "        print(\"li\",c1)\n",
    "        print(\"li\",c2)\n",
    "        print(\"li\",c3)\n",
    "        print(\"gld coin\",g)\n",
    "        continue\n",
    "    if i==2:\n",
    "        c1+=4\n",
    "        c2+=5\n",
    "        c3+=5\n",
    "        print(\"l1\",c1)\n",
    "        print(\"l1\",c2)\n",
    "        print(\"l1\",c3)\n",
    "        g-=14\n",
    "        print(\"GOld Coin\",g)\n",
    "\n",
    "\n",
    "\n"
   ]
  },
  {
   "cell_type": "code",
   "execution_count": 20,
   "id": "dd14befb",
   "metadata": {},
   "outputs": [
    {
     "name": "stdout",
     "output_type": "stream",
     "text": [
      "No of theives-3\n",
      "Gold-20\n",
      "19\n",
      "1\n",
      "17\n",
      "2\n",
      "14\n",
      "3\n",
      "10\n",
      "4\n",
      "5\n",
      "5\n",
      "-1\n",
      "6\n",
      "-8\n",
      "7\n",
      "-16\n",
      "8\n",
      "-25\n",
      "9\n",
      "-35\n",
      "10\n",
      "-46\n",
      "11\n",
      "-58\n",
      "12\n",
      "-71\n",
      "13\n",
      "-85\n",
      "14\n",
      "-100\n",
      "15\n",
      "-116\n",
      "16\n",
      "-133\n",
      "17\n",
      "-151\n",
      "18\n",
      "-170\n",
      "19\n"
     ]
    }
   ],
   "source": [
    "n= int(input(\"No of theives-\"))   # 3\n",
    "g=int(input(\"Gold-\"))      # 20 gold coins\n",
    "\n",
    "# for i in range(1,n-1):\n",
    "#     for j in range(1,20):\n",
    "#         i=j\n",
    "#         g-=i\n",
    "#         g-=i\n",
    "\n",
    "# for i in range(g):\n",
    "#     g=g-i\n",
    "\n",
    "for i in range(1,n+1):\n",
    "    for j in range(1,g):\n",
    "        g=g-j\n",
    "    print(g)\n",
    "        i=j\n",
    "        print(i)\n",
    "#         if i ==1:\n",
    "            \n",
    "        \n",
    "        \n",
    "    \n",
    "\n",
    "    \n",
    "    \n",
    "\n"
   ]
  },
  {
   "cell_type": "code",
   "execution_count": 27,
   "id": "af6a2afa",
   "metadata": {},
   "outputs": [
    {
     "name": "stdout",
     "output_type": "stream",
     "text": [
      "Gold-3\n",
      "No of theives-3\n"
     ]
    }
   ],
   "source": [
    "g=int(input(\"Gold-\")) \n",
    "n= int(input(\"No of theives-\"))\n",
    "t1=0\n",
    "t2=0\n",
    "t3=0\n",
    "# 3\n",
    "i=0\n",
    "for i in range(n+1):\n",
    "    i += 1\n",
    "    if i==1:\n",
    "        t1=1\n",
    "        t1=2\n",
    "        t1=3\n",
    "#     elif i ==2:\n",
    "        \n",
    "        \n",
    "        \n",
    "    "
   ]
  },
  {
   "cell_type": "code",
   "execution_count": 27,
   "id": "d5f4dee9",
   "metadata": {},
   "outputs": [
    {
     "name": "stdout",
     "output_type": "stream",
     "text": [
      "No of theives-3\n",
      "Gold-20\n",
      "value- 19\n",
      "sub- 1\n",
      "1\n",
      "39\n",
      "value- 37\n",
      "sub- 2\n",
      "2\n",
      "76\n",
      "value- 73\n",
      "sub- 3\n",
      "3\n",
      "149\n"
     ]
    }
   ],
   "source": [
    "n= int(input(\"No of theives-\")) \n",
    "g=int(input(\"Gold-\"))\n",
    "count=0\n",
    "for i in range(1,n+1):\n",
    "    while i in g\n",
    "\n",
    "#     v=g-i\n",
    "#     print(\"value-\",v)\n",
    "#     sub=g-v\n",
    "#     print('sub-',sub)\n",
    "#     i=sub\n",
    "#     print(i)    #i=1,\n",
    "#     print(g)\n",
    "\n"
   ]
  },
  {
   "cell_type": "code",
   "execution_count": 2,
   "id": "19f134f4",
   "metadata": {},
   "outputs": [
    {
     "name": "stdout",
     "output_type": "stream",
     "text": [
      "No of Theive3\n",
      "No of Gold20\n",
      "thiefIndex 0\n",
      "0\n",
      "[1, 0, 0]\n",
      "thiefIndex 1\n",
      "0\n",
      "[1, 2, 0]\n",
      "thiefIndex 2\n",
      "0\n",
      "[1, 2, 3]\n",
      "thiefIndex 0\n",
      "1\n",
      "[5, 2, 3]\n",
      "thiefIndex 1\n",
      "2\n",
      "[5, 7, 3]\n",
      "thiefIndex 2\n",
      "3\n",
      "[5, 7, 8]\n",
      "[5, 7, 8]\n"
     ]
    }
   ],
   "source": [
    "numt = int(input(\"No of Theive\"))\n",
    "totalCoins = int(input(\"No of Gold\"))\n",
    "data = [0,0,0]\n",
    "coins = 0\n",
    "while totalCoins > 0:\n",
    "    thiefIndex = (coins % numt)\n",
    "    print(\"thiefIndex\", thiefIndex)\n",
    "    try:\n",
    "        data[thiefIndex]\n",
    "         #print(data[thiefIndex])\n",
    "    except:\n",
    "        print(\"Index doesn't exist!\")\n",
    "        data[thiefIndex] = 0\n",
    "        \n",
    "#     if data[thiefIndex] is None:\n",
    "#         data[thiefIndex] = 0 #Every thief starts with 0 coins\n",
    "    \n",
    "    coinsToGive = coins + 1\n",
    "    if totalCoins < coinsToGive:\n",
    "        coinsToGive = totalCoins\n",
    "    \n",
    "    data[thiefIndex] += coinsToGive\n",
    "    totalCoins -= coinsToGive\n",
    "    coins +=1\n",
    "    print(data)\n",
    "    \n",
    "print(data)"
   ]
  },
  {
   "cell_type": "code",
   "execution_count": 1,
   "id": "defe3d32",
   "metadata": {},
   "outputs": [
    {
     "name": "stdout",
     "output_type": "stream",
     "text": [
      "0\n"
     ]
    }
   ],
   "source": [
    "a=0%3\n",
    "print(a)"
   ]
  },
  {
   "cell_type": "code",
   "execution_count": 12,
   "id": "ba88d0eb",
   "metadata": {},
   "outputs": [
    {
     "name": "stdout",
     "output_type": "stream",
     "text": [
      "{'a': 3, 'b': 3, 'c': 3}\n"
     ]
    }
   ],
   "source": [
    "lst=['a','b','c','a','b','c','a','b','c']\n",
    "dic={}\n",
    "for i in lst:\n",
    "    var = lst.count(i)\n",
    "    dic[i]=var\n",
    "print(dic)"
   ]
  },
  {
   "cell_type": "code",
   "execution_count": 14,
   "id": "60a9fb33",
   "metadata": {},
   "outputs": [
    {
     "name": "stdout",
     "output_type": "stream",
     "text": [
      "{'a': 1, 'b': 2, 'c': 3, 'd': 1, 'e': 2}\n"
     ]
    }
   ],
   "source": [
    "dic={\"a\":1,\"b\":2,\"c\":3,\"d\":1,\"e\":2,\"c\":3,\"a\":1,\"b\":2,\"c\":3}\n",
    "print(dic)"
   ]
  },
  {
   "cell_type": "code",
   "execution_count": 18,
   "id": "b80b0bd0",
   "metadata": {},
   "outputs": [
    {
     "name": "stdout",
     "output_type": "stream",
     "text": [
      "[1, 3, 4, 1, 3, 4]\n"
     ]
    }
   ],
   "source": [
    "lst=[1,3,4]\n",
    "print(lst*2)"
   ]
  },
  {
   "cell_type": "code",
   "execution_count": 26,
   "id": "083a648a",
   "metadata": {},
   "outputs": [
    {
     "name": "stdout",
     "output_type": "stream",
     "text": [
      "[2, 4, 6]\n"
     ]
    }
   ],
   "source": [
    "lst=[1,2,3]\n",
    "# print(lst[1]*2)\n",
    "\n",
    "a=[i*2 for i in lst]\n",
    "print(a)\n",
    "\n",
    "# for i in lst:\n",
    "#     a=i*2\n",
    "#     print(a)"
   ]
  },
  {
   "cell_type": "code",
   "execution_count": 1,
   "id": "581418e5",
   "metadata": {},
   "outputs": [],
   "source": [
    "element={}\n",
    "dic={key:value for key,value in element}"
   ]
  },
  {
   "cell_type": "code",
   "execution_count": 7,
   "id": "d58c6523",
   "metadata": {},
   "outputs": [
    {
     "name": "stdout",
     "output_type": "stream",
     "text": [
      "{'option': [' jafar', ' khan']}\n"
     ]
    }
   ],
   "source": [
    "dic={\"option\":[\"a) jafar\" , \"a) khan\"]}\n",
    "a=dic['option']\n",
    "# print(a)\n",
    "b=[]\n",
    "lst={}\n",
    "for i in a:\n",
    "    z=i.replace(\"a)\",\"\")\n",
    "    b.append(z)\n",
    "    dic['option']=b\n",
    "print(lst)"
   ]
  },
  {
   "cell_type": "code",
   "execution_count": null,
   "id": "894fc290",
   "metadata": {},
   "outputs": [],
   "source": []
  }
 ],
 "metadata": {
  "kernelspec": {
   "display_name": "Python 3 (ipykernel)",
   "language": "python",
   "name": "python3"
  },
  "language_info": {
   "codemirror_mode": {
    "name": "ipython",
    "version": 3
   },
   "file_extension": ".py",
   "mimetype": "text/x-python",
   "name": "python",
   "nbconvert_exporter": "python",
   "pygments_lexer": "ipython3",
   "version": "3.10.4"
  }
 },
 "nbformat": 4,
 "nbformat_minor": 5
}
