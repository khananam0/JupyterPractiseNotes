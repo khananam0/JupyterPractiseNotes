{
 "cells": [
  {
   "cell_type": "markdown",
   "id": "27c21048",
   "metadata": {},
   "source": [
    "# Filter\n",
    "Filter generates an output of values that returns true when a function is called."
   ]
  },
  {
   "cell_type": "code",
   "execution_count": 2,
   "id": "59de723b",
   "metadata": {},
   "outputs": [
    {
     "name": "stdout",
     "output_type": "stream",
     "text": [
      "<filter object at 0x000001E8088837C0>\n",
      "['b', 'd']\n"
     ]
    }
   ],
   "source": [
    "def my(x):\n",
    "    val=[\"a\",\"b\",\"c\",\"d\"]\n",
    "    if x in val:\n",
    "        return True\n",
    "    else:\n",
    "        return False\n",
    "var=filter(my,[\"b\",\"m\",\"l\",\"d\",\"j\"])\n",
    "print(var)         # Filter returns map object\n",
    "print(list(var))   #filters the value and returns a filtered list."
   ]
  },
  {
   "cell_type": "code",
   "execution_count": null,
   "id": "5541609c",
   "metadata": {},
   "outputs": [],
   "source": []
  },
  {
   "cell_type": "markdown",
   "id": "ec260658",
   "metadata": {},
   "source": [
    "# Map\n",
    "Map Function returns map object (which is iterator)of the results after applying the given function"
   ]
  },
  {
   "cell_type": "code",
   "execution_count": 22,
   "id": "68f53086",
   "metadata": {},
   "outputs": [
    {
     "name": "stdout",
     "output_type": "stream",
     "text": [
      "('AA', 'BB', 'CC')\n"
     ]
    }
   ],
   "source": [
    "def my(x):\n",
    "    \n",
    "    return x+x\n",
    "res=map(my,(\"A\",\"B\",\"C\"))\n",
    "# res\n",
    "print(tuple(res))\n",
    "    "
   ]
  },
  {
   "cell_type": "code",
   "execution_count": 23,
   "id": "6d305e61",
   "metadata": {},
   "outputs": [
    {
     "ename": "SyntaxError",
     "evalue": "expected ':' (1687692341.py, line 3)",
     "output_type": "error",
     "traceback": [
      "\u001b[1;36m  Input \u001b[1;32mIn [23]\u001b[1;36m\u001b[0m\n\u001b[1;33m    while digits[n]==9\u001b[0m\n\u001b[1;37m                      ^\u001b[0m\n\u001b[1;31mSyntaxError\u001b[0m\u001b[1;31m:\u001b[0m expected ':'\n"
     ]
    }
   ],
   "source": [
    "def plurone(digits):\n",
    "    n=len(digits)-1\n",
    "    while digits[n]==9\n",
    "        digits[n]==0\n",
    "        n=n-1\n",
    "    if n<3=\n",
    "            "
   ]
  },
  {
   "cell_type": "code",
   "execution_count": null,
   "id": "8efcdc7b",
   "metadata": {},
   "outputs": [],
   "source": [
    "a={\"Name\":\"Anam\",}"
   ]
  }
 ],
 "metadata": {
  "kernelspec": {
   "display_name": "Python 3 (ipykernel)",
   "language": "python",
   "name": "python3"
  },
  "language_info": {
   "codemirror_mode": {
    "name": "ipython",
    "version": 3
   },
   "file_extension": ".py",
   "mimetype": "text/x-python",
   "name": "python",
   "nbconvert_exporter": "python",
   "pygments_lexer": "ipython3",
   "version": "3.10.4"
  }
 },
 "nbformat": 4,
 "nbformat_minor": 5
}
