{
 "cells": [
  {
   "cell_type": "markdown",
   "id": "c73bb3bd",
   "metadata": {},
   "source": [
    "# iterable\n"
   ]
  },
  {
   "cell_type": "code",
   "execution_count": null,
   "id": "9ebf33eb",
   "metadata": {},
   "outputs": [],
   "source": [
    "a=iter((\"annhfu\"))\n",
    "b = iter([1,2,3,4])\n",
    "# for j in b:\n",
    "#     print()\n",
    "\n",
    "for i in b:\n",
    "    print(next(b))\n",
    "# print(next(a))  #a\n",
    "# print(next(a))  #n\n",
    "# print(next(a))  #n\n",
    "# print(next(a))  #u\n",
    "# print(next(a))  # Gives STOPITERATION\n",
    "\n",
    "# print(next(iter(\"iter\")))\n",
    "\n",
    "    "
   ]
  },
  {
   "cell_type": "markdown",
   "id": "2fd94631",
   "metadata": {},
   "source": [
    "Check Whether the following contains iterable protocol"
   ]
  },
  {
   "cell_type": "code",
   "execution_count": 19,
   "id": "c1f4f3d9",
   "metadata": {},
   "outputs": [
    {
     "name": "stdout",
     "output_type": "stream",
     "text": [
      "['__add__', '__class__', '__contains__', '__delattr__', '__dir__', '__doc__', '__eq__', '__format__', '__ge__', '__getattribute__', '__getitem__', '__getnewargs__', '__gt__', '__hash__', '__init__', '__init_subclass__', '__iter__', '__le__', '__len__', '__lt__', '__mod__', '__mul__', '__ne__', '__new__', '__reduce__', '__reduce_ex__', '__repr__', '__rmod__', '__rmul__', '__setattr__', '__sizeof__', '__str__', '__subclasshook__', 'capitalize', 'casefold', 'center', 'count', 'encode', 'endswith', 'expandtabs', 'find', 'format', 'format_map', 'index', 'isalnum', 'isalpha', 'isascii', 'isdecimal', 'isdigit', 'isidentifier', 'islower', 'isnumeric', 'isprintable', 'isspace', 'istitle', 'isupper', 'join', 'ljust', 'lower', 'lstrip', 'maketrans', 'partition', 'removeprefix', 'removesuffix', 'replace', 'rfind', 'rindex', 'rjust', 'rpartition', 'rsplit', 'rstrip', 'split', 'splitlines', 'startswith', 'strip', 'swapcase', 'title', 'translate', 'upper', 'zfill']\n"
     ]
    }
   ],
   "source": [
    "a=\"123\"\n",
    "print(dir(a))\n"
   ]
  },
  {
   "cell_type": "code",
   "execution_count": 20,
   "id": "ba66db5f",
   "metadata": {},
   "outputs": [
    {
     "name": "stdout",
     "output_type": "stream",
     "text": [
      "['__class__', '__delattr__', '__dir__', '__doc__', '__eq__', '__format__', '__ge__', '__getattribute__', '__gt__', '__hash__', '__init__', '__init_subclass__', '__iter__', '__le__', '__length_hint__', '__lt__', '__ne__', '__new__', '__next__', '__reduce__', '__reduce_ex__', '__repr__', '__setattr__', '__setstate__', '__sizeof__', '__str__', '__subclasshook__']\n"
     ]
    }
   ],
   "source": [
    "a=iter(\"was\")\n",
    "print(dir(a))"
   ]
  },
  {
   "cell_type": "code",
   "execution_count": 1,
   "id": "02ad0abf",
   "metadata": {},
   "outputs": [
    {
     "name": "stdout",
     "output_type": "stream",
     "text": [
      "['__class__', '__delattr__', '__dir__', '__doc__', '__eq__', '__format__', '__ge__', '__getattribute__', '__gt__', '__hash__', '__init__', '__init_subclass__', '__iter__', '__le__', '__lt__', '__ne__', '__new__', '__next__', '__reduce__', '__reduce_ex__', '__repr__', '__setattr__', '__setstate__', '__sizeof__', '__str__', '__subclasshook__']\n"
     ]
    }
   ],
   "source": [
    "print(dir(zip))"
   ]
  },
  {
   "cell_type": "code",
   "execution_count": 2,
   "id": "02b7fa55",
   "metadata": {},
   "outputs": [
    {
     "name": "stdout",
     "output_type": "stream",
     "text": [
      "['__class__', '__delattr__', '__dir__', '__doc__', '__eq__', '__format__', '__ge__', '__getattribute__', '__gt__', '__hash__', '__init__', '__init_subclass__', '__iter__', '__le__', '__lt__', '__ne__', '__new__', '__next__', '__reduce__', '__reduce_ex__', '__repr__', '__setattr__', '__sizeof__', '__str__', '__subclasshook__']\n"
     ]
    }
   ],
   "source": [
    "print(dir(filter))"
   ]
  },
  {
   "cell_type": "markdown",
   "id": "1a7fabf3",
   "metadata": {},
   "source": [
    "# filter function\n"
   ]
  },
  {
   "cell_type": "code",
   "execution_count": 29,
   "id": "056f8d64",
   "metadata": {},
   "outputs": [
    {
     "name": "stdout",
     "output_type": "stream",
     "text": [
      "[1, 3, 5, 7, 9]\n"
     ]
    }
   ],
   "source": [
    "a=[1,2,3,4,5,6,7,8,9]\n",
    "result=filter(lambda x:x%2!=0,a)\n",
    "print(list(result))"
   ]
  },
  {
   "cell_type": "markdown",
   "id": "b6a44fb0",
   "metadata": {},
   "source": [
    "Functions difference using filter and normal function"
   ]
  },
  {
   "cell_type": "code",
   "execution_count": null,
   "id": "a695c973",
   "metadata": {},
   "outputs": [],
   "source": [
    "def myfun(a,b):\n",
    "    return a+b\n",
    "x = map(myfun,('a',\"b\"),(\"c\",\"d\"))\n",
    "print(list(x))"
   ]
  },
  {
   "cell_type": "markdown",
   "id": "351d8a81",
   "metadata": {},
   "source": [
    "# Reduce"
   ]
  },
  {
   "cell_type": "code",
   "execution_count": 87,
   "id": "88452006",
   "metadata": {},
   "outputs": [
    {
     "name": "stdout",
     "output_type": "stream",
     "text": [
      "anstster\n"
     ]
    }
   ],
   "source": [
    "from functools import reduce\n",
    "ab=[\"an\",\"st\",\"s\",\"t\",\"er\"]\n",
    "# cd=[4,4]\n",
    "print(reduce(lambda a,b:a+b,ab))\n",
    "\n"
   ]
  },
  {
   "cell_type": "markdown",
   "id": "00f9e108",
   "metadata": {},
   "source": [
    "# Join"
   ]
  },
  {
   "cell_type": "code",
   "execution_count": null,
   "id": "81a614a5",
   "metadata": {},
   "outputs": [],
   "source": [
    "lst=[\"1\",\"2\"]\n",
    "s=\"anam\"\n",
    "\n",
    "sub=s.join(lst)\n",
    "print(sub)\n"
   ]
  },
  {
   "cell_type": "markdown",
   "id": "65922590",
   "metadata": {},
   "source": [
    "# Enum\n"
   ]
  },
  {
   "cell_type": "code",
   "execution_count": null,
   "id": "23c06eb1",
   "metadata": {},
   "outputs": [],
   "source": [
    "import  enum\n",
    "class Days(enum.Enum):\n",
    "    a=1\n",
    "    b=2\n",
    "    c=3\n",
    "print(Days.b)\n"
   ]
  },
  {
   "cell_type": "markdown",
   "id": "486abe06",
   "metadata": {},
   "source": [
    "# Enumerate"
   ]
  },
  {
   "cell_type": "code",
   "execution_count": 108,
   "id": "5ae4d530",
   "metadata": {},
   "outputs": [
    {
     "name": "stdout",
     "output_type": "stream",
     "text": [
      "(0, 'anam')\n",
      "(1, 'apple')\n",
      "(2, 'cat')\n"
     ]
    }
   ],
   "source": [
    "a=[\"anam\",\"apple\",\"cat\"]\n",
    "for i in enumerate(a):\n",
    "    print(i)"
   ]
  },
  {
   "cell_type": "code",
   "execution_count": 105,
   "id": "ded8d32c",
   "metadata": {},
   "outputs": [
    {
     "name": "stdout",
     "output_type": "stream",
     "text": [
      "[(0, 'p'), (1, 'c'), (2, 'a')]\n"
     ]
    }
   ],
   "source": [
    "a=(\"p\",\"c\",\"a\")\n",
    "b=enumerate(a)\n",
    "print(list(b))"
   ]
  },
  {
   "cell_type": "code",
   "execution_count": 2,
   "id": "076f1f0d",
   "metadata": {},
   "outputs": [
    {
     "name": "stdout",
     "output_type": "stream",
     "text": [
      "[4, 4, 4, 4, 4, 4, 4, 4, 5]\n"
     ]
    }
   ],
   "source": [
    "import bisect\n",
    "a=[1,2,4]\n",
    "x=3\n",
    "# Bisect means to add the element at index in left postn\n",
    "var=bisect.bisect_left(a,x)\n",
    "# print(var)\n",
    "\n",
    "# this will give the output of the inserted element\n",
    "a.insert(var,x)\n",
    "# print(a)\n",
    "\n",
    "# Bisect means to add the element at index in right postn\n",
    "val=bisect.bisect_right(a,x)\n",
    "# print(val)\n",
    "\n",
    "# this will give the output of the inserted element\n",
    "a.insert(val,x)\n",
    "# print(a)\n",
    "\n",
    "b=[1,2,4,5]\n",
    "c=3\n",
    "par=bisect.bisect_left(b,c,lo=2,hi=5)\n",
    "# print(par)\n",
    "\n",
    "tar=[4,4,4,4,4,4,4,4]\n",
    "xas=4\n",
    "v=5\n",
    "rar=bisect.bisect_left(tar,xas,lo=2,hi=4)\n",
    "# print(rar)\n",
    "\n",
    "bisect.insort_right(tar,v)\n",
    "print(tar)"
   ]
  },
  {
   "cell_type": "code",
   "execution_count": 5,
   "id": "1aa57da2",
   "metadata": {},
   "outputs": [
    {
     "name": "stdout",
     "output_type": "stream",
     "text": [
      "['rar', 'dar', 'mar']\n"
     ]
    }
   ],
   "source": [
    "b=[\"rar\",\"dar\"]\n",
    "c=\"mar\"\n",
    "bisect.insort_right(b,c,lo=0,hi=2)\n",
    "print(b)"
   ]
  },
  {
   "cell_type": "markdown",
   "id": "77703bd8",
   "metadata": {},
   "source": [
    "# List Comprehension"
   ]
  },
  {
   "cell_type": "code",
   "execution_count": 19,
   "id": "0d401865",
   "metadata": {},
   "outputs": [
    {
     "name": "stdout",
     "output_type": "stream",
     "text": [
      "[[111], [111], [111], [111], [111], [111]]\n"
     ]
    }
   ],
   "source": [
    "lst = []\n",
    "for i in range(3):\n",
    "    \n",
    "    for j in range(2):\n",
    "        lst.append(mat)\n",
    "print(lst)\n",
    "\n",
    "        \n"
   ]
  },
  {
   "cell_type": "code",
   "execution_count": null,
   "id": "3ba4604b",
   "metadata": {},
   "outputs": [],
   "source": []
  },
  {
   "cell_type": "code",
   "execution_count": null,
   "id": "96067dcc",
   "metadata": {},
   "outputs": [],
   "source": []
  }
 ],
 "metadata": {
  "kernelspec": {
   "display_name": "Python 3 (ipykernel)",
   "language": "python",
   "name": "python3"
  },
  "language_info": {
   "codemirror_mode": {
    "name": "ipython",
    "version": 3
   },
   "file_extension": ".py",
   "mimetype": "text/x-python",
   "name": "python",
   "nbconvert_exporter": "python",
   "pygments_lexer": "ipython3",
   "version": "3.10.4"
  }
 },
 "nbformat": 4,
 "nbformat_minor": 5
}
