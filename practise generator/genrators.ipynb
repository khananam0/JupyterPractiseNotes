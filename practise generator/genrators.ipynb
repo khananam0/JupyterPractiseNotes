{
 "cells": [
  {
   "cell_type": "markdown",
   "id": "c73bb3bd",
   "metadata": {},
   "source": [
    "# iterable\n"
   ]
  },
  {
   "cell_type": "code",
   "execution_count": 8,
   "id": "9ebf33eb",
   "metadata": {},
   "outputs": [
    {
     "name": "stdout",
     "output_type": "stream",
     "text": [
      "2\n",
      "4\n"
     ]
    }
   ],
   "source": [
    "a=iter((\"annhfu\"))\n",
    "b = iter([1,2,3,4])\n",
    "# for j in b:\n",
    "#     print()\n",
    "\n",
    "for i in b:\n",
    "    print(next(b))\n",
    "# print(next(a))  #a\n",
    "# print(next(a))  #n\n",
    "# print(next(a))  #n\n",
    "# print(next(a))  #u\n",
    "# print(next(a))  # Gives STOPITERATION\n",
    "\n",
    "# print(next(iter(\"iter\")))\n",
    "\n",
    "    "
   ]
  },
  {
   "cell_type": "code",
   "execution_count": 14,
   "id": "6c63dc61",
   "metadata": {},
   "outputs": [
    {
     "name": "stdout",
     "output_type": "stream",
     "text": [
      "i\n",
      "r\n"
     ]
    }
   ],
   "source": [
    "# a=\"iram\"\n",
    "# print(a)\n",
    "# for i in a:\n",
    "#     print(i)\n",
    "    \n",
    "b=iter(\"iram\")\n",
    "print(next(b))\n",
    "print(next(b))"
   ]
  },
  {
   "cell_type": "code",
   "execution_count": null,
   "id": "eac68ecb",
   "metadata": {},
   "outputs": [],
   "source": []
  },
  {
   "cell_type": "markdown",
   "id": "2fd94631",
   "metadata": {},
   "source": [
    "Check Whether the following contains iterable protocol"
   ]
  },
  {
   "cell_type": "code",
   "execution_count": 19,
   "id": "c1f4f3d9",
   "metadata": {},
   "outputs": [
    {
     "name": "stdout",
     "output_type": "stream",
     "text": [
      "['__add__', '__class__', '__contains__', '__delattr__', '__dir__', '__doc__', '__eq__', '__format__', '__ge__', '__getattribute__', '__getitem__', '__getnewargs__', '__gt__', '__hash__', '__init__', '__init_subclass__', '__iter__', '__le__', '__len__', '__lt__', '__mod__', '__mul__', '__ne__', '__new__', '__reduce__', '__reduce_ex__', '__repr__', '__rmod__', '__rmul__', '__setattr__', '__sizeof__', '__str__', '__subclasshook__', 'capitalize', 'casefold', 'center', 'count', 'encode', 'endswith', 'expandtabs', 'find', 'format', 'format_map', 'index', 'isalnum', 'isalpha', 'isascii', 'isdecimal', 'isdigit', 'isidentifier', 'islower', 'isnumeric', 'isprintable', 'isspace', 'istitle', 'isupper', 'join', 'ljust', 'lower', 'lstrip', 'maketrans', 'partition', 'removeprefix', 'removesuffix', 'replace', 'rfind', 'rindex', 'rjust', 'rpartition', 'rsplit', 'rstrip', 'split', 'splitlines', 'startswith', 'strip', 'swapcase', 'title', 'translate', 'upper', 'zfill']\n"
     ]
    }
   ],
   "source": [
    "a=\"123\"\n",
    "print(dir(a))\n"
   ]
  },
  {
   "cell_type": "code",
   "execution_count": 20,
   "id": "ba66db5f",
   "metadata": {},
   "outputs": [
    {
     "name": "stdout",
     "output_type": "stream",
     "text": [
      "['__class__', '__delattr__', '__dir__', '__doc__', '__eq__', '__format__', '__ge__', '__getattribute__', '__gt__', '__hash__', '__init__', '__init_subclass__', '__iter__', '__le__', '__length_hint__', '__lt__', '__ne__', '__new__', '__next__', '__reduce__', '__reduce_ex__', '__repr__', '__setattr__', '__setstate__', '__sizeof__', '__str__', '__subclasshook__']\n"
     ]
    }
   ],
   "source": [
    "a=iter(\"was\")\n",
    "print(dir(a))"
   ]
  },
  {
   "cell_type": "code",
   "execution_count": 1,
   "id": "8ac7a152",
   "metadata": {},
   "outputs": [
    {
     "name": "stdout",
     "output_type": "stream",
     "text": [
      "['__class__', '__delattr__', '__dir__', '__doc__', '__eq__', '__format__', '__ge__', '__getattribute__', '__gt__', '__hash__', '__init__', '__init_subclass__', '__iter__', '__le__', '__lt__', '__ne__', '__new__', '__next__', '__reduce__', '__reduce_ex__', '__repr__', '__setattr__', '__setstate__', '__sizeof__', '__str__', '__subclasshook__']\n"
     ]
    }
   ],
   "source": [
    "print(dir(zip))"
   ]
  },
  {
   "cell_type": "code",
   "execution_count": 2,
   "id": "7cfb0743",
   "metadata": {},
   "outputs": [
    {
     "name": "stdout",
     "output_type": "stream",
     "text": [
      "['__class__', '__delattr__', '__dir__', '__doc__', '__eq__', '__format__', '__ge__', '__getattribute__', '__gt__', '__hash__', '__init__', '__init_subclass__', '__iter__', '__le__', '__lt__', '__ne__', '__new__', '__next__', '__reduce__', '__reduce_ex__', '__repr__', '__setattr__', '__sizeof__', '__str__', '__subclasshook__']\n"
     ]
    }
   ],
   "source": [
    "print(dir(filter))"
   ]
  },
  {
   "cell_type": "markdown",
   "id": "1a7fabf3",
   "metadata": {},
   "source": [
    "# filter function\n"
   ]
  },
  {
   "cell_type": "code",
   "execution_count": 29,
   "id": "056f8d64",
   "metadata": {},
   "outputs": [
    {
     "name": "stdout",
     "output_type": "stream",
     "text": [
      "[1, 3, 5, 7, 9]\n"
     ]
    }
   ],
   "source": [
    "a=[1,2,3,4,5,6,7,8,9]\n",
    "result=filter(lambda x:x%2!=0,a)\n",
    "print(list(result))"
   ]
  },
  {
   "cell_type": "markdown",
   "id": "7bfcc88c",
   "metadata": {},
   "source": [
    "Functions difference using filter and normal function"
   ]
  },
  {
   "cell_type": "code",
   "execution_count": null,
   "id": "a695c973",
   "metadata": {},
   "outputs": [],
   "source": [
    "def myfun(a,b):\n",
    "    return a+b\n",
    "x = map(myfun,('a',\"b\"),(\"c\",\"d\"))\n",
    "print(list(x))"
   ]
  },
  {
   "cell_type": "markdown",
   "id": "0cc5a950",
   "metadata": {},
   "source": [
    "# Reduce"
   ]
  },
  {
   "cell_type": "code",
   "execution_count": 87,
   "id": "88452006",
   "metadata": {},
   "outputs": [
    {
     "name": "stdout",
     "output_type": "stream",
     "text": [
      "anstster\n"
     ]
    }
   ],
   "source": [
    "from functools import reduce\n",
    "ab=[\"an\",\"st\",\"s\",\"t\",\"er\"]\n",
    "# cd=[4,4]\n",
    "print(reduce(lambda a,b:a+b,ab))\n",
    "\n"
   ]
  },
  {
   "cell_type": "markdown",
   "id": "fb4e5f49",
   "metadata": {},
   "source": [
    "# Join"
   ]
  },
  {
   "cell_type": "code",
   "execution_count": null,
   "id": "fda746fa",
   "metadata": {},
   "outputs": [],
   "source": [
    "lst=[\"1\",\"2\"]\n",
    "s=\"anam\"\n",
    "\n",
    "sub=s.join(lst)\n",
    "print(sub)\n"
   ]
  },
  {
   "cell_type": "markdown",
   "id": "8093078c",
   "metadata": {},
   "source": [
    "# Enum\n"
   ]
  },
  {
   "cell_type": "code",
   "execution_count": null,
   "id": "23c06eb1",
   "metadata": {},
   "outputs": [],
   "source": [
    "import  enum\n",
    "class Days(enum.Enum):\n",
    "    a=1\n",
    "    b=2\n",
    "    c=3\n",
    "print(Days.b)\n"
   ]
  },
  {
   "cell_type": "markdown",
   "id": "01a2ab59",
   "metadata": {},
   "source": [
    "# Enumerate"
   ]
  },
  {
   "cell_type": "code",
   "execution_count": 108,
   "id": "5ae4d530",
   "metadata": {},
   "outputs": [
    {
     "name": "stdout",
     "output_type": "stream",
     "text": [
      "(0, 'anam')\n",
      "(1, 'apple')\n",
      "(2, 'cat')\n"
     ]
    }
   ],
   "source": [
    "a=[\"anam\",\"apple\",\"cat\"]\n",
    "for i in enumerate(a):\n",
    "    print(i)"
   ]
  },
  {
   "cell_type": "code",
   "execution_count": 105,
   "id": "ded8d32c",
   "metadata": {},
   "outputs": [
    {
     "name": "stdout",
     "output_type": "stream",
     "text": [
      "[(0, 'p'), (1, 'c'), (2, 'a')]\n"
     ]
    }
   ],
   "source": [
    "a=(\"p\",\"c\",\"a\")\n",
    "b=enumerate(a)\n",
    "print(list(b))"
   ]
  },
  {
   "cell_type": "code",
   "execution_count": 2,
   "id": "076f1f0d",
   "metadata": {},
   "outputs": [
    {
     "name": "stdout",
     "output_type": "stream",
     "text": [
      "[4, 4, 4, 4, 4, 4, 4, 4, 5]\n"
     ]
    }
   ],
   "source": [
    "import bisect\n",
    "a=[1,2,4]\n",
    "x=3\n",
    "# Bisect means to add the element at index in left postn\n",
    "var=bisect.bisect_left(a,x)\n",
    "# print(var)\n",
    "\n",
    "# this will give the output of the inserted element\n",
    "a.insert(var,x)\n",
    "# print(a)\n",
    "\n",
    "# Bisect means to add the element at index in right postn\n",
    "val=bisect.bisect_right(a,x)\n",
    "# print(val)\n",
    "\n",
    "# this will give the output of the inserted element\n",
    "a.insert(val,x)\n",
    "# print(a)\n",
    "\n",
    "b=[1,2,4,5]\n",
    "c=3\n",
    "par=bisect.bisect_left(b,c,lo=2,hi=5)\n",
    "# print(par)\n",
    "\n",
    "tar=[4,4,4,4,4,4,4,4]\n",
    "xas=4\n",
    "v=5\n",
    "rar=bisect.bisect_left(tar,xas,lo=2,hi=4)\n",
    "# print(rar)\n",
    "\n",
    "bisect.insort_right(tar,v)\n",
    "print(tar)"
   ]
  },
  {
   "cell_type": "code",
   "execution_count": 5,
   "id": "2d64c431",
   "metadata": {},
   "outputs": [
    {
     "name": "stdout",
     "output_type": "stream",
     "text": [
      "['rar', 'dar', 'mar']\n"
     ]
    }
   ],
   "source": [
    "b=[\"rar\",\"dar\"]\n",
    "c=\"mar\"\n",
    "bisect.insort_right(b,c,lo=0,hi=2)\n",
    "print(b)"
   ]
  },
  {
   "cell_type": "markdown",
   "id": "6e3fc712",
   "metadata": {},
   "source": [
    "# List Comprehension"
   ]
  },
  {
   "cell_type": "code",
   "execution_count": 11,
   "id": "9375a953",
   "metadata": {},
   "outputs": [
    {
     "name": "stdout",
     "output_type": "stream",
     "text": [
      "[[0], [1], [0], [1], [0], [1]]\n"
     ]
    }
   ],
   "source": [
    "lst = []\n",
    "for i in range(3):   \n",
    "    for j in range(2):\n",
    "        lst.append([j])\n",
    "print(lst)\n"
   ]
  },
  {
   "cell_type": "code",
   "execution_count": 26,
   "id": "9d0ece02",
   "metadata": {},
   "outputs": [
    {
     "name": "stdout",
     "output_type": "stream",
     "text": [
      "[0, 1, 2]\n"
     ]
    }
   ],
   "source": [
    "# a=[[i for i in range(3)]for j in range(3)]\n",
    "a=[i for i in range(3)]\n",
    "print(a)"
   ]
  },
  {
   "cell_type": "code",
   "execution_count": 9,
   "id": "b798d9ea",
   "metadata": {},
   "outputs": [
    {
     "name": "stdout",
     "output_type": "stream",
     "text": [
      "not\n",
      "not\n",
      "not\n"
     ]
    }
   ],
   "source": [
    "b=[i for i in range(1,100) if i%8==0 ]\n",
    "# print(b)\n",
    "string=(\"afs\",\"afsgash\",\"asgvgeashsd\")\n",
    "for i in range(3):\n",
    "    if len(string)>5:\n",
    "        print()\n",
    "    else:\n",
    "        print(\"not\")"
   ]
  },
  {
   "cell_type": "code",
   "execution_count": 54,
   "id": "8afc2f37",
   "metadata": {},
   "outputs": [
    {
     "name": "stdout",
     "output_type": "stream",
     "text": [
      "8\n",
      "16\n",
      "24\n",
      "32\n",
      "40\n",
      "48\n",
      "56\n",
      "64\n",
      "72\n",
      "80\n",
      "88\n",
      "96\n"
     ]
    }
   ],
   "source": [
    "for i in range(1,100):\n",
    "    if i%8==0:\n",
    "        print(i)\n",
    "    else:\n",
    "        pass"
   ]
  },
  {
   "cell_type": "code",
   "execution_count": 12,
   "id": "3762d66b",
   "metadata": {},
   "outputs": [
    {
     "name": "stdout",
     "output_type": "stream",
     "text": [
      "re-dwe\n"
     ]
    }
   ],
   "source": [
    "# dic={\"a\":1,\"b\":2}\n",
    "# dic=(\"re\",\"dwe\")\n",
    "c=\"-\"\n",
    "val=c.join(dic)\n",
    "print(val)"
   ]
  },
  {
   "cell_type": "code",
   "execution_count": 2,
   "id": "4e3ac30c",
   "metadata": {},
   "outputs": [],
   "source": [
    "import bisect\n",
    "# dic={\"k\":1,\"y\":2}\n",
    "# val=\"m\"\n",
    "# dic=(1,2,3)\n",
    "# val=5\n",
    "# dic=[3,4,5]\n",
    "# val=4\n",
    "c=bisect.bisect_left(dic,val)\n",
    "print(c)"
   ]
  },
  {
   "cell_type": "code",
   "execution_count": 7,
   "id": "c942d8cd",
   "metadata": {},
   "outputs": [
    {
     "name": "stdout",
     "output_type": "stream",
     "text": [
      "{2: {1: 2, 2: 4, 3: 6, 4: 8, 5: 10}, 3: {1: 3, 2: 6, 3: 9, 4: 12, 5: 15}, 4: {1: 4, 2: 8, 3: 12, 4: 16, 5: 20}}\n"
     ]
    }
   ],
   "source": [
    "dictionary = {\n",
    "    k1: {k2: k1 * k2 for k2 in range(1, 6)} for k1 in range(2, 5)\n",
    "}\n",
    "print(dictionary)"
   ]
  },
  {
   "cell_type": "code",
   "execution_count": 8,
   "id": "68ebf4b9",
   "metadata": {},
   "outputs": [
    {
     "name": "stdout",
     "output_type": "stream",
     "text": [
      "<class 'str_iterator'>\n",
      "s\n"
     ]
    }
   ],
   "source": [
    "a=iter(\"string\")\n",
    "print(type(a))\n",
    "print(next(a))"
   ]
  },
  {
   "cell_type": "code",
   "execution_count": 4,
   "id": "34d7197f",
   "metadata": {},
   "outputs": [
    {
     "name": "stdout",
     "output_type": "stream",
     "text": [
      "Don't forget to bring your wallet!\n"
     ]
    }
   ],
   "source": [
    "def friendly_reminder(func):\n",
    "    '''Reminder for husband'''\n",
    "\n",
    "    func()\n",
    "    print('Don\\'t forget to bring your wallet!')\n",
    "\n",
    "def action():\n",
    "\n",
    "    print('I am going to the store buy you something nice.')\n",
    "\n",
    "\n",
    "friendly_reminder(action)"
   ]
  },
  {
   "cell_type": "code",
   "execution_count": 8,
   "id": "3bb98b83",
   "metadata": {},
   "outputs": [
    {
     "name": "stdout",
     "output_type": "stream",
     "text": [
      "Function: daily_backup\n",
      "Run on: 2022-06-04 11:50:35\n",
      "------------------------------\n",
      "Daily backup job has finished.\n"
     ]
    }
   ],
   "source": [
    "from datetime import datetime\n",
    "\n",
    "\n",
    "def log_datetime(func):\n",
    "    '''Log the date and time of a function'''\n",
    "\n",
    "    def wrapper():\n",
    "        print(f'Function: {func.__name__}\\nRun on: {datetime.today().strftime(\"%Y-%m-%d %H:%M:%S\")}')\n",
    "        print(f'{\"-\"*30}')\n",
    "        func()\n",
    "    return wrapper\n",
    "\n",
    "\n",
    "@log_datetime\n",
    "def daily_backup():\n",
    "\n",
    "    print('Daily backup job has finished.')   \n",
    "\n",
    "\n",
    "daily_backup()"
   ]
  },
  {
   "cell_type": "code",
   "execution_count": 8,
   "id": "7dce2dad",
   "metadata": {},
   "outputs": [
    {
     "name": "stdout",
     "output_type": "stream",
     "text": [
      "[7, 7, 7]\n"
     ]
    }
   ],
   "source": [
    "def my(a=[1,2,3],b=[6,5,4]):\n",
    "    return a+b\n",
    "\n",
    "x=map(my,a,b)\n",
    "print(list(x))"
   ]
  },
  {
   "cell_type": "code",
   "execution_count": 22,
   "id": "54dc7977",
   "metadata": {},
   "outputs": [
    {
     "data": {
      "text/plain": [
       "6"
      ]
     },
     "execution_count": 22,
     "metadata": {},
     "output_type": "execute_result"
    }
   ],
   "source": [
    "# from functools import reduce\n",
    "# def m(a=[1,2,3]):\n",
    "#     return a+b\n",
    "# m=[1,2,3]\n",
    "\n",
    "def fun(x,y):\n",
    "    return x+y\n",
    "\n",
    "# x=reduce(lambda x,y:x+y,m)\n",
    "x=reduce(fun,[1,2,3])\n",
    "x"
   ]
  },
  {
   "cell_type": "code",
   "execution_count": 23,
   "id": "04fe91eb",
   "metadata": {},
   "outputs": [
    {
     "name": "stdout",
     "output_type": "stream",
     "text": [
      "rest in Peace\n"
     ]
    }
   ],
   "source": [
    "lst=[\"rest\",\"in\",\"Peace\"]\n",
    "val=\" \".join(lst)\n",
    "print(val)"
   ]
  },
  {
   "cell_type": "code",
   "execution_count": 6,
   "id": "f9b954bf",
   "metadata": {},
   "outputs": [
    {
     "ename": "SyntaxError",
     "evalue": "invalid syntax (981218563.py, line 1)",
     "output_type": "error",
     "traceback": [
      "\u001b[1;36m  Input \u001b[1;32mIn [6]\u001b[1;36m\u001b[0m\n\u001b[1;33m    a={k,v,k:k+v for k in range v}\u001b[0m\n\u001b[1;37m            ^\u001b[0m\n\u001b[1;31mSyntaxError\u001b[0m\u001b[1;31m:\u001b[0m invalid syntax\n"
     ]
    }
   ],
   "source": [
    "a={k,v,k:k+v for k in range v}"
   ]
  },
  {
   "cell_type": "code",
   "execution_count": 3,
   "id": "337f274d",
   "metadata": {},
   "outputs": [
    {
     "data": {
      "text/plain": [
       "['__add__',\n",
       " '__class__',\n",
       " '__class_getitem__',\n",
       " '__contains__',\n",
       " '__delattr__',\n",
       " '__delitem__',\n",
       " '__dir__',\n",
       " '__doc__',\n",
       " '__eq__',\n",
       " '__format__',\n",
       " '__ge__',\n",
       " '__getattribute__',\n",
       " '__getitem__',\n",
       " '__gt__',\n",
       " '__hash__',\n",
       " '__iadd__',\n",
       " '__imul__',\n",
       " '__init__',\n",
       " '__init_subclass__',\n",
       " '__iter__',\n",
       " '__le__',\n",
       " '__len__',\n",
       " '__lt__',\n",
       " '__mul__',\n",
       " '__ne__',\n",
       " '__new__',\n",
       " '__reduce__',\n",
       " '__reduce_ex__',\n",
       " '__repr__',\n",
       " '__reversed__',\n",
       " '__rmul__',\n",
       " '__setattr__',\n",
       " '__setitem__',\n",
       " '__sizeof__',\n",
       " '__str__',\n",
       " '__subclasshook__',\n",
       " 'append',\n",
       " 'clear',\n",
       " 'copy',\n",
       " 'count',\n",
       " 'extend',\n",
       " 'index',\n",
       " 'insert',\n",
       " 'pop',\n",
       " 'remove',\n",
       " 'reverse',\n",
       " 'sort']"
      ]
     },
     "execution_count": 3,
     "metadata": {},
     "output_type": "execute_result"
    }
   ],
   "source": [
    "a=list\n",
    "d=dir(a)\n",
    "d"
   ]
  },
  {
   "cell_type": "code",
   "execution_count": 4,
   "id": "c0721227",
   "metadata": {},
   "outputs": [
    {
     "name": "stdout",
     "output_type": "stream",
     "text": [
      "['__add__', '__class__', '__class_getitem__', '__contains__', '__delattr__', '__delitem__', '__dir__', '__doc__', '__eq__', '__format__', '__ge__', '__getattribute__', '__getitem__', '__gt__', '__hash__', '__iadd__', '__imul__', '__init__', '__init_subclass__', '__iter__', '__le__', '__len__', '__lt__', '__mul__', '__ne__', '__new__', '__reduce__', '__reduce_ex__', '__repr__', '__reversed__', '__rmul__', '__setattr__', '__setitem__', '__sizeof__', '__str__', '__subclasshook__', 'append', 'clear', 'copy', 'count', 'extend', 'index', 'insert', 'pop', 'remove', 'reverse', 'sort']\n"
     ]
    }
   ],
   "source": [
    "a=[1,2,3]\n",
    "print(dir(a))"
   ]
  },
  {
   "cell_type": "code",
   "execution_count": 17,
   "id": "082c070b",
   "metadata": {},
   "outputs": [
    {
     "ename": "TypeError",
     "evalue": "'int' object is not iterable",
     "output_type": "error",
     "traceback": [
      "\u001b[1;31m---------------------------------------------------------------------------\u001b[0m",
      "\u001b[1;31mTypeError\u001b[0m                                 Traceback (most recent call last)",
      "Input \u001b[1;32mIn [17]\u001b[0m, in \u001b[0;36m<cell line: 1>\u001b[1;34m()\u001b[0m\n\u001b[1;32m----> 1\u001b[0m a\u001b[38;5;241m=\u001b[39m\u001b[38;5;28;43miter\u001b[39;49m\u001b[43m(\u001b[49m\u001b[38;5;241;43m123\u001b[39;49m\u001b[43m)\u001b[49m\n\u001b[0;32m      2\u001b[0m \u001b[38;5;28mprint\u001b[39m(\u001b[38;5;28mnext\u001b[39m(a))\n",
      "\u001b[1;31mTypeError\u001b[0m: 'int' object is not iterable"
     ]
    }
   ],
   "source": [
    "a=iter(123)\n",
    "print(next(a))"
   ]
  },
  {
   "cell_type": "code",
   "execution_count": null,
   "id": "af9abc73",
   "metadata": {},
   "outputs": [],
   "source": []
  },
  {
   "cell_type": "code",
   "execution_count": null,
   "id": "17cfc79b",
   "metadata": {},
   "outputs": [],
   "source": []
  }
 ],
 "metadata": {
  "kernelspec": {
   "display_name": "Python 3 (ipykernel)",
   "language": "python",
   "name": "python3"
  },
  "language_info": {
   "codemirror_mode": {
    "name": "ipython",
    "version": 3
   },
   "file_extension": ".py",
   "mimetype": "text/x-python",
   "name": "python",
   "nbconvert_exporter": "python",
   "pygments_lexer": "ipython3",
   "version": "3.10.4"
  }
 },
 "nbformat": 4,
 "nbformat_minor": 5
}
