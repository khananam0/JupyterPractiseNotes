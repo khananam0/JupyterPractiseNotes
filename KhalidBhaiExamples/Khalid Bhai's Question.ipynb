{
 "cells": [
  {
   "cell_type": "markdown",
   "id": "514138d8",
   "metadata": {},
   "source": [
    "Q1) [12,11,13,5,6]\n",
    "    Insertion Sort [5,6,11,12,13]"
   ]
  },
  {
   "cell_type": "code",
   "execution_count": 6,
   "id": "5a15f868",
   "metadata": {},
   "outputs": [
    {
     "name": "stdout",
     "output_type": "stream",
     "text": [
      "11\n",
      "0\n",
      "13\n",
      "1\n",
      "5\n",
      "2\n",
      "6\n",
      "3\n",
      "Sorted Array in Ascending Order:\n",
      "[5, 6, 11, 12, 13]\n"
     ]
    }
   ],
   "source": [
    "def insertionSort(array):\n",
    "\n",
    "    for step in range(1, len(array)):\n",
    "        key = array[step]\n",
    "        print(key)\n",
    "        j = step - 1\n",
    "        print(j)\n",
    "        \n",
    "        while j >= 0 and key < array[j]:\n",
    "            array[j + 1] = array[j]\n",
    "            print\n",
    "            j = j - 1\n",
    "        \n",
    "        # Place key at after the element just smaller than it.\n",
    "        array[j + 1] = key\n",
    "\n",
    "\n",
    "# data = [9, 5, 1, 4, 3]\n",
    "data=[12,11,13,5,6]\n",
    "insertionSort(data)\n",
    "print('Sorted Array in Ascending Order:')\n",
    "print(data)\n",
    "\n",
    "\n",
    "\n",
    "\n",
    "# right answer"
   ]
  },
  {
   "cell_type": "code",
   "execution_count": 34,
   "id": "6b15cc02",
   "metadata": {},
   "outputs": [
    {
     "name": "stdout",
     "output_type": "stream",
     "text": [
      "[5, 6, 11, 12, 13]\n"
     ]
    }
   ],
   "source": [
    "lst1=[12,11,13,5,6]\n",
    "for j in range(1,len(lst1)):               # j=1,2,3,4,5\n",
    "    while lst1[j-1]>lst1[j] and j>0:         \n",
    "        lst1[j-1],lst1[j]=lst1[j],lst1[j-1]\n",
    "        j-=1\n",
    "print(lst1)\n",
    "\n",
    "# right answer"
   ]
  },
  {
   "cell_type": "markdown",
   "id": "8ec47bb4",
   "metadata": {},
   "source": [
    "Q2) find the maximum number\n",
    "    a = [7, 3, 9, 5, 2]\n"
   ]
  },
  {
   "cell_type": "code",
   "execution_count": 3,
   "id": "304897cf",
   "metadata": {},
   "outputs": [
    {
     "name": "stdout",
     "output_type": "stream",
     "text": [
      "9\n"
     ]
    }
   ],
   "source": [
    "a = [7, 3, 9, 5,2]\n",
    "# b=0\n",
    "b=a[0]\n",
    "for i in a:\n",
    "    if i>b:\n",
    "        b=i\n",
    "print(b)\n",
    "\n",
    "\n",
    "# right answer"
   ]
  },
  {
   "cell_type": "markdown",
   "id": "167b1373",
   "metadata": {},
   "source": [
    "Q3) a = [7, 3, 9, 5,2]\n",
    "    to sort the list a"
   ]
  },
  {
   "cell_type": "code",
   "execution_count": 27,
   "id": "3ff77e5c",
   "metadata": {},
   "outputs": [
    {
     "name": "stdout",
     "output_type": "stream",
     "text": [
      "7\n",
      "7\n",
      "9\n",
      "9\n",
      "9\n"
     ]
    }
   ],
   "source": [
    "a = [7,3,9,5,2]\n",
    "b=[]\n",
    "for i in a:\n",
    "    if i>b:\n",
    "        b=b.append(i)\n",
    "        print(b)\n",
    "\n",
    "# wrong answerr.............."
   ]
  },
  {
   "cell_type": "code",
   "execution_count": 36,
   "id": "ba8f28f9",
   "metadata": {},
   "outputs": [
    {
     "name": "stdout",
     "output_type": "stream",
     "text": [
      "Element After Sorting List in Ascending Order is :  [2, 3, 5, 7, 9]\n"
     ]
    }
   ],
   "source": [
    "NumList=[7,3,9,5,2]\n",
    "for i in range(len(NumList)):\n",
    "    for j in range(i + 1,(len(NumList))):\n",
    "        if(NumList[i] > NumList[j]):\n",
    "            temp = NumList[i]\n",
    "            NumList[i] = NumList[j]\n",
    "            NumList[j] = temp\n",
    "\n",
    "print(\"Element After Sorting List in Ascending Order is : \", NumList)\n",
    "\n",
    "# right answer logic nhi smja"
   ]
  },
  {
   "cell_type": "markdown",
   "id": "b202cfe9",
   "metadata": {},
   "source": [
    "student={\"ali\":{\"score\":91},\n",
    "        \"akbar\":{\"score\":70},\n",
    "        \"bilal\":{\"score\":81}}\n",
    "Find the highest score"
   ]
  },
  {
   "cell_type": "code",
   "execution_count": 3,
   "id": "d053aed3",
   "metadata": {},
   "outputs": [
    {
     "name": "stdout",
     "output_type": "stream",
     "text": [
      "91\n"
     ]
    }
   ],
   "source": [
    "student={\"ali\":{\"score\":91},\n",
    "        \"akbar\":{\"score\":70},\n",
    "        \"bilal\":{\"score\":81}}\n",
    "b=0\n",
    "for i in student.items():\n",
    "    if i[1]['score']>b:\n",
    "        b=i[1]['score']\n",
    "        \n",
    "#     print(i[1]['score'])\n",
    "#     print(i[0],i[1])\n",
    "print(b)\n",
    "\n",
    "# mine method but output should be printed in someother way"
   ]
  },
  {
   "cell_type": "code",
   "execution_count": 11,
   "id": "c4538ee8",
   "metadata": {},
   "outputs": [
    {
     "name": "stdout",
     "output_type": "stream",
     "text": [
      "{'Bilal': 100}\n"
     ]
    }
   ],
   "source": [
    "s={\"Ali\":{\"score\":91},\n",
    "   \"Akbar\":{\"score\":70},\n",
    "   \"Bilal\":{\"score\":100}}\n",
    "max=0 \n",
    "st = ''\n",
    "for i in s:\n",
    "    score = s.get(i)['score']\n",
    "    if score > max:\n",
    "        max = score\n",
    "        st = i\n",
    "print({st:max})\n",
    "\n",
    "\n",
    "# right answer adnans solution"
   ]
  },
  {
   "cell_type": "code",
   "execution_count": 18,
   "id": "a4b490be",
   "metadata": {},
   "outputs": [
    {
     "name": "stdout",
     "output_type": "stream",
     "text": [
      "False\n"
     ]
    }
   ],
   "source": [
    "# how to find if the key is present in dict or not\n",
    "x={\n",
    "    \"abc\":455,\n",
    "    \"kbc\":105\n",
    "}\n",
    "print(105 in x.values())"
   ]
  },
  {
   "cell_type": "code",
   "execution_count": 16,
   "id": "973495c6",
   "metadata": {},
   "outputs": [
    {
     "name": "stdout",
     "output_type": "stream",
     "text": [
      "Enter number-1,2,3\n",
      "['1', '2', '3']\n",
      "[1, 4, 9]\n"
     ]
    }
   ],
   "source": [
    "# square of the number\n",
    "a=input(\"Enter number-\").split(\",\")\n",
    "b=list(a)\n",
    "d=[]\n",
    "for i in b:\n",
    "    c=int(i)*int(i)\n",
    "    d.append(c)\n",
    "print(d)"
   ]
  },
  {
   "cell_type": "code",
   "execution_count": 1,
   "id": "91fda173",
   "metadata": {},
   "outputs": [
    {
     "name": "stdout",
     "output_type": "stream",
     "text": [
      "45\n",
      "{'a': 10, 'b': 130}\n"
     ]
    }
   ],
   "source": [
    "d={\"a\":45,\"b\":65,\"A\":5}\n",
    "print(d[\"a\"])\n",
    "a={i.lower():d.get(i)+d.get(i) for i in d}        \n",
    "print(a)"
   ]
  },
  {
   "cell_type": "code",
   "execution_count": 10,
   "id": "6ebfb6ad",
   "metadata": {},
   "outputs": [
    {
     "name": "stdout",
     "output_type": "stream",
     "text": [
      "{'a': 50, 'b': 65}\n"
     ]
    }
   ],
   "source": [
    "d={\"a\":45,\"b\":65,\"A\":5}\n",
    "a={i.lower():d.get(i.lower(),0)+d.get(i.upper(),0) for i in d}        \n",
    "print(a)"
   ]
  },
  {
   "cell_type": "code",
   "execution_count": null,
   "id": "737481bf",
   "metadata": {},
   "outputs": [],
   "source": []
  }
 ],
 "metadata": {
  "kernelspec": {
   "display_name": "Python 3 (ipykernel)",
   "language": "python",
   "name": "python3"
  },
  "language_info": {
   "codemirror_mode": {
    "name": "ipython",
    "version": 3
   },
   "file_extension": ".py",
   "mimetype": "text/x-python",
   "name": "python",
   "nbconvert_exporter": "python",
   "pygments_lexer": "ipython3",
   "version": "3.10.4"
  }
 },
 "nbformat": 4,
 "nbformat_minor": 5
}
