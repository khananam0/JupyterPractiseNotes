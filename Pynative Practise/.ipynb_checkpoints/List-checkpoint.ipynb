{
 "cells": [
  {
   "cell_type": "code",
   "execution_count": 10,
   "id": "6da3f3ef",
   "metadata": {},
   "outputs": [
    {
     "name": "stdout",
     "output_type": "stream",
     "text": [
      "-3.142857142857143\n",
      "-4\n"
     ]
    }
   ],
   "source": [
    "a=-22\n",
    "print(a/7)\n",
    "print(a//7)"
   ]
  },
  {
   "cell_type": "code",
   "execution_count": 3,
   "id": "a9882f74",
   "metadata": {},
   "outputs": [
    {
     "name": "stdout",
     "output_type": "stream",
     "text": [
      "anam,anam\n",
      "anam\n",
      "My name is- anam,anam and age is anam\n"
     ]
    }
   ],
   "source": [
    "class Stu:\n",
    "#     a=input()\n",
    "#     b=input()\n",
    "    def __init__(self,c,d):\n",
    "        self.c=c\n",
    "        self.d=d\n",
    "#         self.e=input()\n",
    "    def name(self):\n",
    "#         print(\"My name is-\",self.c,\"and age is\",self.d,\"This was my\",self.b,self.e)\n",
    "        print(\"My name is-\",self.c,\"and age is\",self.d)\n",
    "# t=Stu(\"anam\",12)\n",
    "t=Stu(input(),input())\n",
    "t.name()\n",
    "# Stu.b()\n",
    "# print(\"i studied in-\",Stu.b)\n"
   ]
  },
  {
   "cell_type": "code",
   "execution_count": null,
   "id": "410f7865",
   "metadata": {},
   "outputs": [],
   "source": [
    "a=[1,2,3]\n",
    "b=[4,5,6]\n",
    "c=[]\n",
    "for i in a:\n",
    "    for j in b:\n",
    "        "
   ]
  },
  {
   "cell_type": "code",
   "execution_count": 40,
   "id": "3e39088e",
   "metadata": {},
   "outputs": [
    {
     "name": "stdout",
     "output_type": "stream",
     "text": [
      "['5']['6']['7']['6']['7']['8']['7']['8']['9']"
     ]
    }
   ],
   "source": [
    "a=[1,2,3]\n",
    "b=[4,5,6]\n",
    "# result=map(lambda x,y:x+y,a,b)\n",
    "# print(list(result))\n",
    "\n",
    "# summ=a[0]+a[1]+a[2]\n",
    "# add=b[0]+b[1]+b[2]\n",
    "\n",
    "# lst=(summ,add)\n",
    "# print(list(lst))\n",
    "# ------------------------------------------------------\n",
    "for i in a:\n",
    "    for j in b:\n",
    "        c=i+j\n",
    "        print(list(str(c)),end=\"\")\n",
    "\n"
   ]
  },
  {
   "cell_type": "code",
   "execution_count": 43,
   "id": "0f3309a2",
   "metadata": {},
   "outputs": [
    {
     "name": "stdout",
     "output_type": "stream",
     "text": [
      "s\n",
      "a\n"
     ]
    }
   ],
   "source": [
    "b=\"anam\"\n",
    "a=\"ashraf\"\n",
    "print(max(a))\n",
    "print(min(a))"
   ]
  },
  {
   "cell_type": "code",
   "execution_count": 8,
   "id": "3f9fe6ba",
   "metadata": {},
   "outputs": [
    {
     "name": "stdout",
     "output_type": "stream",
     "text": [
      "1\n",
      "2\n",
      "3\n",
      "12\n",
      "13\n",
      "14\n"
     ]
    }
   ],
   "source": [
    "lst=[1,2,3]\n",
    "\n",
    "def new(lst):\n",
    "    for i in lst:\n",
    "        print(i)\n",
    "# new(lst[1,2,3,4,5])\n",
    "new(lst)\n",
    "new([12,13,14])"
   ]
  },
  {
   "cell_type": "code",
   "execution_count": 14,
   "id": "df82ea35",
   "metadata": {},
   "outputs": [
    {
     "name": "stdout",
     "output_type": "stream",
     "text": [
      "1\n",
      "2\n",
      "3\n",
      "11\n",
      "12\n",
      "34\n"
     ]
    }
   ],
   "source": [
    "\n",
    "def new(lst):\n",
    "    for i in lst:\n",
    "        print(i)\n",
    "        \n",
    "l1=[1,2,3]\n",
    "l2=[11,12,34]\n",
    "new(l1)\n",
    "new(l2)"
   ]
  },
  {
   "cell_type": "code",
   "execution_count": null,
   "id": "1fd121d9",
   "metadata": {},
   "outputs": [],
   "source": []
  }
 ],
 "metadata": {
  "kernelspec": {
   "display_name": "Python 3 (ipykernel)",
   "language": "python",
   "name": "python3"
  },
  "language_info": {
   "codemirror_mode": {
    "name": "ipython",
    "version": 3
   },
   "file_extension": ".py",
   "mimetype": "text/x-python",
   "name": "python",
   "nbconvert_exporter": "python",
   "pygments_lexer": "ipython3",
   "version": "3.10.4"
  }
 },
 "nbformat": 4,
 "nbformat_minor": 5
}
