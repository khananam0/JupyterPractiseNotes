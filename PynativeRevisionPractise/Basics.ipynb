{
 "cells": [
  {
   "cell_type": "markdown",
   "id": "81b6d934",
   "metadata": {},
   "source": [
    "Global variable"
   ]
  },
  {
   "cell_type": "code",
   "execution_count": 4,
   "id": "cb05bd6c",
   "metadata": {},
   "outputs": [
    {
     "name": "stdout",
     "output_type": "stream",
     "text": [
      "hey\n",
      "hey\n"
     ]
    }
   ],
   "source": [
    "x=\"hey\"         # local variable\n",
    "def my():\n",
    "    print(x)    # local variable we can access it inside the function\n",
    "my()\n",
    "print(x)        # local variable we can access outside the function also"
   ]
  },
  {
   "cell_type": "markdown",
   "id": "8d856955",
   "metadata": {},
   "source": [
    "Local variable"
   ]
  },
  {
   "cell_type": "code",
   "execution_count": 5,
   "id": "934ca663",
   "metadata": {},
   "outputs": [
    {
     "name": "stdout",
     "output_type": "stream",
     "text": [
      "runway\n"
     ]
    },
    {
     "ename": "NameError",
     "evalue": "name 'y' is not defined",
     "output_type": "error",
     "traceback": [
      "\u001b[1;31m---------------------------------------------------------------------------\u001b[0m",
      "\u001b[1;31mNameError\u001b[0m                                 Traceback (most recent call last)",
      "Input \u001b[1;32mIn [5]\u001b[0m, in \u001b[0;36m<cell line: 5>\u001b[1;34m()\u001b[0m\n\u001b[0;32m      3\u001b[0m     \u001b[38;5;28mprint\u001b[39m(y)\n\u001b[0;32m      4\u001b[0m yours()\n\u001b[1;32m----> 5\u001b[0m \u001b[38;5;28mprint\u001b[39m(\u001b[43my\u001b[49m)\n",
      "\u001b[1;31mNameError\u001b[0m: name 'y' is not defined"
     ]
    }
   ],
   "source": [
    "def yours():\n",
    "    y=\"runway\"       # Local variable\n",
    "    print(y)         # we can access local variable inside the function\n",
    "yours()\n",
    "print(y)             # We cant access local variable outside the function"
   ]
  },
  {
   "cell_type": "markdown",
   "id": "0e3c6f08",
   "metadata": {},
   "source": [
    "# Exception Handling"
   ]
  },
  {
   "cell_type": "code",
   "execution_count": 10,
   "id": "9a5a4cd1",
   "metadata": {},
   "outputs": [
    {
     "name": "stdout",
     "output_type": "stream",
     "text": [
      "cant divide by zero division by zero\n",
      "hahahha hurrrayyy\n"
     ]
    }
   ],
   "source": [
    "a=2\n",
    "b=0\n",
    "# b=4\n",
    "try:\n",
    "    print(a/b)\n",
    "    print(\"change the value\")\n",
    "except Exception as e:\n",
    "    print(\"cant divide by zero\",e)\n",
    "finally:\n",
    "    print(\"hahahha hurrrayyy\")"
   ]
  },
  {
   "cell_type": "code",
   "execution_count": null,
   "id": "f6afeb66",
   "metadata": {},
   "outputs": [
    {
     "name": "stdout",
     "output_type": "stream",
     "text": [
      "Open resources\n",
      "1.0\n"
     ]
    }
   ],
   "source": [
    "a=2\n",
    "b=2\n",
    "try:\n",
    "    print(\"Open resources\")\n",
    "    print(a/b)\n",
    "    k=int(input())\n",
    "    print(k)\n",
    "except ValueError  as e:\n",
    "    print(\"cant divide by zero\",e)\n",
    "finally:\n",
    "    print(\"hahahha hurrrayyy\")"
   ]
  },
  {
   "cell_type": "code",
   "execution_count": null,
   "id": "ebea008b",
   "metadata": {},
   "outputs": [],
   "source": []
  }
 ],
 "metadata": {
  "kernelspec": {
   "display_name": "Python 3 (ipykernel)",
   "language": "python",
   "name": "python3"
  },
  "language_info": {
   "codemirror_mode": {
    "name": "ipython",
    "version": 3
   },
   "file_extension": ".py",
   "mimetype": "text/x-python",
   "name": "python",
   "nbconvert_exporter": "python",
   "pygments_lexer": "ipython3",
   "version": "3.10.4"
  }
 },
 "nbformat": 4,
 "nbformat_minor": 5
}
