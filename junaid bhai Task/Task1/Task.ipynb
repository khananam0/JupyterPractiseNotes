{
 "cells": [
  {
   "cell_type": "markdown",
   "id": "479b64d1",
   "metadata": {},
   "source": [
    "# Input: nums=[2,7,11,15]\n",
    "        Target = 17\n",
    "        Output= [0,3]\n",
    "# Input: nums=[3,2,4]\n",
    "        target=6\n",
    "        output=[1,2]"
   ]
  },
  {
   "cell_type": "code",
   "execution_count": 26,
   "id": "002447f6",
   "metadata": {},
   "outputs": [
    {
     "name": "stdout",
     "output_type": "stream",
     "text": [
      "2\n",
      "7\n",
      "11\n",
      "15\n",
      "2\n",
      "7\n",
      "11\n",
      "15\n",
      "2\n",
      "7\n",
      "11\n",
      "15\n",
      "2\n",
      "7\n",
      "11\n",
      "15\n"
     ]
    }
   ],
   "source": [
    "lst=[2,7,11,15]\n",
    "# obj=enumerate(lst)\n",
    "# print(dict(obj))\n",
    "target=11\n",
    "for i in lst:\n",
    "    for j in lst:\n",
    "        print(j)\n",
    "    "
   ]
  },
  {
   "cell_type": "code",
   "execution_count": 5,
   "id": "23984053",
   "metadata": {},
   "outputs": [
    {
     "name": "stdout",
     "output_type": "stream",
     "text": [
      "1962777628080\n",
      "1962777628080\n"
     ]
    }
   ],
   "source": [
    "# a=[2,3,4]\n",
    "# b=[2,3,4]\n",
    "# a=\"str\"\n",
    "# b=\"str\"\n",
    "# a={1,2}\n",
    "# b={1,2}\n",
    "print(id(a))\n",
    "print(id(b))\n"
   ]
  },
  {
   "cell_type": "code",
   "execution_count": 7,
   "id": "3d2dc3c3",
   "metadata": {},
   "outputs": [
    {
     "name": "stdout",
     "output_type": "stream",
     "text": [
      "(1, 2, 3, 3, 4, 5)\n"
     ]
    }
   ],
   "source": [
    "a=(1,2,3)\n",
    "b=(3,4,5)\n",
    "c=a+b\n",
    "print(c)\n"
   ]
  },
  {
   "cell_type": "code",
   "execution_count": 8,
   "id": "c77f2e8e",
   "metadata": {},
   "outputs": [
    {
     "name": "stdout",
     "output_type": "stream",
     "text": [
      "[1, 2, 3, 12, 13]\n"
     ]
    }
   ],
   "source": [
    "a=[1,2,3]\n",
    "b=[12,13]\n",
    "c=a+b\n",
    "print(c)"
   ]
  },
  {
   "cell_type": "code",
   "execution_count": 26,
   "id": "276b063d",
   "metadata": {},
   "outputs": [
    {
     "name": "stdout",
     "output_type": "stream",
     "text": [
      "   str y  ing\n"
     ]
    }
   ],
   "source": [
    "a=\"   str y  ing\"\n",
    "print(a.strip(\"y\"))"
   ]
  },
  {
   "cell_type": "code",
   "execution_count": null,
   "id": "49238180",
   "metadata": {},
   "outputs": [],
   "source": []
  }
 ],
 "metadata": {
  "kernelspec": {
   "display_name": "Python 3 (ipykernel)",
   "language": "python",
   "name": "python3"
  },
  "language_info": {
   "codemirror_mode": {
    "name": "ipython",
    "version": 3
   },
   "file_extension": ".py",
   "mimetype": "text/x-python",
   "name": "python",
   "nbconvert_exporter": "python",
   "pygments_lexer": "ipython3",
   "version": "3.10.4"
  }
 },
 "nbformat": 4,
 "nbformat_minor": 5
}
