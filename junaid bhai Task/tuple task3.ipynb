{
 "cells": [
  {
   "cell_type": "markdown",
   "id": "3d153348",
   "metadata": {},
   "source": [
    "# Tuple Questions"
   ]
  },
  {
   "cell_type": "markdown",
   "id": "3151a2f0",
   "metadata": {},
   "source": [
    "a. To create a tuple having a number from 1-20. Print the half of its \n",
    "value in 1 line and other half in next line .\n"
   ]
  },
  {
   "cell_type": "code",
   "execution_count": 9,
   "id": "d3f9b7d4",
   "metadata": {},
   "outputs": [
    {
     "name": "stdout",
     "output_type": "stream",
     "text": [
      "(1, 2, 3, 4, 5, 6, 7, 8, 9, 10)\n",
      "(11, 12, 13, 14, 15, 16, 17, 18, 19, 20)\n"
     ]
    }
   ],
   "source": [
    "a=(1,2,3,4,5,6,7,8,9,10,11,12,13,14,15,16,17,18,19,20)\n",
    "sliceone=a[:10]\n",
    "slicetwo=a[10:]\n",
    "print(sliceone)\n",
    "print(slicetwo)"
   ]
  },
  {
   "cell_type": "markdown",
   "id": "1594d0bd",
   "metadata": {},
   "source": [
    "b. To create a tuple consisting of 20 number from a user. Create \n",
    "another tuple whose values are even number in the first tuple."
   ]
  },
  {
   "cell_type": "code",
   "execution_count": 14,
   "id": "acd2a12f",
   "metadata": {},
   "outputs": [
    {
     "name": "stdout",
     "output_type": "stream",
     "text": [
      "No of elements-10\n",
      "1\n",
      "2\n",
      "3\n",
      "4\n",
      "5\n",
      "6\n",
      "7\n",
      "8\n",
      "9\n",
      "10\n",
      "[1, 2, 3, 4, 5, 6, 7, 8, 9, 10]\n",
      "2\n",
      "4\n",
      "6\n",
      "8\n",
      "10\n",
      "(2, 4, 6, 8, 10)\n"
     ]
    }
   ],
   "source": [
    "n=int(input(\"No of elements-\"))\n",
    "lst=[]\n",
    "for i in range(0,n):\n",
    "    user=int(input())\n",
    "    lst.append(user)\n",
    "print(lst)\n",
    "\n",
    "tup=[]\n",
    "for j in lst:\n",
    "    if j%2==0:\n",
    "        print(j)\n",
    "        tup.append(j)\n",
    "print(tuple(tup))\n",
    "\n",
    "# print(tuple(lst))"
   ]
  },
  {
   "cell_type": "markdown",
   "id": "1715d218",
   "metadata": {},
   "source": [
    "\n",
    "c. To concatenate two tuples .\n"
   ]
  },
  {
   "cell_type": "code",
   "execution_count": 5,
   "id": "2d4979d1",
   "metadata": {},
   "outputs": [
    {
     "name": "stdout",
     "output_type": "stream",
     "text": [
      "('a', 9.9, 'Maria', 'b', 45, [1, 2, 3])\n"
     ]
    }
   ],
   "source": [
    "one=(\"a\",9.9,\"Maria\")\n",
    "two=(\"b\",45,[1,2,3])\n",
    "# add=one+two\n",
    "add=sum((one,two),())\n",
    "print(add)"
   ]
  },
  {
   "cell_type": "markdown",
   "id": "f72a88e3",
   "metadata": {},
   "source": [
    "\n",
    "d. To check whether a given element is present in tuple or not .\n"
   ]
  },
  {
   "cell_type": "code",
   "execution_count": 21,
   "id": "b04433c4",
   "metadata": {},
   "outputs": [
    {
     "name": "stdout",
     "output_type": "stream",
     "text": [
      "5\n",
      "Present\n"
     ]
    }
   ],
   "source": [
    "a=(10,20,5,6)\n",
    "b=int(input())\n",
    "if b in a:\n",
    "    print(\"Present\")\n",
    "else:\n",
    "    print(\"Not Present\")"
   ]
  },
  {
   "cell_type": "markdown",
   "id": "c91c482d",
   "metadata": {},
   "source": [
    "\n",
    "e. To use the following methods on a tuple in the program: \n",
    "cmp(t1,t2)/t1==t2 ,len(t1) , zip(t1,t2) , max(t) , min(t) , tuple()"
   ]
  },
  {
   "cell_type": "code",
   "execution_count": 6,
   "id": "e5f99b95",
   "metadata": {},
   "outputs": [
    {
     "name": "stdout",
     "output_type": "stream",
     "text": [
      "98\n",
      "1\n",
      "(('anam', 4), ('alia', 87))\n",
      "(1, 2, 3)\n",
      "True\n",
      "False\n",
      "comparing values is equal\n"
     ]
    }
   ],
   "source": [
    "a=(4,87,5,1,98)\n",
    "print(max(a))\n",
    "print(min(a))\n",
    "\n",
    "b=(\"anam\",\"alia\")\n",
    "c=(\"bottle\",\"pen\")\n",
    "join=zip(b,a)\n",
    "print(tuple(join))\n",
    "\n",
    "lst=[1,2,3]\n",
    "print(tuple(lst))\n",
    "\n",
    "# compare\n",
    "t0=(1,5,3)\n",
    "t1=(4,5,6)\n",
    "t2=(4,5,6)\n",
    "\n",
    "print(t1==t2)\n",
    "print(t1==t0)\n",
    "\n",
    "if t1==t2:\n",
    "    print(\"comparing values is equal\")\n",
    "else:\n",
    "    print(\"its not equal\")\n"
   ]
  },
  {
   "cell_type": "code",
   "execution_count": null,
   "id": "9ddd6504",
   "metadata": {},
   "outputs": [],
   "source": []
  }
 ],
 "metadata": {
  "kernelspec": {
   "display_name": "Python 3 (ipykernel)",
   "language": "python",
   "name": "python3"
  },
  "language_info": {
   "codemirror_mode": {
    "name": "ipython",
    "version": 3
   },
   "file_extension": ".py",
   "mimetype": "text/x-python",
   "name": "python",
   "nbconvert_exporter": "python",
   "pygments_lexer": "ipython3",
   "version": "3.10.4"
  },
  "vscode": {
   "interpreter": {
    "hash": "a9cff5a362bc38ef45d817ae74b1af54d6a076e3d773891282bce078b815ba34"
   }
  }
 },
 "nbformat": 4,
 "nbformat_minor": 5
}
