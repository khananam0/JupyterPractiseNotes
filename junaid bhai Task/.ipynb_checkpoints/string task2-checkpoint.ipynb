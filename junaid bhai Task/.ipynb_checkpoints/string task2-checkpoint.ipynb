{
 "cells": [
  {
   "cell_type": "markdown",
   "id": "4f77c5b7",
   "metadata": {},
   "source": [
    "1.To find the duplicate characters in a given string.\n"
   ]
  },
  {
   "cell_type": "code",
   "execution_count": 4,
   "id": "6afae805",
   "metadata": {},
   "outputs": [
    {
     "name": "stdout",
     "output_type": "stream",
     "text": [
      "v e n t r u \n"
     ]
    }
   ],
   "source": [
    "string = \"adventrous venture\"\n",
    "duplicates = {}\n",
    "for i in string:\n",
    "   if i in duplicates:\n",
    "      duplicates[i] += 1\n",
    "   else:\n",
    "      duplicates[i] = 1\n",
    "for key, value in duplicates.items():\n",
    "   if value > 1:\n",
    "      print(key, end = \" \")\n",
    "print()"
   ]
  },
  {
   "cell_type": "code",
   "execution_count": 20,
   "id": "0e2cdd8f",
   "metadata": {},
   "outputs": [
    {
     "name": "stdout",
     "output_type": "stream",
     "text": [
      "m 2\n",
      "m 2\n",
      "a 3\n",
      "r 2\n",
      "a 3\n",
      "a 3\n",
      "r 2\n"
     ]
    }
   ],
   "source": [
    "# 1.To find the duplicate characters in a given string.\n",
    "str=\"mumbai raastr\"\n",
    "for char in str:\n",
    "    count=str.count(char)\n",
    "    if count>1:\n",
    "        print(char,count)"
   ]
  },
  {
   "cell_type": "code",
   "execution_count": null,
   "id": "7fdacae1",
   "metadata": {},
   "outputs": [],
   "source": [
    "# 1.To find the duplicate characters in a given string.\n",
    "a=\"abcddfas\"\n",
    "for i in a:\n",
    "    "
   ]
  },
  {
   "cell_type": "markdown",
   "id": "75dcb5e6",
   "metadata": {},
   "source": [
    "2.To check whether a given string is a palindrome."
   ]
  },
  {
   "cell_type": "code",
   "execution_count": 44,
   "id": "9b1f5e32",
   "metadata": {},
   "outputs": [
    {
     "name": "stdout",
     "output_type": "stream",
     "text": [
      "Enter Palandrome-refer\n",
      "It is Palandrome\n"
     ]
    }
   ],
   "source": [
    "first=input(\"Enter Palandrome-\")\n",
    "# second=first[::-1]\n",
    "# print(second)\n",
    "# for reverse in first[::-1]:\n",
    "#     print(reverse,end=\"\")\n",
    "if first==first[::-1]:\n",
    "    print(\"It is Palandrome\")\n",
    "else:\n",
    "    print(\"It is not Palandrome\")\n"
   ]
  },
  {
   "cell_type": "code",
   "execution_count": 29,
   "id": "ecf1be00",
   "metadata": {},
   "outputs": [
    {
     "name": "stdout",
     "output_type": "stream",
     "text": [
      "rar\n",
      "it is\n"
     ]
    }
   ],
   "source": [
    "a=input()\n",
    "b=a[-1::-1]\n",
    "if a==b:\n",
    "    print(\"it is\")\n",
    "else:\n",
    "    print(\"not\")"
   ]
  },
  {
   "cell_type": "markdown",
   "id": "78d8426c",
   "metadata": {},
   "source": [
    "3.To capitalize the first character in a given sentence."
   ]
  },
  {
   "cell_type": "code",
   "execution_count": 48,
   "id": "d1ce22c2",
   "metadata": {},
   "outputs": [
    {
     "data": {
      "text/plain": [
       "'Anam'"
      ]
     },
     "execution_count": 48,
     "metadata": {},
     "output_type": "execute_result"
    }
   ],
   "source": [
    "letter=\"anam\"\n",
    "new=letter.capitalize()\n",
    "new"
   ]
  },
  {
   "cell_type": "markdown",
   "id": "f7c35157",
   "metadata": {},
   "source": [
    "4.Program to convert String to a List."
   ]
  },
  {
   "cell_type": "code",
   "execution_count": 57,
   "id": "d0aa8240",
   "metadata": {},
   "outputs": [
    {
     "name": "stdout",
     "output_type": "stream",
     "text": [
      "['Python', 'is', 'easy']\n"
     ]
    }
   ],
   "source": [
    "a=\"Python is easy\"\n",
    "print(a.split(\" \"))"
   ]
  },
  {
   "cell_type": "markdown",
   "id": "611d74cf",
   "metadata": {},
   "source": [
    "5.To sort alphabetically the words in a given sentence."
   ]
  },
  {
   "cell_type": "code",
   "execution_count": 77,
   "id": "6cb198e5",
   "metadata": {},
   "outputs": [
    {
     "name": "stdout",
     "output_type": "stream",
     "text": [
      "Irregular words:-cat ball\n",
      "ball\n",
      "cat\n"
     ]
    }
   ],
   "source": [
    "a=input(\"Irregular words:-\")\n",
    "b=a.split()\n",
    "element=sorted(b)\n",
    "for value in element:\n",
    "    print(value)"
   ]
  },
  {
   "cell_type": "markdown",
   "id": "bea0e4cf",
   "metadata": {},
   "source": [
    "6.To demonstrate any 10 function(method) of string class.\n"
   ]
  },
  {
   "cell_type": "code",
   "execution_count": 105,
   "id": "b99577dd",
   "metadata": {},
   "outputs": [
    {
     "name": "stdout",
     "output_type": "stream",
     "text": [
      "Man\n",
      "MAN\n",
      "1\n",
      "2\n",
      "1\n",
      "mam\n",
      "^^^man^^^^\n",
      "madam is very angry\n",
      "Lame\n",
      "smart\n"
     ]
    }
   ],
   "source": [
    "string=\"man\"\n",
    "# Title\n",
    "a=string.title()\n",
    "print(a)\n",
    "b=string.upper()\n",
    "print(b)\n",
    "c=string.count(\"m\")\n",
    "print(c)\n",
    "d=string.find(\"n\")\n",
    "print(d)\n",
    "e=string.count(\"m\")\n",
    "print(e)\n",
    "f=string.replace(\"n\",\"m\")\n",
    "print(f)\n",
    "g=string.center(10,\"^\")\n",
    "print(g)\n",
    "h=\"Madam Is Very Angry\"\n",
    "i=h.casefold()\n",
    "print(i)\n",
    "capital=\"lame\"\n",
    "j=capital.capitalize()\n",
    "print(j)\n",
    "low=\"SMART\"\n",
    "k=low.lower()\n",
    "print(k)"
   ]
  },
  {
   "cell_type": "markdown",
   "id": "740afe3b",
   "metadata": {},
   "source": [
    "7.To count no. of vowels in a given program.\n"
   ]
  },
  {
   "cell_type": "code",
   "execution_count": 18,
   "id": "9ac3b370",
   "metadata": {},
   "outputs": [
    {
     "name": "stdout",
     "output_type": "stream",
     "text": [
      "4\n"
     ]
    }
   ],
   "source": [
    "a=[\"a\",\"e\",\"i\",\"o\",\"u\"]\n",
    "string=\"aijhue\"\n",
    "count=0\n",
    "for i in string:\n",
    "    if i in a:\n",
    "        count=count+1\n",
    "print(count)"
   ]
  },
  {
   "cell_type": "code",
   "execution_count": 3,
   "id": "204d7a0b",
   "metadata": {},
   "outputs": [
    {
     "name": "stdout",
     "output_type": "stream",
     "text": [
      "6\n"
     ]
    }
   ],
   "source": [
    "# 7.To count no. of vowels in a given program.\n",
    "str=\"paaeiuosf\"\n",
    "vowels=\"aeiou\"\n",
    "count=0\n",
    "for a in str:\n",
    "    if a in vowels:\n",
    "#     co=str.count(str)\n",
    "#     print(co)\n",
    "        count+=1\n",
    "print(count)\n",
    "    "
   ]
  },
  {
   "cell_type": "markdown",
   "id": "f6f3a46b",
   "metadata": {},
   "source": [
    "8.To implement a Caesar cipher in python\n"
   ]
  },
  {
   "cell_type": "code",
   "execution_count": 1,
   "id": "47a65af7",
   "metadata": {},
   "outputs": [
    {
     "name": "stdout",
     "output_type": "stream",
     "text": [
      "Enter-hello\n",
      "mjqqt\n",
      "hello\n"
     ]
    }
   ],
   "source": [
    "a=input(\"Enter-\")\n",
    "alp=\"abcdefghijklmnopqrstuvwxyz\"\n",
    "key=5\n",
    "encrpt=\"\"\n",
    "decrpt=\"\"\n",
    "for i in a:\n",
    "#     post=alp.find(i)\n",
    "#     newpos=(post+5)%26\n",
    "    newpos=(alp.find(i)+key)%26\n",
    "    encrpt+=alp[newpos]\n",
    "print(encrpt)\n",
    "\n",
    "for j in encrpt:\n",
    "    d=alp.find(j)\n",
    "    k=(d-5)%26\n",
    "    decrpt+=alp[k]\n",
    "print(decrpt)"
   ]
  },
  {
   "cell_type": "markdown",
   "id": "35f58cb9",
   "metadata": {},
   "source": [
    "9.To demonstrate string slice\n"
   ]
  },
  {
   "cell_type": "code",
   "execution_count": 108,
   "id": "702fe2fb",
   "metadata": {},
   "outputs": [
    {
     "name": "stdout",
     "output_type": "stream",
     "text": [
      "a\n",
      "ava\n",
      "av\n",
      "avaJ\n"
     ]
    }
   ],
   "source": [
    "# indexing\n",
    "a=\"Java\"\n",
    "index=a[1]\n",
    "print(index)\n",
    "\n",
    "slicing=a[1:]\n",
    "print(slicing)\n",
    "slicing=a[1:3]\n",
    "print(slicing)\n",
    "slicing=a[::-1]\n",
    "print(slicing)\n"
   ]
  },
  {
   "cell_type": "markdown",
   "id": "739110a7",
   "metadata": {},
   "source": [
    "10.To check substring is Present in a Given String"
   ]
  },
  {
   "cell_type": "code",
   "execution_count": 5,
   "id": "cfa54b36",
   "metadata": {},
   "outputs": [
    {
     "name": "stdout",
     "output_type": "stream",
     "text": [
      "Present\n"
     ]
    }
   ],
   "source": [
    "a=\"hello world\"\n",
    "b=\"world\"\n",
    "if b in a:\n",
    "    print(\"Present\")\n",
    "else:\n",
    "    print(\"Not\")"
   ]
  },
  {
   "cell_type": "code",
   "execution_count": 16,
   "id": "61569962",
   "metadata": {},
   "outputs": [
    {
     "name": "stdout",
     "output_type": "stream",
     "text": [
      "String Present\n"
     ]
    }
   ],
   "source": [
    "# Second method to print(given string is substring or not)\n",
    "def check(string,substring):\n",
    "    if string.find(substring)==-1:\n",
    "        print(\"No string is Present\")\n",
    "    else:\n",
    "        print(\"String Present\")\n",
    "string1=\"possibles\"\n",
    "# string2=\"ssb\"\n",
    "string2=\"ssible\"\n",
    "check(string1,string2)"
   ]
  },
  {
   "cell_type": "code",
   "execution_count": 22,
   "id": "d41a0c50",
   "metadata": {},
   "outputs": [
    {
     "name": "stdout",
     "output_type": "stream",
     "text": [
      "the\n",
      "present\n"
     ]
    }
   ],
   "source": [
    "def check(s1,s2):\n",
    "    if (s2.count(s1)>0):\n",
    "        print(\"present\")\n",
    "    else:\n",
    "        print(\"not\")\n",
    "s2=\"thereis\"\n",
    "s1=input()\n",
    "check(s1,s2)"
   ]
  },
  {
   "cell_type": "code",
   "execution_count": 26,
   "id": "82f8ce47",
   "metadata": {},
   "outputs": [
    {
     "name": "stdout",
     "output_type": "stream",
     "text": [
      "1\n"
     ]
    }
   ],
   "source": [
    "a=\"theform\"\n",
    "b=a.count(\"r\")\n",
    "print(b)\n",
    "\n"
   ]
  },
  {
   "cell_type": "code",
   "execution_count": null,
   "id": "25e1e75e",
   "metadata": {},
   "outputs": [],
   "source": []
  }
 ],
 "metadata": {
  "kernelspec": {
   "display_name": "Python 3 (ipykernel)",
   "language": "python",
   "name": "python3"
  },
  "language_info": {
   "codemirror_mode": {
    "name": "ipython",
    "version": 3
   },
   "file_extension": ".py",
   "mimetype": "text/x-python",
   "name": "python",
   "nbconvert_exporter": "python",
   "pygments_lexer": "ipython3",
   "version": "3.10.4"
  }
 },
 "nbformat": 4,
 "nbformat_minor": 5
}
