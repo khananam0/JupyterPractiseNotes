{
 "cells": [
  {
   "cell_type": "markdown",
   "id": "0701d03f",
   "metadata": {},
   "source": [
    "# Questions On Dictionary\n"
   ]
  },
  {
   "cell_type": "markdown",
   "id": "9a68f969",
   "metadata": {},
   "source": [
    "\n",
    ">1. Write a Python program to combine two dictionary adding values for common keys.\n",
    ">d1 = {'a': 100, 'b': 200, 'c':300}\n",
    ">d2 = {'a': 300, 'b': 200, 'd':400}\n",
    ">Sample output: Counter({'a': 400, 'b': 400, 'd': 400, 'c': 300})\n",
    ">\n"
   ]
  },
  {
   "cell_type": "code",
   "execution_count": 44,
   "id": "931d7cf3",
   "metadata": {},
   "outputs": [
    {
     "name": "stdout",
     "output_type": "stream",
     "text": [
      "{'a': 400, 'b': 400, 'c': 300, 'd': 400}\n"
     ]
    }
   ],
   "source": [
    "d1 = {'a': 100, 'b': 200, 'c':300} \n",
    "d2 = {'a': 300, 'b': 200, 'd':400}\n",
    "d3 = dict(d1)\n",
    "# print(d3)\n",
    "d3.update(d2)\n",
    "# print(d3)\n",
    "\n",
    "for i,j in d1.items():\n",
    "    for a,b in d2.items():\n",
    "        if i==a:\n",
    "            d3[i]=j+b\n",
    "print(d3)"
   ]
  },
  {
   "cell_type": "code",
   "execution_count": 45,
   "id": "172ca0d0",
   "metadata": {},
   "outputs": [
    {
     "name": "stdout",
     "output_type": "stream",
     "text": [
      "Counter({'a': 400, 'b': 400, 'd': 400, 'c': 300})\n"
     ]
    }
   ],
   "source": [
    "# for Q1\n",
    "from collections import Counter\n",
    "d1={'a': 100, 'b': 200, 'c':300} \n",
    "d2={'a': 300, 'b': 200, 'd':400}\n",
    "d3=Counter(d1)+Counter(d2)\n",
    "print(d3)"
   ]
  },
  {
   "cell_type": "markdown",
   "id": "5b70de5b",
   "metadata": {},
   "source": [
    "\n",
    ">2. Write a Python program to print all unique values in a dictionary. \n",
    ">Sample Data : [{\"V\":\"S001\"}, {\"V\": \"S002\"}, {\"VI\": \"S001\"}, {\"VI\": \"S005\"}, {\"VII\":\"S005\"}, {\"V\":\"S009\"},{\"VIII\":\"S007\"}]\n",
    ">Expected Output : Unique Values: {'S005', 'S002', 'S007', 'S001', 'S009'}\n",
    ">\n"
   ]
  },
  {
   "cell_type": "code",
   "execution_count": 86,
   "id": "bd8bcc58",
   "metadata": {},
   "outputs": [
    {
     "name": "stdout",
     "output_type": "stream",
     "text": [
      "{'S007', 'S009', 'S002', 'S005', 'S001'}\n"
     ]
    }
   ],
   "source": [
    "sample_data= [{\"V\":\"S001\"}, {\"V\": \"S002\"}, {\"VI\": \"S001\"}, {\"VI\": \"S005\"}, {\"VII\":\"S005\"}, {\"V\":\"S009\"},{\"VIII\":\"S007\"}] \n",
    "dict=[]\n",
    "for a in sample_data:\n",
    "    for dic in a.values():\n",
    "        dict.append(dic)\n",
    "        \n",
    "print(set(dict))\n"
   ]
  },
  {
   "cell_type": "code",
   "execution_count": 87,
   "id": "b4549936",
   "metadata": {},
   "outputs": [
    {
     "name": "stdout",
     "output_type": "stream",
     "text": [
      "{'S007', 'S009', 'S002', 'S005', 'S001'}\n"
     ]
    }
   ],
   "source": [
    "# Q2\n",
    "sample_data= [{\"V\":\"S001\"}, {\"V\": \"S002\"}, {\"VI\": \"S001\"}, {\"VI\": \"S005\"}, {\"VII\":\"S005\"}, {\"V\":\"S009\"},{\"VIII\":\"S007\"}] \n",
    "data=set(val for i in sample_data for val in i.values())\n",
    "print(data)"
   ]
  },
  {
   "cell_type": "markdown",
   "id": "7aaaa544",
   "metadata": {},
   "source": [
    "\n",
    ">3. Write a Python program to create and display all combinations of letters, selecting each letter from a different key in a dictionary. \n",
    ">Sample data : {'1':['a','b'], '2':['c','d']}\n",
    ">Expected Output:\n",
    ">ac\n",
    ">ad\n",
    ">bc\n",
    ">bd\n",
    ">\n"
   ]
  },
  {
   "cell_type": "code",
   "execution_count": 179,
   "id": "a1994aca",
   "metadata": {},
   "outputs": [
    {
     "name": "stdout",
     "output_type": "stream",
     "text": [
      "ac ad bc bd "
     ]
    }
   ],
   "source": [
    "data= {'1':['a','b'], '2':['c','d']} \n",
    "l1=[]\n",
    "l2=[]\n",
    "l3=[]\n",
    "l4=[]\n",
    "for i in data.values():\n",
    "    l1.append(i)  \n",
    "# print(l1)\n",
    "\n",
    "val1=l1[0]\n",
    "l2.append(val1)\n",
    "# print(l2)\n",
    "\n",
    "d=l1[1]\n",
    "l3.append(d)\n",
    "# print(l3)\n",
    "\n",
    "for j in l2:\n",
    "    for l in j:     \n",
    "        for k in l3:\n",
    "            for m in k:\n",
    "                val=l+m\n",
    "                print(val,end=\" \")\n",
    "#                 l4.append(val)\n",
    "# print(l4)\n",
    "    "
   ]
  },
  {
   "cell_type": "code",
   "execution_count": 173,
   "id": "ef892a09",
   "metadata": {},
   "outputs": [
    {
     "name": "stdout",
     "output_type": "stream",
     "text": [
      "ac ad bc bd "
     ]
    }
   ],
   "source": [
    "# Q3\n",
    "data= {'1':['a','b'], '2':['c','d']} \n",
    "for x in data['1']:\n",
    "    for y in data['2']:\n",
    "        val=x+y\n",
    "        print(val,end=\" \")\n"
   ]
  },
  {
   "cell_type": "code",
   "execution_count": 187,
   "id": "00a6bdfa",
   "metadata": {},
   "outputs": [
    {
     "name": "stdout",
     "output_type": "stream",
     "text": [
      "1\n",
      "11\n",
      "12\n",
      "2\n",
      "21\n",
      "22\n"
     ]
    }
   ],
   "source": [
    "# Q3\n",
    "data= {'1':['a','b'], '2':['c','d']} \n",
    "for x in data.keys():\n",
    "#     print(x[0])\n",
    "    for y in data.keys():\n",
    "        c=x+y\n",
    "        print(c)"
   ]
  },
  {
   "cell_type": "markdown",
   "id": "d7c6089c",
   "metadata": {},
   "source": [
    "\n",
    ">4. Write a Python program to find the highest 3 values of corresponding keys in a dictionary. \n",
    "\n"
   ]
  },
  {
   "cell_type": "code",
   "execution_count": 24,
   "id": "be42fd58",
   "metadata": {},
   "outputs": [
    {
     "name": "stdout",
     "output_type": "stream",
     "text": [
      "{'E': 12, 'a': 14, 'd': 32, 'B': 65, 'c': 76}\n"
     ]
    }
   ],
   "source": [
    "values={\"a\":14,\"B\":65,\"c\":76,\"d\":32,\"E\":12}\n",
    "val={k:v for k,v in sorted(values.items(), key=lambda item: item[1] )}\n",
    "print(val)\n",
    "# a=1\n",
    "# while (a<=3):\n",
    "#     print(val[-a])\n",
    "#     a+=1"
   ]
  },
  {
   "cell_type": "code",
   "execution_count": 9,
   "id": "000b9cf1",
   "metadata": {},
   "outputs": [
    {
     "name": "stdout",
     "output_type": "stream",
     "text": [
      "76\n",
      "65\n",
      "32\n"
     ]
    }
   ],
   "source": [
    "# Q4\n",
    "val={\"a\":14,\"B\":65,\"c\":76,\"d\":32,\"E\":12}\n",
    "a=1\n",
    "while (a<=3):\n",
    "    print(sorted(val.values())[-a])\n",
    "    a=a+1\n"
   ]
  },
  {
   "cell_type": "code",
   "execution_count": 19,
   "id": "c5773581",
   "metadata": {},
   "outputs": [
    {
     "name": "stdout",
     "output_type": "stream",
     "text": [
      "('a', 14)\n",
      "('B', 65)\n",
      "('c', 76)\n",
      "('d', 32)\n",
      "('E', 12)\n"
     ]
    }
   ],
   "source": [
    "# Q4\n",
    "val={\"a\":14,\"B\":65,\"c\":76,\"d\":32,\"E\":12}\n",
    "n=3\n",
    "for i in (val.items()):\n",
    "    for j in i.values:\n",
    "        print()"
   ]
  },
  {
   "cell_type": "markdown",
   "id": "60dc1640",
   "metadata": {},
   "source": [
    "\n",
    ">5. Write a Python program to combine values in python list of dictionaries.\n",
    ">Sample data: [{'item': 'item1', 'amount': 400}, {'item': 'item2', 'amount': 300}, {'item': 'item1', 'amount': 750}]\n",
    ">Expected Output: Counter({'item1': 1150, 'item2': 300})\n",
    ">\n"
   ]
  },
  {
   "cell_type": "code",
   "execution_count": 28,
   "id": "750f208a",
   "metadata": {},
   "outputs": [
    {
     "name": "stdout",
     "output_type": "stream",
     "text": [
      "item\n",
      "amount\n",
      "item\n",
      "amount\n",
      "item\n",
      "amount\n"
     ]
    }
   ],
   "source": [
    "Sampledata = [{'item': 'item1', 'amount': 400}, {'item': 'item2', 'amount': 300}, {'item': 'item1', 'amount': 750}] \n",
    "for sample in Sampledata:\n",
    "#     print(sample)\n",
    "    for i,j in sample.items():\n",
    "        print(i)\n",
    "#         print(i,j)\n",
    "\n"
   ]
  },
  {
   "cell_type": "code",
   "execution_count": 6,
   "id": "57964502",
   "metadata": {},
   "outputs": [
    {
     "name": "stdout",
     "output_type": "stream",
     "text": [
      "{'item1': 1150, 'item2': 300}\n"
     ]
    }
   ],
   "source": [
    "a=[{'item': 'item1', 'amount': 400}, {'item': 'item2', 'amount': 300}, {'item': 'item1', 'amount': 750}]    \n",
    "cp={}\n",
    "for i in a:\n",
    "#     print(i['item'])\n",
    "    if i['item'] not in cp:\n",
    "        cp[i['item']] = i['amount']\n",
    "    else:\n",
    "#         cp[i['item']]=cp[i['item']]+i['amount']\n",
    "#         print(cp[i['item']])\n",
    "        cp[i['item']] += i['amount'] \n",
    "        \n",
    "print(cp)"
   ]
  },
  {
   "cell_type": "markdown",
   "id": "88f8e62c",
   "metadata": {},
   "source": [
    "\n",
    ">6. Write a Python program to create a dictionary from a string.\n",
    ">Note: Track the count of the letters from the string.\n",
    ">Sample string : 'w3resource'\n",
    ">Expected output: {'w': 1, '3': 1, 'r': 2, 'e': 2, 's': 1, 'o': 1, 'u': 1, 'c': 1}\n",
    ">\n"
   ]
  },
  {
   "cell_type": "code",
   "execution_count": 17,
   "id": "9ec8330c",
   "metadata": {},
   "outputs": [
    {
     "name": "stdout",
     "output_type": "stream",
     "text": [
      "{'w': 1, '3': 1, 'r': 2, 'e': 2, 's': 1, 'o': 1, 'u': 1, 'c': 1}\n"
     ]
    }
   ],
   "source": [
    "a=\"w3resource\"\n",
    "dic={}\n",
    "count=0\n",
    "for i in a:\n",
    "    if i not in dic:\n",
    "        dic[i] = count+1\n",
    "    else:\n",
    "        dic[i]+=count+1\n",
    "print(dic)\n",
    "\n",
    "\n"
   ]
  },
  {
   "cell_type": "markdown",
   "id": "acf1009d",
   "metadata": {},
   "source": [
    "\n",
    ">7. Write a Python program to print a dictionary in table format.\n",
    ">Click me to see the sample solution\n",
    ">\n"
   ]
  },
  {
   "cell_type": "code",
   "execution_count": 29,
   "id": "d575c707",
   "metadata": {},
   "outputs": [
    {
     "name": "stdout",
     "output_type": "stream",
     "text": [
      "C1 C2 C3\n",
      "1 5 9\n",
      "2 6 10\n",
      "3 7 11\n"
     ]
    }
   ],
   "source": [
    "my_dict = {'C1':[1,2,3],'C2':[5,6,7],'C3':[9,10,11]}\n",
    "for row in zip(*([key] + (value) for key, value in sorted(my_dict.items()))):\n",
    "    print(*row)\n",
    " "
   ]
  },
  {
   "cell_type": "markdown",
   "id": "1cbff137",
   "metadata": {},
   "source": [
    "\n",
    ">8. Write a Python program to count the values associated with key in a dictionary. \n",
    ">Expected Output:\n",
    ">6\n",
    ">2\n"
   ]
  },
  {
   "cell_type": "code",
   "execution_count": 30,
   "id": "5fc8a5c5",
   "metadata": {},
   "outputs": [
    {
     "name": "stdout",
     "output_type": "stream",
     "text": [
      "6\n",
      "2\n"
     ]
    }
   ],
   "source": [
    "student = [{'id': 1, 'success': True, 'name': 'Lary'},\n",
    " {'id': 2, 'success': False, 'name': 'Rabi'},\n",
    " {'id': 3, 'success': True, 'name': 'Alex'}]\n",
    "print(sum(d['id'] for d in student))\n",
    "print(sum(d['success'] for d in student))"
   ]
  },
  {
   "cell_type": "code",
   "execution_count": 36,
   "id": "aa427a04",
   "metadata": {},
   "outputs": [
    {
     "name": "stdout",
     "output_type": "stream",
     "text": [
      "4\n",
      "2\n"
     ]
    }
   ],
   "source": [
    "val=[{\"name\":1,\"age\":True,\"no\":13},{\"name\":2,\"age\":True,\"no\":13},{\"name\":1,\"age\":False,\"no\":13},]\n",
    "print(sum(i[\"name\"] for i in val))\n",
    "print(sum(i[\"age\"] for i in val))"
   ]
  },
  {
   "cell_type": "markdown",
   "id": "7930568e",
   "metadata": {},
   "source": [
    "\n",
    ">9. Write a Python program to convert a list into a nested dictionary of keys. \n"
   ]
  },
  {
   "cell_type": "code",
   "execution_count": 16,
   "id": "aada76a1",
   "metadata": {},
   "outputs": [
    {
     "name": "stdout",
     "output_type": "stream",
     "text": [
      "{1: {2: {3: {}}}}\n"
     ]
    }
   ],
   "source": [
    "lst=[1,2,3]\n",
    "new=dic={}\n",
    "# dic={}\n",
    "for i in lst:\n",
    "    dic[i]={}\n",
    "#     print(dic)\n",
    "    dic=dic[i]\n",
    "#     print(new)\n",
    "print(new)"
   ]
  },
  {
   "cell_type": "markdown",
   "id": "a201474c",
   "metadata": {},
   "source": [
    "\n",
    ">10. Write a Python program to sort a list alphabetically in a dictionary.\n"
   ]
  },
  {
   "cell_type": "code",
   "execution_count": 14,
   "id": "07b42522",
   "metadata": {},
   "outputs": [
    {
     "name": "stdout",
     "output_type": "stream",
     "text": [
      "{'a': [1, 2], 'b': [3, 4]}\n"
     ]
    }
   ],
   "source": [
    "# dic={\"Cat\":45,\"Apple\":23,\"Dog\":15,\"Ballon\":32}\n",
    "# print(sorted(dic))\n",
    "# lst=[\"Cat\",\"Ballon\",\"Dog\",\"Apple\"]\n",
    "# dicti={}\n",
    "# for i in lst:\n",
    "#     if i>lst:\n",
    "#         print(i)\n",
    "#     if i not in dicti:\n",
    "#         dicti[i]=i\n",
    "\n",
    "dic={\"a\":[1,2],\"b\":[3,4]}\n",
    "print(dic)\n",
    "\n"
   ]
  },
  {
   "cell_type": "markdown",
   "id": "c37813c7",
   "metadata": {},
   "source": [
    "\n",
    ">11. Write a Python program to create a dictionary from two lists without losing duplicate values.\n",
    ">Sample lists: ['Class-V', 'Class-VI', 'Class-VII', 'Class-VIII'], [1, 2, 2, 3]\n",
    ">Expected Output: defaultdict(<class 'set'>, {'Class-V': {1}, 'Class-VI': {2}, 'Class-VII': {2}, 'Class-VIII': {3}})\n"
   ]
  },
  {
   "cell_type": "code",
   "execution_count": 103,
   "id": "cc2cd48c",
   "metadata": {},
   "outputs": [
    {
     "ename": "TypeError",
     "evalue": "can only concatenate str (not \"int\") to str",
     "output_type": "error",
     "traceback": [
      "\u001b[1;31m---------------------------------------------------------------------------\u001b[0m",
      "\u001b[1;31mTypeError\u001b[0m                                 Traceback (most recent call last)",
      "Input \u001b[1;32mIn [103]\u001b[0m, in \u001b[0;36m<cell line: 5>\u001b[1;34m()\u001b[0m\n\u001b[0;32m      6\u001b[0m     \u001b[38;5;28;01mfor\u001b[39;00m j \u001b[38;5;129;01min\u001b[39;00m list2:   \n\u001b[0;32m      7\u001b[0m         dic[i]\u001b[38;5;241m=\u001b[39m{j}\n\u001b[1;32m----> 8\u001b[0m         i\u001b[38;5;241m+\u001b[39m\u001b[38;5;241m=\u001b[39m\u001b[38;5;241m1\u001b[39m\n\u001b[0;32m      9\u001b[0m \u001b[38;5;28mprint\u001b[39m(dic)\n",
      "\u001b[1;31mTypeError\u001b[0m: can only concatenate str (not \"int\") to str"
     ]
    }
   ],
   "source": [
    "list1 = ['Class-V', 'Class-VI', 'Class-VII', 'Class-VIII']\n",
    "list2 = [1, 2, 2, 3] \n",
    "dic={}\n",
    "\n",
    "for i in list1:\n",
    "    for j in list2:   \n",
    "        dic[i]={j}\n",
    "        i+=1\n",
    "print(dic)\n",
    "\n",
    "# j=0\n",
    "# for i in list1:\n",
    "#     for j in list2:\n",
    "#         dic[i]={j}\n",
    "        \n",
    "        \n",
    "# print(dic[i])\n",
    "\n",
    "\n"
   ]
  },
  {
   "cell_type": "markdown",
   "id": "1c3e6d52",
   "metadata": {},
   "source": [
    "\n",
    ">12. Write a Python program to replace dictionary values with their average.\n"
   ]
  },
  {
   "cell_type": "code",
   "execution_count": null,
   "id": "637e21dd",
   "metadata": {},
   "outputs": [],
   "source": []
  },
  {
   "cell_type": "code",
   "execution_count": 12,
   "id": "de316271",
   "metadata": {},
   "outputs": [
    {
     "name": "stdout",
     "output_type": "stream",
     "text": [
      "1\n",
      "2\n",
      "3\n",
      "4\n",
      "5\n",
      "6\n",
      "7\n",
      "8\n",
      "9\n",
      "10\n",
      "11\n",
      "12\n",
      "13\n",
      "14\n",
      "15\n",
      "16\n",
      "17\n",
      "18\n",
      "19\n",
      "20\n",
      "21\n",
      "22\n",
      "23\n",
      "24\n",
      "25\n",
      "26\n",
      "27\n",
      "28\n",
      "29\n",
      "30\n"
     ]
    }
   ],
   "source": [
    "x=0\n",
    "for i in range(10):\n",
    "    for j in range(3):\n",
    "        x=x+1\n",
    "        print(x)\n",
    "    print(x)"
   ]
  },
  {
   "cell_type": "code",
   "execution_count": null,
   "id": "6a129527",
   "metadata": {},
   "outputs": [],
   "source": []
  }
 ],
 "metadata": {
  "kernelspec": {
   "display_name": "Python 3 (ipykernel)",
   "language": "python",
   "name": "python3"
  },
  "language_info": {
   "codemirror_mode": {
    "name": "ipython",
    "version": 3
   },
   "file_extension": ".py",
   "mimetype": "text/x-python",
   "name": "python",
   "nbconvert_exporter": "python",
   "pygments_lexer": "ipython3",
   "version": "3.10.4"
  }
 },
 "nbformat": 4,
 "nbformat_minor": 5
}
