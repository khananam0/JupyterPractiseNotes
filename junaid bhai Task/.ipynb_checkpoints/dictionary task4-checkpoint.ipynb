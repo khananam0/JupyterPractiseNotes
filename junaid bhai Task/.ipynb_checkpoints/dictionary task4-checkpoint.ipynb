{
 "cells": [
  {
   "cell_type": "markdown",
   "id": "dbd0273c",
   "metadata": {},
   "source": [
    "Continue------\n",
    "f. To create a dictionary with any five key value pair . print the \n",
    "dictionary . Add an element in a given dictionary and delete an \n",
    "element"
   ]
  },
  {
   "cell_type": "code",
   "execution_count": 4,
   "id": "9bdd7b0d",
   "metadata": {},
   "outputs": [
    {
     "name": "stdout",
     "output_type": "stream",
     "text": [
      "{'name': 'Anam', 'roll_no': 9, 'year': 1999, 'colors': ['red', 'white', 'purple'], 'fav': ('apple', 786)}\n",
      "{'name': 'Anam', 'roll_no': 9, 'year': 1999, 'colors': ['red', 'white', 'purple'], 'fav': ('apple', 786), 'flower': 'rose'}\n",
      "{'name': 'Anam', 'roll_no': 9, 'colors': ['red', 'white', 'purple'], 'fav': ('apple', 786), 'flower': 'rose'}\n"
     ]
    }
   ],
   "source": [
    "a={\"name\":\"Anam\",\"roll_no\":9,\"year\":1999,\"colors\":[\"red\",\"white\",\"purple\"],\"fav\":(\"apple\",786)}\n",
    "print(a)\n",
    "# Add Element\n",
    "a[\"flower\"]=\"rose\"\n",
    "print(a)\n",
    "# Delete\n",
    "del a[\"year\"]\n",
    "print(a)"
   ]
  },
  {
   "cell_type": "markdown",
   "id": "14cc18af",
   "metadata": {},
   "source": [
    "g. To create 2 dictionaries using dictionary comprehension method.\n"
   ]
  },
  {
   "cell_type": "code",
   "execution_count": 5,
   "id": "74691690",
   "metadata": {},
   "outputs": [
    {
     "name": "stdout",
     "output_type": "stream",
     "text": [
      "{2: 2, 4: 4, 6: 6, 8: 8}\n",
      "{2: 4, 4: 16, 6: 36, 8: 64}\n"
     ]
    }
   ],
   "source": [
    "a=[1,2,3,4,5,6,7,8,9]\n",
    "# b=[1,2,3,4,5,6,7,8,9]\n",
    "# a=input().split()\n",
    "even={c:c for c in a if c%2==0}\n",
    "print(even)\n",
    "\n",
    "odd={c:c**2 for c in a if c%2==0}\n",
    "print(odd)"
   ]
  },
  {
   "cell_type": "markdown",
   "id": "3fc954b6",
   "metadata": {},
   "source": [
    "h. To demonstrate any five methods on dictionary\n"
   ]
  },
  {
   "cell_type": "code",
   "execution_count": 16,
   "id": "60cf46cd",
   "metadata": {},
   "outputs": [
    {
     "name": "stdout",
     "output_type": "stream",
     "text": [
      "Anam\n",
      "Anam\n",
      "{'Name': 'Anam', 'Fav': 'White', 'language': 'Python'}\n",
      "{'Name': 'Anam', 'language': 'Python'}\n",
      "{'Name': 'Anam'}\n",
      "{}\n"
     ]
    }
   ],
   "source": [
    "dict={\"Name\":\"Anam\",\"Fav\":\"White\"}\n",
    "output=dict[\"Name\"]\n",
    "print(output)\n",
    "# Get method\n",
    "a=dict.get(\"Name\")\n",
    "print(a)\n",
    "\n",
    "# Update Method\n",
    "dict.update({\"language\":\"Python\"})\n",
    "print(dict)\n",
    "\n",
    "# Pop Method\n",
    "dict.pop(\"Fav\")\n",
    "print(dict)\n",
    "\n",
    "# PopItem\n",
    "dict.popitem()\n",
    "print(dict)\n",
    "\n",
    "# clear\n",
    "dict.clear()\n",
    "print(dict)"
   ]
  },
  {
   "cell_type": "markdown",
   "id": "2d631e1b",
   "metadata": {},
   "source": [
    "i. To demonstrate 5 methods of python data structure set .\n"
   ]
  },
  {
   "cell_type": "code",
   "execution_count": 33,
   "id": "f699481c",
   "metadata": {},
   "outputs": [
    {
     "name": "stdout",
     "output_type": "stream",
     "text": [
      "{7, 'd', 'a', 'c', 'b'}\n",
      "{7, 'd', 'a', 'b'}\n",
      "{'d', 'a', 'b'}\n",
      "{'z', 'a', 'x', 'w', 'b', 'd'}\n",
      "{'z', 'x', 's', 'w', 'e'}\n",
      "None\n"
     ]
    }
   ],
   "source": [
    "element={\"a\",\"b\",\"c\",\"d\"}\n",
    "# add method\n",
    "element.add(7)\n",
    "print(element)\n",
    "\n",
    "# remove method\n",
    "element.remove(\"c\")\n",
    "print(element)\n",
    "\n",
    "# pop method\n",
    "element.pop()\n",
    "print(element)\n",
    "\n",
    "# union method\n",
    "newele={\"x\",\"z\",\"w\"}\n",
    "new={\"s\",\"e\"}\n",
    "\n",
    "print(element.union(newele))\n",
    "print(newele.union(new))\n",
    "\n",
    "# clear\n",
    "print(element.clear())\n"
   ]
  },
  {
   "cell_type": "markdown",
   "id": "0f3a0a62",
   "metadata": {},
   "source": [
    "j. To implement caser cipher using dictionary"
   ]
  },
  {
   "cell_type": "code",
   "execution_count": null,
   "id": "57dd5017",
   "metadata": {},
   "outputs": [],
   "source": []
  }
 ],
 "metadata": {
  "kernelspec": {
   "display_name": "Python 3 (ipykernel)",
   "language": "python",
   "name": "python3"
  },
  "language_info": {
   "codemirror_mode": {
    "name": "ipython",
    "version": 3
   },
   "file_extension": ".py",
   "mimetype": "text/x-python",
   "name": "python",
   "nbconvert_exporter": "python",
   "pygments_lexer": "ipython3",
   "version": "3.10.4"
  }
 },
 "nbformat": 4,
 "nbformat_minor": 5
}
