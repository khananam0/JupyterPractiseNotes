{
 "cells": [
  {
   "cell_type": "code",
   "execution_count": 68,
   "id": "3f5451e8",
   "metadata": {},
   "outputs": [
    {
     "name": "stdout",
     "output_type": "stream",
     "text": [
      "['d', 'a', 'b', 'c']\n"
     ]
    }
   ],
   "source": [
    "a=[\"a\",\"b\",\"c\",\"d\"]\n",
    "for i in range(1):\n",
    "    rem=a.pop()\n",
    "    left=a\n",
    "    lst=list(rem)\n",
    "    value=lst+left\n",
    "    print(value)\n",
    "\n",
    "\n"
   ]
  },
  {
   "cell_type": "code",
   "execution_count": 71,
   "id": "fbeef166",
   "metadata": {},
   "outputs": [
    {
     "ename": "IndexError",
     "evalue": "string index out of range",
     "output_type": "error",
     "traceback": [
      "\u001b[1;31m---------------------------------------------------------------------------\u001b[0m",
      "\u001b[1;31mIndexError\u001b[0m                                Traceback (most recent call last)",
      "Input \u001b[1;32mIn [71]\u001b[0m, in \u001b[0;36m<cell line: 4>\u001b[1;34m()\u001b[0m\n\u001b[0;32m      4\u001b[0m \u001b[38;5;28;01mfor\u001b[39;00m b \u001b[38;5;129;01min\u001b[39;00m a:\n\u001b[0;32m      5\u001b[0m     new\u001b[38;5;241m=\u001b[39ma\u001b[38;5;241m.\u001b[39mfind(b)\u001b[38;5;241m+\u001b[39m\u001b[38;5;241m1\u001b[39m\n\u001b[1;32m----> 6\u001b[0m     e\u001b[38;5;241m+\u001b[39m\u001b[38;5;241m=\u001b[39m\u001b[43ma\u001b[49m\u001b[43m[\u001b[49m\u001b[43mnew\u001b[49m\u001b[43m]\u001b[49m\n\u001b[0;32m      7\u001b[0m \u001b[38;5;28mprint\u001b[39m(e)\n",
      "\u001b[1;31mIndexError\u001b[0m: string index out of range"
     ]
    }
   ],
   "source": [
    "a=(\"abcdef\")\n",
    "key=1\n",
    "e=\"\"\n",
    "for b in a:\n",
    "    new=a.find(b)+1\n",
    "    e+=a[new]\n",
    "print(e)\n",
    "    \n",
    "    "
   ]
  },
  {
   "cell_type": "code",
   "execution_count": 111,
   "id": "bce661f1",
   "metadata": {},
   "outputs": [
    {
     "name": "stdout",
     "output_type": "stream",
     "text": [
      "['a', 'b', 'c', 'd', 'e', 'f']\n",
      "['f', 'a', 'b', 'c', 'd', 'e']\n",
      "['d', 'e', 'f', 'a', 'b', 'c']\n"
     ]
    }
   ],
   "source": [
    "var=\"abcdef\"\n",
    "\n",
    "# for i in range(1):\n",
    "print(list(var))\n",
    "new=var[-1]+var[:-1]\n",
    "val=new[-2:]+new[:-2]\n",
    "print(list(new))\n",
    "print(list(val))"
   ]
  },
  {
   "cell_type": "code",
   "execution_count": 101,
   "id": "bda168d8",
   "metadata": {},
   "outputs": [
    {
     "name": "stdout",
     "output_type": "stream",
     "text": [
      "cd\n"
     ]
    }
   ],
   "source": [
    "a=\"abcd\"\n",
    "new=a[3]+a[:3]\n",
    "# val=a[2:]+a[:2]\n",
    "val=a[-2:]+a[:]\n",
    "\n",
    "print(val)\n",
    "# print(new)"
   ]
  },
  {
   "cell_type": "code",
   "execution_count": 113,
   "id": "fc48273d",
   "metadata": {},
   "outputs": [
    {
     "ename": "TypeError",
     "evalue": "'complex' object is not iterable",
     "output_type": "error",
     "traceback": [
      "\u001b[1;31m---------------------------------------------------------------------------\u001b[0m",
      "\u001b[1;31mTypeError\u001b[0m                                 Traceback (most recent call last)",
      "Input \u001b[1;32mIn [113]\u001b[0m, in \u001b[0;36m<cell line: 2>\u001b[1;34m()\u001b[0m\n\u001b[0;32m      1\u001b[0m a\u001b[38;5;241m=\u001b[39m\u001b[38;5;241m1\u001b[39m\u001b[38;5;241m+\u001b[39m\u001b[38;5;241m3\u001b[39mj\n\u001b[1;32m----> 2\u001b[0m \u001b[38;5;28;01mfor\u001b[39;00m i \u001b[38;5;129;01min\u001b[39;00m a:\n\u001b[0;32m      3\u001b[0m     \u001b[38;5;28mprint\u001b[39m(i)\n",
      "\u001b[1;31mTypeError\u001b[0m: 'complex' object is not iterable"
     ]
    }
   ],
   "source": [
    "a=1+3j\n",
    "for i in a:\n",
    "    print(i)"
   ]
  },
  {
   "cell_type": "code",
   "execution_count": 129,
   "id": "f3ab02ac",
   "metadata": {},
   "outputs": [
    {
     "name": "stdout",
     "output_type": "stream",
     "text": [
      "anam\n",
      "dqdp\n",
      "jjjj\n"
     ]
    }
   ],
   "source": [
    "val=(input().lower())\n",
    "alp=\"abcdefghijklmnopqrstuvwxyz\"\n",
    "key=3\n",
    "encrpyt=\"\"\n",
    "decrypt=\"\"\n",
    "for i in val:\n",
    "    a=(alp.find(i)+key)%26\n",
    "    encrpyt+=alp[a]\n",
    "print(encrpyt)\n",
    "\n",
    "for j in encrpyt:\n",
    "    b=(alp.find(i)-key)%26\n",
    "    decrypt+=alp[b]\n",
    "print(decrypt)\n",
    "    "
   ]
  },
  {
   "cell_type": "code",
   "execution_count": 125,
   "id": "14245cce",
   "metadata": {},
   "outputs": [
    {
     "name": "stdout",
     "output_type": "stream",
     "text": [
      "Anam\n",
      "anam\n"
     ]
    }
   ],
   "source": [
    "a=(input().lower())\n",
    "print(a)"
   ]
  },
  {
   "cell_type": "code",
   "execution_count": 6,
   "id": "9e91081b",
   "metadata": {},
   "outputs": [
    {
     "name": "stdout",
     "output_type": "stream",
     "text": [
      "anam\n"
     ]
    }
   ],
   "source": [
    "n=input()\n",
    "if if n%2!==0 or (n%2==0 or n in range(6,21)):\n",
    "        print(\"Weird\")\n",
    "    elif n%2!==0 and n in range()\n"
   ]
  },
  {
   "cell_type": "code",
   "execution_count": 11,
   "id": "872523da",
   "metadata": {},
   "outputs": [
    {
     "name": "stdout",
     "output_type": "stream",
     "text": [
      "k\n",
      "g\n"
     ]
    }
   ],
   "source": [
    "a=iter(\"kgf\")\n",
    "\n",
    "b=next(a)\n",
    "c=next(a)\n",
    "print((b))\n",
    "print(c)\n"
   ]
  },
  {
   "cell_type": "code",
   "execution_count": 40,
   "id": "03de12e2",
   "metadata": {},
   "outputs": [
    {
     "name": "stdout",
     "output_type": "stream",
     "text": [
      "5*1= 5\n",
      "5*2= 10\n",
      "5*3= 15\n",
      "5*4= 20\n",
      "5*5= 25\n",
      "5*6= 30\n",
      "5*7= 35\n",
      "5*8= 40\n",
      "5*9= 45\n",
      "5*10= 50\n"
     ]
    }
   ],
   "source": [
    "def multi(a):\n",
    "    for i in range(1,11):\n",
    "        c=a*i\n",
    "        print(f\"{a}*{i}=\",c)\n",
    "multi(5)\n",
    "# multi(6)"
   ]
  },
  {
   "cell_type": "code",
   "execution_count": 46,
   "id": "3325a473",
   "metadata": {},
   "outputs": [
    {
     "name": "stdout",
     "output_type": "stream",
     "text": [
      "The value <generator object mul at 0x0000020134357370>\n"
     ]
    }
   ],
   "source": [
    "def mul(a):\n",
    "    for i in range(1,10):\n",
    "        yield a*i\n",
    "\n",
    "m=mul(5)\n",
    "print(\"The value\",m)"
   ]
  },
  {
   "cell_type": "code",
   "execution_count": 45,
   "id": "1f84caf8",
   "metadata": {},
   "outputs": [
    {
     "ename": "NameError",
     "evalue": "name 'square' is not defined",
     "output_type": "error",
     "traceback": [
      "\u001b[1;31m---------------------------------------------------------------------------\u001b[0m",
      "\u001b[1;31mNameError\u001b[0m                                 Traceback (most recent call last)",
      "Input \u001b[1;32mIn [45]\u001b[0m, in \u001b[0;36m<cell line: 2>\u001b[1;34m()\u001b[0m\n\u001b[0;32m      1\u001b[0m \u001b[38;5;28;01mimport\u001b[39;00m \u001b[38;5;21;01mmath\u001b[39;00m\n\u001b[1;32m----> 2\u001b[0m var\u001b[38;5;241m=\u001b[39m\u001b[43msquare\u001b[49m(\u001b[38;5;241m4\u001b[39m)\n\u001b[0;32m      3\u001b[0m \u001b[38;5;28mprint\u001b[39m(var)\n",
      "\u001b[1;31mNameError\u001b[0m: name 'square' is not defined"
     ]
    }
   ],
   "source": [
    "import math\n",
    "var=square(4)\n",
    "print(var)"
   ]
  },
  {
   "cell_type": "code",
   "execution_count": 50,
   "id": "8d552780",
   "metadata": {},
   "outputs": [
    {
     "name": "stdout",
     "output_type": "stream",
     "text": [
      "1\n",
      "4\n",
      "9\n",
      "16\n",
      "25\n",
      "36\n",
      "49\n",
      "64\n",
      "81\n",
      "100\n"
     ]
    }
   ],
   "source": [
    "def square():\n",
    "    i=1\n",
    "    while True:\n",
    "        yield i*i\n",
    "        i+=1\n",
    "var=square()\n",
    "for i in var:\n",
    "    if i>100:\n",
    "        break\n",
    "    print(i)\n",
    "# var=square()\n",
    "# print(type(var))"
   ]
  },
  {
   "cell_type": "code",
   "execution_count": 56,
   "id": "47ef631c",
   "metadata": {},
   "outputs": [
    {
     "name": "stdout",
     "output_type": "stream",
     "text": [
      "Anam 20\n",
      "raza 34\n",
      "nabeel 25\n",
      "height 2\n"
     ]
    }
   ],
   "source": [
    "var={\"Anam\":20,\"raza\":34}\n",
    "var[\"nabeel\"]=\"25\"\n",
    "var.update({\"height\":2})\n",
    "for i,j in var.items():\n",
    "    print(i,j)"
   ]
  },
  {
   "cell_type": "markdown",
   "id": "64bbfddd",
   "metadata": {},
   "source": [
    "Use for loop to generate a list of numbers from 9 to 50 divisible by 2.\n",
    "\n"
   ]
  },
  {
   "cell_type": "code",
   "execution_count": 7,
   "id": "31c91984",
   "metadata": {},
   "outputs": [],
   "source": [
    "# for i in range(9,50,2):\n",
    "#     print(i)\n",
    "\n",
    "for i in range(9,50):\n",
    "    if i/2==0:\n",
    "        print(i)\n",
    "    else:\n",
    "        pass"
   ]
  },
  {
   "cell_type": "code",
   "execution_count": 8,
   "id": "cfc15122",
   "metadata": {},
   "outputs": [
    {
     "name": "stdout",
     "output_type": "stream",
     "text": [
      "Total number of m is: 2\n"
     ]
    }
   ],
   "source": [
    "name = \"mariya mennen\"\n",
    "count = 0\n",
    "for char in name:\n",
    "    if char != 'm':\n",
    "        continue\n",
    "    else:\n",
    "        count = count + 1\n",
    "\n",
    "print('Total number of m is:', count)"
   ]
  },
  {
   "cell_type": "code",
   "execution_count": 9,
   "id": "ddce5c41",
   "metadata": {},
   "outputs": [
    {
     "name": "stdout",
     "output_type": "stream",
     "text": [
      "Reverse numbers using for loop\n",
      "5\n",
      "4\n",
      "3\n",
      "2\n",
      "1\n",
      "0\n"
     ]
    }
   ],
   "source": [
    "print(\"Reverse numbers using for loop\")\n",
    "num = 5\n",
    "# start = 5\n",
    "# stop = -1\n",
    "# step = -1\n",
    "for num in (range(num, -1, -1)):\n",
    "    print(num)\n",
    " "
   ]
  },
  {
   "cell_type": "code",
   "execution_count": 1,
   "id": "c8ec0b6d",
   "metadata": {},
   "outputs": [
    {
     "name": "stdout",
     "output_type": "stream",
     "text": [
      "till-3\n"
     ]
    }
   ],
   "source": [
    "user=int(input(\"till-\"))\n",
    "# user1=int(input(\"table-\"))\n",
    "\n",
    "while user<3:\n",
    "    print(\"Multiplication\",user)\n",
    "    user+=1\n",
    "    count=1\n",
    "    while count<11:\n",
    "        print(count*i,end=\" \")\n",
    "        count+=1\n",
    "    print(\"\\n\")\n",
    "    \n",
    "    \n",
    "    "
   ]
  },
  {
   "cell_type": "code",
   "execution_count": null,
   "id": "e2a92e73",
   "metadata": {},
   "outputs": [],
   "source": []
  },
  {
   "cell_type": "code",
   "execution_count": null,
   "id": "cd48876e",
   "metadata": {},
   "outputs": [],
   "source": []
  }
 ],
 "metadata": {
  "kernelspec": {
   "display_name": "Python 3 (ipykernel)",
   "language": "python",
   "name": "python3"
  },
  "language_info": {
   "codemirror_mode": {
    "name": "ipython",
    "version": 3
   },
   "file_extension": ".py",
   "mimetype": "text/x-python",
   "name": "python",
   "nbconvert_exporter": "python",
   "pygments_lexer": "ipython3",
   "version": "3.10.4"
  }
 },
 "nbformat": 4,
 "nbformat_minor": 5
}
