{
 "cells": [
  {
   "cell_type": "markdown",
   "id": "a9847e3c",
   "metadata": {},
   "source": [
    "# List Questions\n"
   ]
  },
  {
   "cell_type": "markdown",
   "id": "196d4af9",
   "metadata": {},
   "source": [
    "# 1.To create 5 different list using list comprehension method.\n"
   ]
  },
  {
   "cell_type": "code",
   "execution_count": 8,
   "id": "42c17fb8",
   "metadata": {},
   "outputs": [
    {
     "name": "stdout",
     "output_type": "stream",
     "text": [
      "5\n",
      "[2, 4]\n",
      "[1, 3, 5]\n",
      "[1, 4, 9, 16, 25, 36]\n",
      "[1, 8, 27, 64, 125, 216]\n"
     ]
    }
   ],
   "source": [
    "user=int(input())\n",
    "        # EVEN\n",
    "even=[a for a in range(1,user) if a%2==0]\n",
    "print(even)\n",
    "        # ODD\n",
    "odd=[b for b in range(0,user+1) if b%2!=0]\n",
    "print(odd)\n",
    "\n",
    "s=[1,2,3,4,5,6]\n",
    "square=[c**2 for c in s]\n",
    "print(square)\n",
    "\n",
    "cube=[d**3 for d in s]\n",
    "print(cube)\n",
    "\n"
   ]
  },
  {
   "cell_type": "code",
   "execution_count": null,
   "id": "2c29276d",
   "metadata": {},
   "outputs": [],
   "source": [
    "a=[2,3,5]\n",
    "even="
   ]
  },
  {
   "cell_type": "code",
   "execution_count": null,
   "id": "8b2f8046",
   "metadata": {},
   "outputs": [],
   "source": []
  },
  {
   "cell_type": "markdown",
   "id": "257d8996",
   "metadata": {},
   "source": [
    "# 2.Create list , add random 25 numbers in list and print largest number of List"
   ]
  },
  {
   "cell_type": "code",
   "execution_count": 3,
   "id": "ca3aab79",
   "metadata": {},
   "outputs": [
    {
     "name": "stdout",
     "output_type": "stream",
     "text": [
      "22\n"
     ]
    }
   ],
   "source": [
    "# import random\n",
    "# a=[]\n",
    "# for i in range(5):\n",
    "#     n=random.randint(0,25)\n",
    "#     a.append(n)\n",
    "# print(a)\n",
    "# print(max(a))\n",
    "\n",
    "a=[15,3,25,22]\n",
    "for i in a:  #\n",
    "    for j in a[1:]:\n",
    "        if i>j:\n",
    "           m=i \n",
    "        else:\n",
    "            m=j\n",
    "print(m)"
   ]
  },
  {
   "cell_type": "code",
   "execution_count": 5,
   "id": "34271954",
   "metadata": {},
   "outputs": [
    {
     "name": "stdout",
     "output_type": "stream",
     "text": [
      "33\n"
     ]
    }
   ],
   "source": [
    "a=[7,13,33,15,3,25,22]\n",
    "max=a[0]\n",
    "for i in a:\n",
    "    if i>max:\n",
    "        max=i\n",
    "    else:\n",
    "        pass\n",
    "print(max)"
   ]
  },
  {
   "cell_type": "markdown",
   "id": "b640d369",
   "metadata": {},
   "source": [
    "# 3.To check whether a given number is present in list or not?\n"
   ]
  },
  {
   "cell_type": "code",
   "execution_count": 6,
   "id": "16a05de8",
   "metadata": {},
   "outputs": [
    {
     "name": "stdout",
     "output_type": "stream",
     "text": [
      "Fetch-3\n",
      "Present\n"
     ]
    }
   ],
   "source": [
    "a=[1,2,3,4]\n",
    "b=int(input(\"Fetch-\"))\n",
    "if b in a:\n",
    "    print(\"Present\")\n",
    "else:\n",
    "    print(\"Not Present\")"
   ]
  },
  {
   "cell_type": "markdown",
   "id": "b276a8d9",
   "metadata": {},
   "source": [
    "# 4.To demonstrate any 10 methods of List\n"
   ]
  },
  {
   "cell_type": "code",
   "execution_count": 18,
   "id": "073ffc01",
   "metadata": {},
   "outputs": [
    {
     "name": "stdout",
     "output_type": "stream",
     "text": [
      "[1, 2, 3]\n",
      "[1, 2, 3, 4]\n",
      "[1, 2, 3]\n",
      "[1, 2, 7, 3]\n",
      "[1, 2, 3, 7]\n",
      "[7, 3, 2, 1]\n",
      "7\n",
      "1\n",
      "[7, 3, 2, 1, 7, 4]\n"
     ]
    }
   ],
   "source": [
    "a=[1,2,3]\n",
    "# copy\n",
    "new=a.copy()\n",
    "print(new)\n",
    "# append\n",
    "a.append(4)\n",
    "print(a)\n",
    "# pop\n",
    "a.pop()\n",
    "print(a)\n",
    "# insert\n",
    "a.insert(2,7)\n",
    "print(a)\n",
    "# ascending\n",
    "a.sort()\n",
    "print(a)\n",
    "# reverse\n",
    "a.reverse()\n",
    "print(a)\n",
    "# min\n",
    "print(max(a))\n",
    "# max\n",
    "print(min(a))\n",
    "# extend\n",
    "b=[7,4]\n",
    "a.extend(b)\n",
    "print(a)\n"
   ]
  },
  {
   "cell_type": "markdown",
   "id": "e68ce84d",
   "metadata": {},
   "source": [
    "# 5.To add two list [ adding elements of list ]\n"
   ]
  },
  {
   "cell_type": "code",
   "execution_count": 7,
   "id": "ec7cfd11",
   "metadata": {},
   "outputs": [
    {
     "name": "stdout",
     "output_type": "stream",
     "text": [
      "[6, 7, 9]\n"
     ]
    }
   ],
   "source": [
    "a=[1,2,3]\n",
    "b=[5,5,6]\n",
    "c=[]\n",
    "for i in range(0,len(a)):\n",
    "    c.append(a[i]+b[i])\n",
    "print(c)\n",
    "\n",
    "# ls=zip(a,b)\n",
    "# print(list(ls))\n",
    "# for i,j in ls:\n",
    "#     d=(i+j)\n",
    "# print(d)\n"
   ]
  },
  {
   "cell_type": "markdown",
   "id": "d6765ea8",
   "metadata": {},
   "source": [
    "# 6.To implement a stack using a list\n"
   ]
  },
  {
   "cell_type": "code",
   "execution_count": null,
   "id": "a78904e1",
   "metadata": {},
   "outputs": [],
   "source": []
  },
  {
   "cell_type": "markdown",
   "id": "3920e6bf",
   "metadata": {},
   "source": [
    "# 7.To implement a game [Rock , Paper , Scissor ] using list .\n"
   ]
  },
  {
   "cell_type": "code",
   "execution_count": 29,
   "id": "f0f83147",
   "metadata": {},
   "outputs": [
    {
     "name": "stdout",
     "output_type": "stream",
     "text": [
      "Choose Any Option-Scissor\n",
      "Computers Choice is- Rock\n",
      "Rock Is The Winner\n"
     ]
    }
   ],
   "source": [
    "import random\n",
    "from random import choice\n",
    "game=[\"Rock\",\"Paper\",\"Scissor\"]\n",
    "person=input(\"Choose Any Option-\")\n",
    "comp=choice(game)\n",
    "print(\"Computers Choice is-\",comp)\n",
    "# print(comp)\n",
    "if((person==\"Rock\" and comp==\"Scissor\")or(comp==\"Rock\" and person==\"Scissor\")):\n",
    "    print(\"Rock Is The Winner\")\n",
    "elif((person==\"Paper\" and comp==\"Scissor\")or(comp==\"Paper\" and person==\"Scissor\")):\n",
    "    print(\"Scissor Is The Winner\")\n",
    "elif((person==\"Paper\" and comp==\"Rock\")or(comp==\"Paper\" and person==\"Rock\")):\n",
    "    print(\"Paper Is The Winner\")\n",
    "else:\n",
    "    print(\"Tie\")\n",
    "\n",
    "\n",
    "\n"
   ]
  },
  {
   "cell_type": "code",
   "execution_count": 6,
   "id": "1865a469",
   "metadata": {},
   "outputs": [
    {
     "name": "stdout",
     "output_type": "stream",
     "text": [
      "['k', 'h', 'a', 'n']\n"
     ]
    }
   ],
   "source": [
    "a=\"khan\"\n",
    "b=list(a)\n",
    "print(b)"
   ]
  },
  {
   "cell_type": "markdown",
   "id": "7b495656",
   "metadata": {},
   "source": [
    "# 8.To sort a given number list in ascending order using functions.\n"
   ]
  },
  {
   "cell_type": "code",
   "execution_count": 12,
   "id": "93e0e8e3",
   "metadata": {},
   "outputs": [
    {
     "name": "stdout",
     "output_type": "stream",
     "text": [
      "[1, 2, 3, 5, 6, 10]\n"
     ]
    }
   ],
   "source": [
    "a=[5,3,10,6,2,1]\n",
    "a.sort()\n",
    "print(a)"
   ]
  }
 ],
 "metadata": {
  "kernelspec": {
   "display_name": "Python 3 (ipykernel)",
   "language": "python",
   "name": "python3"
  },
  "language_info": {
   "codemirror_mode": {
    "name": "ipython",
    "version": 3
   },
   "file_extension": ".py",
   "mimetype": "text/x-python",
   "name": "python",
   "nbconvert_exporter": "python",
   "pygments_lexer": "ipython3",
   "version": "3.10.4"
  }
 },
 "nbformat": 4,
 "nbformat_minor": 5
}
